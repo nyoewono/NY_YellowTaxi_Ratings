{
 "cells": [
  {
   "cell_type": "code",
   "execution_count": 43,
   "metadata": {},
   "outputs": [],
   "source": [
    "import pandas as pd\n",
    "import numpy as np\n",
    "from sklearn.svm import LinearSVC\n",
    "from sklearn.ensemble import RandomForestClassifier\n",
    "from sklearn.tree import DecisionTreeRegressor, DecisionTreeClassifier\n",
    "from sklearn.model_selection import StratifiedShuffleSplit\n",
    "from sklearn.metrics import classification_report\n",
    "from sklearn.linear_model import SGDClassifier\n",
    "from sklearn.multiclass import OneVsRestClassifier\n",
    "from sklearn.model_selection import RandomizedSearchCV\n",
    "from statsmodels.formula.api import *\n",
    "from sklearn.metrics import mean_squared_error\n",
    "import matplotlib.pyplot as plt\n",
    "from pprint import pprint\n",
    "import time"
   ]
  },
  {
   "cell_type": "markdown",
   "metadata": {},
   "source": [
    "#### Classifying trip"
   ]
  },
  {
   "cell_type": "markdown",
   "metadata": {},
   "source": [
    "Proposed attribute:\n",
    "- RatecodeID\n",
    "- Estimated trip distance and time\n",
    "- Day and hour\n",
    "- Temperature and precipitation\n",
    "- destination"
   ]
  },
  {
   "cell_type": "code",
   "execution_count": 7,
   "metadata": {},
   "outputs": [],
   "source": [
    "def equal_sample(data, att, n):\n",
    "    lst_data = []\n",
    "    unique_att = data[att].unique()\n",
    "    for each_label in unique_att:\n",
    "        lst_data.append(data[data[att]==each_label].sample(n=n))\n",
    "    samples = lst_data[0]\n",
    "    for each_data in lst_data[1:]:\n",
    "        samples = pd.concat([samples, each_data])\n",
    "    return samples"
   ]
  },
  {
   "cell_type": "code",
   "execution_count": 44,
   "metadata": {},
   "outputs": [],
   "source": [
    "# open data\n",
    "X_train = pd.read_feather('X_train.feather')\n",
    "X_test = pd.read_feather('X_test.feather')"
   ]
  },
  {
   "cell_type": "code",
   "execution_count": 45,
   "metadata": {},
   "outputs": [
    {
     "data": {
      "text/plain": [
       "(10291258, 14)"
      ]
     },
     "execution_count": 45,
     "metadata": {},
     "output_type": "execute_result"
    }
   ],
   "source": [
    "X_train.shape"
   ]
  },
  {
   "cell_type": "code",
   "execution_count": 46,
   "metadata": {},
   "outputs": [
    {
     "data": {
      "text/plain": [
       "(5132810, 15)"
      ]
     },
     "execution_count": 46,
     "metadata": {},
     "output_type": "execute_result"
    }
   ],
   "source": [
    "X_test.shape"
   ]
  },
  {
   "cell_type": "code",
   "execution_count": 194,
   "metadata": {},
   "outputs": [],
   "source": [
    "X_train.drop(labels=['date', 'PULocationID', 'DOLocationID', 'fare_amount', 'misc_amount'], axis=1, inplace = True)\n",
    "X_test.drop(labels=['date', 'PULocationID', 'DOLocationID', 'fare_amount', 'misc_amount'], axis=1, inplace = True)"
   ]
  },
  {
   "cell_type": "code",
   "execution_count": 21,
   "metadata": {},
   "outputs": [],
   "source": [
    "target_names = ['1', '2', '3', '4']"
   ]
  },
  {
   "cell_type": "code",
   "execution_count": 6,
   "metadata": {},
   "outputs": [
    {
     "data": {
      "text/html": [
       "<div>\n",
       "<style scoped>\n",
       "    .dataframe tbody tr th:only-of-type {\n",
       "        vertical-align: middle;\n",
       "    }\n",
       "\n",
       "    .dataframe tbody tr th {\n",
       "        vertical-align: top;\n",
       "    }\n",
       "\n",
       "    .dataframe thead th {\n",
       "        text-align: right;\n",
       "    }\n",
       "</style>\n",
       "<table border=\"1\" class=\"dataframe\">\n",
       "  <thead>\n",
       "    <tr style=\"text-align: right;\">\n",
       "      <th></th>\n",
       "      <th>RatecodeID</th>\n",
       "      <th>hour</th>\n",
       "      <th>trip_distance</th>\n",
       "      <th>time</th>\n",
       "      <th>cluster_trip</th>\n",
       "      <th>day_of_week</th>\n",
       "      <th>precip</th>\n",
       "      <th>temp</th>\n",
       "      <th>destination</th>\n",
       "    </tr>\n",
       "  </thead>\n",
       "  <tbody>\n",
       "    <tr>\n",
       "      <th>0</th>\n",
       "      <td>1.0</td>\n",
       "      <td>10</td>\n",
       "      <td>1.270000</td>\n",
       "      <td>0.121389</td>\n",
       "      <td>1</td>\n",
       "      <td>1</td>\n",
       "      <td>0.0</td>\n",
       "      <td>14.0</td>\n",
       "      <td>1</td>\n",
       "    </tr>\n",
       "    <tr>\n",
       "      <th>1</th>\n",
       "      <td>5.0</td>\n",
       "      <td>10</td>\n",
       "      <td>21.090000</td>\n",
       "      <td>0.603056</td>\n",
       "      <td>2</td>\n",
       "      <td>1</td>\n",
       "      <td>0.0</td>\n",
       "      <td>14.0</td>\n",
       "      <td>2</td>\n",
       "    </tr>\n",
       "    <tr>\n",
       "      <th>2</th>\n",
       "      <td>1.0</td>\n",
       "      <td>4</td>\n",
       "      <td>1.100000</td>\n",
       "      <td>0.109722</td>\n",
       "      <td>2</td>\n",
       "      <td>1</td>\n",
       "      <td>0.0</td>\n",
       "      <td>11.0</td>\n",
       "      <td>3</td>\n",
       "    </tr>\n",
       "    <tr>\n",
       "      <th>3</th>\n",
       "      <td>1.0</td>\n",
       "      <td>2</td>\n",
       "      <td>9.610000</td>\n",
       "      <td>0.471389</td>\n",
       "      <td>2</td>\n",
       "      <td>1</td>\n",
       "      <td>0.0</td>\n",
       "      <td>7.0</td>\n",
       "      <td>4</td>\n",
       "    </tr>\n",
       "    <tr>\n",
       "      <th>4</th>\n",
       "      <td>1.0</td>\n",
       "      <td>7</td>\n",
       "      <td>7.020000</td>\n",
       "      <td>0.353056</td>\n",
       "      <td>1</td>\n",
       "      <td>1</td>\n",
       "      <td>0.0</td>\n",
       "      <td>13.0</td>\n",
       "      <td>4</td>\n",
       "    </tr>\n",
       "    <tr>\n",
       "      <th>...</th>\n",
       "      <td>...</td>\n",
       "      <td>...</td>\n",
       "      <td>...</td>\n",
       "      <td>...</td>\n",
       "      <td>...</td>\n",
       "      <td>...</td>\n",
       "      <td>...</td>\n",
       "      <td>...</td>\n",
       "      <td>...</td>\n",
       "    </tr>\n",
       "    <tr>\n",
       "      <th>10291253</th>\n",
       "      <td>1.0</td>\n",
       "      <td>12</td>\n",
       "      <td>44.700000</td>\n",
       "      <td>1.667222</td>\n",
       "      <td>1</td>\n",
       "      <td>5</td>\n",
       "      <td>0.0</td>\n",
       "      <td>27.0</td>\n",
       "      <td>20950</td>\n",
       "    </tr>\n",
       "    <tr>\n",
       "      <th>10291254</th>\n",
       "      <td>1.0</td>\n",
       "      <td>19</td>\n",
       "      <td>1.660000</td>\n",
       "      <td>0.361111</td>\n",
       "      <td>2</td>\n",
       "      <td>5</td>\n",
       "      <td>0.0</td>\n",
       "      <td>23.0</td>\n",
       "      <td>20950</td>\n",
       "    </tr>\n",
       "    <tr>\n",
       "      <th>10291255</th>\n",
       "      <td>1.0</td>\n",
       "      <td>12</td>\n",
       "      <td>13.790000</td>\n",
       "      <td>0.551389</td>\n",
       "      <td>1</td>\n",
       "      <td>5</td>\n",
       "      <td>0.0</td>\n",
       "      <td>27.0</td>\n",
       "      <td>26563</td>\n",
       "    </tr>\n",
       "    <tr>\n",
       "      <th>10291256</th>\n",
       "      <td>1.0</td>\n",
       "      <td>19</td>\n",
       "      <td>4.850000</td>\n",
       "      <td>0.178611</td>\n",
       "      <td>2</td>\n",
       "      <td>5</td>\n",
       "      <td>0.0</td>\n",
       "      <td>23.0</td>\n",
       "      <td>26563</td>\n",
       "    </tr>\n",
       "    <tr>\n",
       "      <th>10291257</th>\n",
       "      <td>1.0</td>\n",
       "      <td>13</td>\n",
       "      <td>1.906667</td>\n",
       "      <td>0.148981</td>\n",
       "      <td>1</td>\n",
       "      <td>5</td>\n",
       "      <td>0.0</td>\n",
       "      <td>27.0</td>\n",
       "      <td>8778</td>\n",
       "    </tr>\n",
       "  </tbody>\n",
       "</table>\n",
       "<p>10291258 rows × 9 columns</p>\n",
       "</div>"
      ],
      "text/plain": [
       "          RatecodeID  hour  trip_distance      time  cluster_trip  \\\n",
       "0                1.0    10       1.270000  0.121389             1   \n",
       "1                5.0    10      21.090000  0.603056             2   \n",
       "2                1.0     4       1.100000  0.109722             2   \n",
       "3                1.0     2       9.610000  0.471389             2   \n",
       "4                1.0     7       7.020000  0.353056             1   \n",
       "...              ...   ...            ...       ...           ...   \n",
       "10291253         1.0    12      44.700000  1.667222             1   \n",
       "10291254         1.0    19       1.660000  0.361111             2   \n",
       "10291255         1.0    12      13.790000  0.551389             1   \n",
       "10291256         1.0    19       4.850000  0.178611             2   \n",
       "10291257         1.0    13       1.906667  0.148981             1   \n",
       "\n",
       "          day_of_week  precip  temp  destination  \n",
       "0                   1     0.0  14.0            1  \n",
       "1                   1     0.0  14.0            2  \n",
       "2                   1     0.0  11.0            3  \n",
       "3                   1     0.0   7.0            4  \n",
       "4                   1     0.0  13.0            4  \n",
       "...               ...     ...   ...          ...  \n",
       "10291253            5     0.0  27.0        20950  \n",
       "10291254            5     0.0  23.0        20950  \n",
       "10291255            5     0.0  27.0        26563  \n",
       "10291256            5     0.0  23.0        26563  \n",
       "10291257            5     0.0  27.0         8778  \n",
       "\n",
       "[10291258 rows x 9 columns]"
      ]
     },
     "execution_count": 6,
     "metadata": {},
     "output_type": "execute_result"
    }
   ],
   "source": [
    "plt.figure(figsize=(8, 6))\n",
    "plt.plot()"
   ]
  },
  {
   "cell_type": "code",
   "execution_count": 195,
   "metadata": {},
   "outputs": [],
   "source": [
    "# split the train into validation and train\n",
    "X = X_train[['RatecodeID', 'hour', 'trip_distance', 'time', 'day_of_week', 'precip', 'temp', 'destination']]\n",
    "y = X_train[['cluster_trip']]\n",
    "sss = StratifiedShuffleSplit(n_splits=1, test_size=0.25, random_state=42)\n",
    "sss.get_n_splits(X, y)\n",
    "for train_index, val_index in sss.split(X, y):\n",
    "    X_train, X_val = X.loc[list(train_index), :], X.loc[list(val_index), :]\n",
    "    y_train, y_val = y.loc[list(train_index), :], y.loc[list(val_index), :]\n",
    "    \n",
    "#X_train, X_val, y_train, y_val = train_test_split(X, y, test_size=0.25, random_state=42)"
   ]
  },
  {
   "cell_type": "code",
   "execution_count": 5,
   "metadata": {},
   "outputs": [
    {
     "data": {
      "text/plain": [
       "2    5439983\n",
       "1    1725397\n",
       "3     552020\n",
       "4       1043\n",
       "Name: cluster_trip, dtype: int64"
      ]
     },
     "execution_count": 5,
     "metadata": {},
     "output_type": "execute_result"
    }
   ],
   "source": [
    "y_train['cluster_trip'].value_counts()"
   ]
  },
  {
   "cell_type": "code",
   "execution_count": 6,
   "metadata": {},
   "outputs": [
    {
     "data": {
      "text/plain": [
       "2    1813328\n",
       "1     575132\n",
       "3     184007\n",
       "4        348\n",
       "Name: cluster_trip, dtype: int64"
      ]
     },
     "execution_count": 6,
     "metadata": {},
     "output_type": "execute_result"
    }
   ],
   "source": [
    "y_val['cluster_trip'].value_counts()"
   ]
  },
  {
   "cell_type": "markdown",
   "metadata": {},
   "source": [
    "### Baseline 0 R"
   ]
  },
  {
   "cell_type": "markdown",
   "metadata": {},
   "source": [
    "By looking at the y_train, the most famous trip is trip 2; hence predict this"
   ]
  },
  {
   "cell_type": "code",
   "execution_count": 39,
   "metadata": {},
   "outputs": [
    {
     "name": "stdout",
     "output_type": "stream",
     "text": [
      "Accuracy: 70.48\n"
     ]
    }
   ],
   "source": [
    "print('Accuracy:', round((1813328/len(y_val))*100, 2))"
   ]
  },
  {
   "cell_type": "markdown",
   "metadata": {},
   "source": [
    "### Decision Tree Classifier"
   ]
  },
  {
   "cell_type": "markdown",
   "metadata": {},
   "source": [
    "Simple Implementation without parameter tuning"
   ]
  },
  {
   "cell_type": "code",
   "execution_count": 28,
   "metadata": {},
   "outputs": [
    {
     "data": {
      "text/plain": [
       "DecisionTreeClassifier()"
      ]
     },
     "execution_count": 28,
     "metadata": {},
     "output_type": "execute_result"
    }
   ],
   "source": [
    "dt = DecisionTreeClassifier()\n",
    "dt.fit(X_train, y_train)"
   ]
  },
  {
   "cell_type": "code",
   "execution_count": 30,
   "metadata": {},
   "outputs": [
    {
     "name": "stdout",
     "output_type": "stream",
     "text": [
      "Accuracy: 0.0\n"
     ]
    },
    {
     "name": "stderr",
     "output_type": "stream",
     "text": [
      "/usr/local/lib/python3.6/dist-packages/ipykernel_launcher.py:2: DeprecationWarning: elementwise comparison failed; this will raise an error in the future.\n",
      "  \n"
     ]
    }
   ],
   "source": [
    "y_pred = dt.predict(X_val)"
   ]
  },
  {
   "cell_type": "code",
   "execution_count": 40,
   "metadata": {},
   "outputs": [
    {
     "name": "stdout",
     "output_type": "stream",
     "text": [
      "              precision    recall  f1-score   support\n",
      "\n",
      "           1       0.38      0.40      0.39    575132\n",
      "           2       0.75      0.74      0.75   1813328\n",
      "           3       0.35      0.37      0.36    184007\n",
      "           4       0.25      0.26      0.26       348\n",
      "\n",
      "    accuracy                           0.64   2572815\n",
      "   macro avg       0.43      0.44      0.44   2572815\n",
      "weighted avg       0.64      0.64      0.64   2572815\n",
      "\n"
     ]
    }
   ],
   "source": [
    "target_names = ['1', '2', '3', '4']\n",
    "print(classification_report(y_val, y_pred, target_names=target_names))"
   ]
  },
  {
   "cell_type": "code",
   "execution_count": 6,
   "metadata": {},
   "outputs": [],
   "source": [
    "features = list(X_train.columns)"
   ]
  },
  {
   "cell_type": "code",
   "execution_count": 57,
   "metadata": {},
   "outputs": [
    {
     "name": "stdout",
     "output_type": "stream",
     "text": [
      "Feature: RatecodeID, Score: 0.01886\n",
      "Feature: hour, Score: 0.07964\n",
      "Feature: trip_distance, Score: 0.23026\n",
      "Feature: time, Score: 0.24732\n",
      "Feature: day_of_week, Score: 0.06486\n",
      "Feature: precip, Score: 0.00621\n",
      "Feature: temp, Score: 0.11544\n",
      "Feature: destination, Score: 0.23742\n"
     ]
    }
   ],
   "source": [
    "importance = dt.feature_importances_\n",
    "for i,v in enumerate(importance):\n",
    "    v = round(v, 5)\n",
    "    print(f'Feature: {features[i]}, Score: {v}')"
   ]
  },
  {
   "cell_type": "code",
   "execution_count": 63,
   "metadata": {},
   "outputs": [
    {
     "data": {
      "image/png": "[encoded data removed]",
      "text/plain": [
       "<Figure size 648x432 with 1 Axes>"
      ]
     },
     "metadata": {
      "needs_background": "light"
     },
     "output_type": "display_data"
    }
   ],
   "source": [
    "# Create a figure instance\n",
    "fig = plt.figure(1, figsize=(9, 6))\n",
    "\n",
    "# Create an axes instance\n",
    "ax = fig.add_subplot(111)\n",
    "\n",
    "# Create the boxplot\n",
    "bp = ax.bar(['RatecodeID', 'hour', 'trip_distance', 'time', 'day_of_week', 'precip', 'temp', 'destination'], importance)\n",
    "plt.ylabel('%')\n",
    "plt.title('Feature importance by gini criterion over total\\n DT with no tuning', fontsize=18)\n",
    "plt.show()"
   ]
  },
  {
   "cell_type": "markdown",
   "metadata": {},
   "source": [
    "### Random Forest Classifier"
   ]
  },
  {
   "cell_type": "code",
   "execution_count": 64,
   "metadata": {},
   "outputs": [
    {
     "name": "stderr",
     "output_type": "stream",
     "text": [
      "/usr/local/lib/python3.6/dist-packages/ipykernel_launcher.py:2: DataConversionWarning: A column-vector y was passed when a 1d array was expected. Please change the shape of y to (n_samples,), for example using ravel().\n",
      "  \n"
     ]
    },
    {
     "name": "stdout",
     "output_type": "stream",
     "text": [
      "              precision    recall  f1-score   support\n",
      "\n",
      "           1       0.58      0.22      0.32    575132\n",
      "           2       0.74      0.94      0.83   1813328\n",
      "           3       0.65      0.20      0.30    184007\n",
      "           4       0.66      0.17      0.27       348\n",
      "\n",
      "    accuracy                           0.73   2572815\n",
      "   macro avg       0.66      0.38      0.43   2572815\n",
      "weighted avg       0.70      0.73      0.68   2572815\n",
      "\n"
     ]
    }
   ],
   "source": [
    "rfc = RandomForestClassifier()\n",
    "rfc.fit(X_train, y_train)\n",
    "y_pred = rfc.predict(X_val)\n",
    "print(classification_report(y_val, y_pred, target_names=target_names))"
   ]
  },
  {
   "cell_type": "code",
   "execution_count": 65,
   "metadata": {},
   "outputs": [],
   "source": [
    "importance = rfc.feature_importances_"
   ]
  },
  {
   "cell_type": "code",
   "execution_count": 66,
   "metadata": {},
   "outputs": [
    {
     "name": "stdout",
     "output_type": "stream",
     "text": [
      "Feature: RatecodeID, Score: 0.01905\n",
      "Feature: hour, Score: 0.06503\n",
      "Feature: trip_distance, Score: 0.26837\n",
      "Feature: time, Score: 0.25323\n",
      "Feature: day_of_week, Score: 0.03811\n",
      "Feature: precip, Score: 0.00345\n",
      "Feature: temp, Score: 0.10117\n",
      "Feature: destination, Score: 0.25159\n"
     ]
    }
   ],
   "source": [
    "for i,v in enumerate(importance):\n",
    "    v = round(v, 5)\n",
    "    print(f'Feature: {features[i]}, Score: {v}')"
   ]
  },
  {
   "cell_type": "code",
   "execution_count": 67,
   "metadata": {},
   "outputs": [
    {
     "data": {
      "image/png": "[encoded data removed]",
      "text/plain": [
       "<Figure size 648x432 with 1 Axes>"
      ]
     },
     "metadata": {
      "needs_background": "light"
     },
     "output_type": "display_data"
    }
   ],
   "source": [
    "# Create a figure instance\n",
    "fig = plt.figure(1, figsize=(9, 6))\n",
    "\n",
    "# Create an axes instance\n",
    "ax = fig.add_subplot(111)\n",
    "\n",
    "# Create the boxplot\n",
    "bp = ax.bar(['RatecodeID', 'hour', 'trip_distance', 'time', 'day_of_week', 'precip', 'temp', 'destination'], importance)\n",
    "plt.ylabel('%')\n",
    "plt.title('Feature importance by gini criterion over total\\n DT with no tuning', fontsize=18)\n",
    "plt.show()"
   ]
  },
  {
   "cell_type": "code",
   "execution_count": 8,
   "metadata": {},
   "outputs": [],
   "source": [
    "def stratify_sample(data, att, n):\n",
    "    lst_data = []\n",
    "    unique_att = data[att].unique()\n",
    "    for each_label in unique_att:\n",
    "        lst_data.append(data[data[att]==each_label].sample(n=n))\n",
    "    samples = lst_data[0]\n",
    "    for each_data in lst_data[1:]:\n",
    "        samples = pd.concat([samples, each_data])\n",
    "    return samples"
   ]
  },
  {
   "cell_type": "code",
   "execution_count": 5,
   "metadata": {},
   "outputs": [
    {
     "name": "stderr",
     "output_type": "stream",
     "text": [
      "/home/student.unimelb.edu.au/nyoewono/.local/lib/python3.6/site-packages/sklearn/utils/validation.py:72: DataConversionWarning: A column-vector y was passed when a 1d array was expected. Please change the shape of y to (n_samples, ), for example using ravel().\n",
      "  return f(**kwargs)\n",
      "/home/student.unimelb.edu.au/nyoewono/.local/lib/python3.6/site-packages/sklearn/linear_model/_stochastic_gradient.py:573: ConvergenceWarning: Maximum number of iteration reached before convergence. Consider increasing max_iter to improve the fit.\n",
      "  ConvergenceWarning)\n"
     ]
    },
    {
     "ename": "NameError",
     "evalue": "name 'target_names' is not defined",
     "output_type": "error",
     "traceback": [
      "\u001b[0;31m---------------------------------------------------------------------------\u001b[0m",
      "\u001b[0;31mNameError\u001b[0m                                 Traceback (most recent call last)",
      "\u001b[0;32m<ipython-input-5-74b561c449aa>\u001b[0m in \u001b[0;36m<module>\u001b[0;34m\u001b[0m\n\u001b[1;32m      2\u001b[0m \u001b[0msvc\u001b[0m\u001b[0;34m.\u001b[0m\u001b[0mfit\u001b[0m\u001b[0;34m(\u001b[0m\u001b[0mX_train\u001b[0m\u001b[0;34m,\u001b[0m \u001b[0my_train\u001b[0m\u001b[0;34m)\u001b[0m\u001b[0;34m\u001b[0m\u001b[0;34m\u001b[0m\u001b[0m\n\u001b[1;32m      3\u001b[0m \u001b[0my_pred\u001b[0m \u001b[0;34m=\u001b[0m \u001b[0msvc\u001b[0m\u001b[0;34m.\u001b[0m\u001b[0mpredict\u001b[0m\u001b[0;34m(\u001b[0m\u001b[0mX_val\u001b[0m\u001b[0;34m)\u001b[0m\u001b[0;34m\u001b[0m\u001b[0;34m\u001b[0m\u001b[0m\n\u001b[0;32m----> 4\u001b[0;31m \u001b[0mprint\u001b[0m\u001b[0;34m(\u001b[0m\u001b[0mclassification_report\u001b[0m\u001b[0;34m(\u001b[0m\u001b[0my_val\u001b[0m\u001b[0;34m,\u001b[0m \u001b[0my_pred\u001b[0m\u001b[0;34m,\u001b[0m \u001b[0mtarget_names\u001b[0m\u001b[0;34m=\u001b[0m\u001b[0mtarget_names\u001b[0m\u001b[0;34m)\u001b[0m\u001b[0;34m)\u001b[0m\u001b[0;34m\u001b[0m\u001b[0;34m\u001b[0m\u001b[0m\n\u001b[0m",
      "\u001b[0;31mNameError\u001b[0m: name 'target_names' is not defined"
     ]
    }
   ],
   "source": [
    "svc = SGDClassifier()\n",
    "svc.fit(X_train, y_train)\n",
    "y_pred = svc.predict(X_val)"
   ]
  },
  {
   "cell_type": "code",
   "execution_count": 7,
   "metadata": {},
   "outputs": [
    {
     "name": "stderr",
     "output_type": "stream",
     "text": [
      "/home/student.unimelb.edu.au/nyoewono/.local/lib/python3.6/site-packages/sklearn/metrics/_classification.py:1221: UndefinedMetricWarning: Precision and F-score are ill-defined and being set to 0.0 in labels with no predicted samples. Use `zero_division` parameter to control this behavior.\n",
      "  _warn_prf(average, modifier, msg_start, len(result))\n"
     ]
    },
    {
     "name": "stdout",
     "output_type": "stream",
     "text": [
      "              precision    recall  f1-score   support\n",
      "\n",
      "           1       0.36      0.05      0.09    575132\n",
      "           2       0.71      0.95      0.81   1813328\n",
      "           3       0.10      0.04      0.06    184007\n",
      "           4       0.00      0.00      0.00       348\n",
      "\n",
      "    accuracy                           0.69   2572815\n",
      "   macro avg       0.29      0.26      0.24   2572815\n",
      "weighted avg       0.59      0.69      0.60   2572815\n",
      "\n"
     ]
    }
   ],
   "source": [
    "print(classification_report(y_val, y_pred, target_names=target_names))"
   ]
  },
  {
   "cell_type": "code",
   "execution_count": null,
   "metadata": {},
   "outputs": [],
   "source": [
    "df_result = pd.DataFrame()\n",
    "df_result['Accuracy']"
   ]
  },
  {
   "cell_type": "code",
   "execution_count": 10,
   "metadata": {},
   "outputs": [
    {
     "name": "stderr",
     "output_type": "stream",
     "text": [
      "/home/student.unimelb.edu.au/nyoewono/.local/lib/python3.6/site-packages/sklearn/linear_model/_stochastic_gradient.py:573: ConvergenceWarning: Maximum number of iteration reached before convergence. Consider increasing max_iter to improve the fit.\n",
      "  ConvergenceWarning)\n",
      "/home/student.unimelb.edu.au/nyoewono/.local/lib/python3.6/site-packages/sklearn/linear_model/_stochastic_gradient.py:573: ConvergenceWarning: Maximum number of iteration reached before convergence. Consider increasing max_iter to improve the fit.\n",
      "  ConvergenceWarning)\n",
      "/home/student.unimelb.edu.au/nyoewono/.local/lib/python3.6/site-packages/sklearn/linear_model/_stochastic_gradient.py:573: ConvergenceWarning: Maximum number of iteration reached before convergence. Consider increasing max_iter to improve the fit.\n",
      "  ConvergenceWarning)\n",
      "/home/student.unimelb.edu.au/nyoewono/.local/lib/python3.6/site-packages/sklearn/metrics/_classification.py:1221: UndefinedMetricWarning: Precision and F-score are ill-defined and being set to 0.0 in labels with no predicted samples. Use `zero_division` parameter to control this behavior.\n",
      "  _warn_prf(average, modifier, msg_start, len(result))\n"
     ]
    },
    {
     "name": "stdout",
     "output_type": "stream",
     "text": [
      "              precision    recall  f1-score   support\n",
      "\n",
      "           1       0.27      0.21      0.23    575132\n",
      "           2       0.72      0.84      0.77   1813328\n",
      "           3       0.16      0.00      0.00    184007\n",
      "           4       0.00      0.00      0.00       348\n",
      "\n",
      "    accuracy                           0.64   2572815\n",
      "   macro avg       0.29      0.26      0.25   2572815\n",
      "weighted avg       0.58      0.64      0.60   2572815\n",
      "\n"
     ]
    }
   ],
   "source": [
    "clf = OneVsRestClassifier(SGDClassifier()).fit(X_train, y_train)\n",
    "y_pred = clf.predict(X_val)\n",
    "print(classification_report(y_val, y_pred, target_names=target_names))"
   ]
  },
  {
   "cell_type": "markdown",
   "metadata": {},
   "source": [
    "Without any parameter tuning, random forest produce the best accuracy result compared to the other classifier. Since Random forest is actually a major upgrade from the normal decision tree, where it may reduce the chances of the model being overfit, and since training an SVM may took longer than expected but with lower accuracy compared to forest, it is decided to abandon using SVM and normal DT, and continue investigating using random forest classifier instead."
   ]
  },
  {
   "cell_type": "markdown",
   "metadata": {},
   "source": [
    "However, training a large dataset take times; hence, it might be best to investigate if we could discard some of the dataset to see the trade-off between size, accuracy and training time"
   ]
  },
  {
   "cell_type": "code",
   "execution_count": null,
   "metadata": {},
   "outputs": [],
   "source": [
    "X_train.reset_index(inplace = True)\n",
    "y_train.reset_index(inplace = True)"
   ]
  },
  {
   "cell_type": "code",
   "execution_count": 118,
   "metadata": {},
   "outputs": [],
   "source": [
    "X_train.drop(labels=['index'], axis=1, inplace = True)\n",
    "y_train.drop(labels=['index'], axis=1, inplace = True)"
   ]
  },
  {
   "cell_type": "code",
   "execution_count": 122,
   "metadata": {},
   "outputs": [
    {
     "name": "stderr",
     "output_type": "stream",
     "text": [
      "/usr/local/lib/python3.6/dist-packages/ipykernel_launcher.py:19: DataConversionWarning: A column-vector y was passed when a 1d array was expected. Please change the shape of y to (n_samples,), for example using ravel().\n"
     ]
    },
    {
     "name": "stdout",
     "output_type": "stream",
     "text": [
      "Size 0.05 done\n"
     ]
    },
    {
     "name": "stderr",
     "output_type": "stream",
     "text": [
      "/usr/local/lib/python3.6/dist-packages/ipykernel_launcher.py:19: DataConversionWarning: A column-vector y was passed when a 1d array was expected. Please change the shape of y to (n_samples,), for example using ravel().\n"
     ]
    },
    {
     "name": "stdout",
     "output_type": "stream",
     "text": [
      "Size 0.1 done\n"
     ]
    },
    {
     "name": "stderr",
     "output_type": "stream",
     "text": [
      "/usr/local/lib/python3.6/dist-packages/ipykernel_launcher.py:19: DataConversionWarning: A column-vector y was passed when a 1d array was expected. Please change the shape of y to (n_samples,), for example using ravel().\n"
     ]
    },
    {
     "name": "stdout",
     "output_type": "stream",
     "text": [
      "Size 0.15000000000000002 done\n"
     ]
    },
    {
     "name": "stderr",
     "output_type": "stream",
     "text": [
      "/usr/local/lib/python3.6/dist-packages/ipykernel_launcher.py:19: DataConversionWarning: A column-vector y was passed when a 1d array was expected. Please change the shape of y to (n_samples,), for example using ravel().\n"
     ]
    },
    {
     "name": "stdout",
     "output_type": "stream",
     "text": [
      "Size 0.2 done\n"
     ]
    },
    {
     "name": "stderr",
     "output_type": "stream",
     "text": [
      "/usr/local/lib/python3.6/dist-packages/ipykernel_launcher.py:19: DataConversionWarning: A column-vector y was passed when a 1d array was expected. Please change the shape of y to (n_samples,), for example using ravel().\n"
     ]
    },
    {
     "name": "stdout",
     "output_type": "stream",
     "text": [
      "Size 0.25 done\n"
     ]
    },
    {
     "name": "stderr",
     "output_type": "stream",
     "text": [
      "/usr/local/lib/python3.6/dist-packages/ipykernel_launcher.py:19: DataConversionWarning: A column-vector y was passed when a 1d array was expected. Please change the shape of y to (n_samples,), for example using ravel().\n"
     ]
    },
    {
     "name": "stdout",
     "output_type": "stream",
     "text": [
      "Size 0.3 done\n"
     ]
    },
    {
     "name": "stderr",
     "output_type": "stream",
     "text": [
      "/usr/local/lib/python3.6/dist-packages/ipykernel_launcher.py:19: DataConversionWarning: A column-vector y was passed when a 1d array was expected. Please change the shape of y to (n_samples,), for example using ravel().\n"
     ]
    },
    {
     "name": "stdout",
     "output_type": "stream",
     "text": [
      "Size 0.35000000000000003 done\n"
     ]
    },
    {
     "name": "stderr",
     "output_type": "stream",
     "text": [
      "/usr/local/lib/python3.6/dist-packages/ipykernel_launcher.py:19: DataConversionWarning: A column-vector y was passed when a 1d array was expected. Please change the shape of y to (n_samples,), for example using ravel().\n"
     ]
    },
    {
     "name": "stdout",
     "output_type": "stream",
     "text": [
      "Size 0.4 done\n"
     ]
    },
    {
     "name": "stderr",
     "output_type": "stream",
     "text": [
      "/usr/local/lib/python3.6/dist-packages/ipykernel_launcher.py:19: DataConversionWarning: A column-vector y was passed when a 1d array was expected. Please change the shape of y to (n_samples,), for example using ravel().\n"
     ]
    },
    {
     "name": "stdout",
     "output_type": "stream",
     "text": [
      "Size 0.45 done\n"
     ]
    }
   ],
   "source": [
    "# simulate on whether increasing the train size would increase the validation score\n",
    "# find the best subset for training to reduce time needed to tune the model\n",
    "rfc = RandomForestClassifier()\n",
    "score_train = []\n",
    "score_val = []\n",
    "size = []\n",
    "time_lst = []\n",
    "\n",
    "for i in np.arange(0.05, 0.5, 0.05):\n",
    "    size.append(i)\n",
    "    sss = StratifiedShuffleSplit(n_splits=1, test_size=i, random_state=42)\n",
    "    sss.get_n_splits(X_train, y_train)\n",
    "    \n",
    "    for train_index, val_index in sss.split(X_train, y_train):\n",
    "        _, X_train_size = X_train.loc[list(train_index), :], X_train.loc[list(val_index), :]\n",
    "        _, y_train_size = y_train.loc[list(train_index), :], y_train.loc[list(val_index), :]\n",
    "    \n",
    "    start = time.time()\n",
    "    rfc.fit(X_train_size, y_train_size)\n",
    "    end = time.time()\n",
    "    time_lst.append((end-start))\n",
    "    y_pred_train = rfc.predict(X_train_size)\n",
    "    y_pred = rfc.predict(X_val)\n",
    "    score_train.append(round((np.sum(y_pred_train==y_train_size.values.ravel())/len(y_pred_train))*100, 2))\n",
    "    score_val.append(round((np.sum(y_pred==y_val.values.ravel())/len(y_pred))*100, 2))\n",
    "    \n",
    "    print(f\"Size {i} done\")"
   ]
  },
  {
   "cell_type": "code",
   "execution_count": 125,
   "metadata": {},
   "outputs": [
    {
     "name": "stderr",
     "output_type": "stream",
     "text": [
      "/usr/local/lib/python3.6/dist-packages/ipykernel_launcher.py:11: DataConversionWarning: A column-vector y was passed when a 1d array was expected. Please change the shape of y to (n_samples,), for example using ravel().\n",
      "  # This is added back by InteractiveShellApp.init_path()\n"
     ]
    },
    {
     "name": "stdout",
     "output_type": "stream",
     "text": [
      "Size 0.5 done\n"
     ]
    },
    {
     "name": "stderr",
     "output_type": "stream",
     "text": [
      "/usr/local/lib/python3.6/dist-packages/ipykernel_launcher.py:11: DataConversionWarning: A column-vector y was passed when a 1d array was expected. Please change the shape of y to (n_samples,), for example using ravel().\n",
      "  # This is added back by InteractiveShellApp.init_path()\n"
     ]
    },
    {
     "name": "stdout",
     "output_type": "stream",
     "text": [
      "Size 0.6 done\n"
     ]
    },
    {
     "name": "stderr",
     "output_type": "stream",
     "text": [
      "/usr/local/lib/python3.6/dist-packages/ipykernel_launcher.py:11: DataConversionWarning: A column-vector y was passed when a 1d array was expected. Please change the shape of y to (n_samples,), for example using ravel().\n",
      "  # This is added back by InteractiveShellApp.init_path()\n"
     ]
    },
    {
     "name": "stdout",
     "output_type": "stream",
     "text": [
      "Size 0.7 done\n"
     ]
    },
    {
     "name": "stderr",
     "output_type": "stream",
     "text": [
      "/usr/local/lib/python3.6/dist-packages/ipykernel_launcher.py:11: DataConversionWarning: A column-vector y was passed when a 1d array was expected. Please change the shape of y to (n_samples,), for example using ravel().\n",
      "  # This is added back by InteractiveShellApp.init_path()\n"
     ]
    },
    {
     "name": "stdout",
     "output_type": "stream",
     "text": [
      "Size 0.7999999999999999 done\n"
     ]
    },
    {
     "name": "stderr",
     "output_type": "stream",
     "text": [
      "/usr/local/lib/python3.6/dist-packages/ipykernel_launcher.py:11: DataConversionWarning: A column-vector y was passed when a 1d array was expected. Please change the shape of y to (n_samples,), for example using ravel().\n",
      "  # This is added back by InteractiveShellApp.init_path()\n"
     ]
    },
    {
     "name": "stdout",
     "output_type": "stream",
     "text": [
      "Size 0.8999999999999999 done\n"
     ]
    },
    {
     "ename": "ValueError",
     "evalue": "With n_samples=7718443, test_size=0.9999999999999999 and train_size=None, the resulting train set will be empty. Adjust any of the aforementioned parameters.",
     "output_type": "error",
     "traceback": [
      "\u001b[0;31m---------------------------------------------------------------------------\u001b[0m",
      "\u001b[0;31mValueError\u001b[0m                                Traceback (most recent call last)",
      "\u001b[0;32m<ipython-input-125-1762d884bd9c>\u001b[0m in \u001b[0;36m<module>\u001b[0;34m\u001b[0m\n\u001b[1;32m      4\u001b[0m     \u001b[0msss\u001b[0m\u001b[0;34m.\u001b[0m\u001b[0mget_n_splits\u001b[0m\u001b[0;34m(\u001b[0m\u001b[0mX_train\u001b[0m\u001b[0;34m,\u001b[0m \u001b[0my_train\u001b[0m\u001b[0;34m)\u001b[0m\u001b[0;34m\u001b[0m\u001b[0;34m\u001b[0m\u001b[0m\n\u001b[1;32m      5\u001b[0m \u001b[0;34m\u001b[0m\u001b[0m\n\u001b[0;32m----> 6\u001b[0;31m     \u001b[0;32mfor\u001b[0m \u001b[0mtrain_index\u001b[0m\u001b[0;34m,\u001b[0m \u001b[0mval_index\u001b[0m \u001b[0;32min\u001b[0m \u001b[0msss\u001b[0m\u001b[0;34m.\u001b[0m\u001b[0msplit\u001b[0m\u001b[0;34m(\u001b[0m\u001b[0mX_train\u001b[0m\u001b[0;34m,\u001b[0m \u001b[0my_train\u001b[0m\u001b[0;34m)\u001b[0m\u001b[0;34m:\u001b[0m\u001b[0;34m\u001b[0m\u001b[0;34m\u001b[0m\u001b[0m\n\u001b[0m\u001b[1;32m      7\u001b[0m         \u001b[0m_\u001b[0m\u001b[0;34m,\u001b[0m \u001b[0mX_train_size\u001b[0m \u001b[0;34m=\u001b[0m \u001b[0mX_train\u001b[0m\u001b[0;34m.\u001b[0m\u001b[0mloc\u001b[0m\u001b[0;34m[\u001b[0m\u001b[0mlist\u001b[0m\u001b[0;34m(\u001b[0m\u001b[0mtrain_index\u001b[0m\u001b[0;34m)\u001b[0m\u001b[0;34m,\u001b[0m \u001b[0;34m:\u001b[0m\u001b[0;34m]\u001b[0m\u001b[0;34m,\u001b[0m \u001b[0mX_train\u001b[0m\u001b[0;34m.\u001b[0m\u001b[0mloc\u001b[0m\u001b[0;34m[\u001b[0m\u001b[0mlist\u001b[0m\u001b[0;34m(\u001b[0m\u001b[0mval_index\u001b[0m\u001b[0;34m)\u001b[0m\u001b[0;34m,\u001b[0m \u001b[0;34m:\u001b[0m\u001b[0;34m]\u001b[0m\u001b[0;34m\u001b[0m\u001b[0;34m\u001b[0m\u001b[0m\n\u001b[1;32m      8\u001b[0m         \u001b[0m_\u001b[0m\u001b[0;34m,\u001b[0m \u001b[0my_train_size\u001b[0m \u001b[0;34m=\u001b[0m \u001b[0my_train\u001b[0m\u001b[0;34m.\u001b[0m\u001b[0mloc\u001b[0m\u001b[0;34m[\u001b[0m\u001b[0mlist\u001b[0m\u001b[0;34m(\u001b[0m\u001b[0mtrain_index\u001b[0m\u001b[0;34m)\u001b[0m\u001b[0;34m,\u001b[0m \u001b[0;34m:\u001b[0m\u001b[0;34m]\u001b[0m\u001b[0;34m,\u001b[0m \u001b[0my_train\u001b[0m\u001b[0;34m.\u001b[0m\u001b[0mloc\u001b[0m\u001b[0;34m[\u001b[0m\u001b[0mlist\u001b[0m\u001b[0;34m(\u001b[0m\u001b[0mval_index\u001b[0m\u001b[0;34m)\u001b[0m\u001b[0;34m,\u001b[0m \u001b[0;34m:\u001b[0m\u001b[0;34m]\u001b[0m\u001b[0;34m\u001b[0m\u001b[0;34m\u001b[0m\u001b[0m\n",
      "\u001b[0;32m~/.local/lib/python3.6/site-packages/sklearn/model_selection/_split.py\u001b[0m in \u001b[0;36msplit\u001b[0;34m(self, X, y, groups)\u001b[0m\n\u001b[1;32m   1339\u001b[0m         \"\"\"\n\u001b[1;32m   1340\u001b[0m         \u001b[0mX\u001b[0m\u001b[0;34m,\u001b[0m \u001b[0my\u001b[0m\u001b[0;34m,\u001b[0m \u001b[0mgroups\u001b[0m \u001b[0;34m=\u001b[0m \u001b[0mindexable\u001b[0m\u001b[0;34m(\u001b[0m\u001b[0mX\u001b[0m\u001b[0;34m,\u001b[0m \u001b[0my\u001b[0m\u001b[0;34m,\u001b[0m \u001b[0mgroups\u001b[0m\u001b[0;34m)\u001b[0m\u001b[0;34m\u001b[0m\u001b[0;34m\u001b[0m\u001b[0m\n\u001b[0;32m-> 1341\u001b[0;31m         \u001b[0;32mfor\u001b[0m \u001b[0mtrain\u001b[0m\u001b[0;34m,\u001b[0m \u001b[0mtest\u001b[0m \u001b[0;32min\u001b[0m \u001b[0mself\u001b[0m\u001b[0;34m.\u001b[0m\u001b[0m_iter_indices\u001b[0m\u001b[0;34m(\u001b[0m\u001b[0mX\u001b[0m\u001b[0;34m,\u001b[0m \u001b[0my\u001b[0m\u001b[0;34m,\u001b[0m \u001b[0mgroups\u001b[0m\u001b[0;34m)\u001b[0m\u001b[0;34m:\u001b[0m\u001b[0;34m\u001b[0m\u001b[0;34m\u001b[0m\u001b[0m\n\u001b[0m\u001b[1;32m   1342\u001b[0m             \u001b[0;32myield\u001b[0m \u001b[0mtrain\u001b[0m\u001b[0;34m,\u001b[0m \u001b[0mtest\u001b[0m\u001b[0;34m\u001b[0m\u001b[0;34m\u001b[0m\u001b[0m\n\u001b[1;32m   1343\u001b[0m \u001b[0;34m\u001b[0m\u001b[0m\n",
      "\u001b[0;32m~/.local/lib/python3.6/site-packages/sklearn/model_selection/_split.py\u001b[0m in \u001b[0;36m_iter_indices\u001b[0;34m(self, X, y, groups)\u001b[0m\n\u001b[1;32m   1654\u001b[0m         n_train, n_test = _validate_shuffle_split(\n\u001b[1;32m   1655\u001b[0m             \u001b[0mn_samples\u001b[0m\u001b[0;34m,\u001b[0m \u001b[0mself\u001b[0m\u001b[0;34m.\u001b[0m\u001b[0mtest_size\u001b[0m\u001b[0;34m,\u001b[0m \u001b[0mself\u001b[0m\u001b[0;34m.\u001b[0m\u001b[0mtrain_size\u001b[0m\u001b[0;34m,\u001b[0m\u001b[0;34m\u001b[0m\u001b[0;34m\u001b[0m\u001b[0m\n\u001b[0;32m-> 1656\u001b[0;31m             default_test_size=self._default_test_size)\n\u001b[0m\u001b[1;32m   1657\u001b[0m \u001b[0;34m\u001b[0m\u001b[0m\n\u001b[1;32m   1658\u001b[0m         \u001b[0;32mif\u001b[0m \u001b[0my\u001b[0m\u001b[0;34m.\u001b[0m\u001b[0mndim\u001b[0m \u001b[0;34m==\u001b[0m \u001b[0;36m2\u001b[0m\u001b[0;34m:\u001b[0m\u001b[0;34m\u001b[0m\u001b[0;34m\u001b[0m\u001b[0m\n",
      "\u001b[0;32m~/.local/lib/python3.6/site-packages/sklearn/model_selection/_split.py\u001b[0m in \u001b[0;36m_validate_shuffle_split\u001b[0;34m(n_samples, test_size, train_size, default_test_size)\u001b[0m\n\u001b[1;32m   1812\u001b[0m             \u001b[0;34m'resulting train set will be empty. Adjust any of the '\u001b[0m\u001b[0;34m\u001b[0m\u001b[0;34m\u001b[0m\u001b[0m\n\u001b[1;32m   1813\u001b[0m             'aforementioned parameters.'.format(n_samples, test_size,\n\u001b[0;32m-> 1814\u001b[0;31m                                                 train_size)\n\u001b[0m\u001b[1;32m   1815\u001b[0m         )\n\u001b[1;32m   1816\u001b[0m \u001b[0;34m\u001b[0m\u001b[0m\n",
      "\u001b[0;31mValueError\u001b[0m: With n_samples=7718443, test_size=0.9999999999999999 and train_size=None, the resulting train set will be empty. Adjust any of the aforementioned parameters."
     ]
    }
   ],
   "source": [
    "for i in np.arange(0.5, 1.01, 0.1):\n",
    "    size.append(i)\n",
    "    sss = StratifiedShuffleSplit(n_splits=1, test_size=i, random_state=42)\n",
    "    sss.get_n_splits(X_train, y_train)\n",
    "    \n",
    "    for train_index, val_index in sss.split(X_train, y_train):\n",
    "        _, X_train_size = X_train.loc[list(train_index), :], X_train.loc[list(val_index), :]\n",
    "        _, y_train_size = y_train.loc[list(train_index), :], y_train.loc[list(val_index), :]\n",
    "    \n",
    "    start = time.time()\n",
    "    rfc.fit(X_train_size, y_train_size)\n",
    "    end = time.time()\n",
    "    time_lst.append((end-start))\n",
    "    y_pred_train = rfc.predict(X_train_size)\n",
    "    y_pred = rfc.predict(X_val)\n",
    "    score_train.append(round((np.sum(y_pred_train==y_train_size.values.ravel())/len(y_pred_train))*100, 2))\n",
    "    score_val.append(round((np.sum(y_pred==y_val.values.ravel())/len(y_pred))*100, 2))\n",
    "    \n",
    "    print(f\"Size {i} done\")"
   ]
  },
  {
   "cell_type": "code",
   "execution_count": 130,
   "metadata": {},
   "outputs": [],
   "source": [
    "size = size[:-1]"
   ]
  },
  {
   "cell_type": "code",
   "execution_count": 132,
   "metadata": {},
   "outputs": [
    {
     "data": {
      "image/png": "[encoded data removed]",
      "text/plain": [
       "<Figure size 432x288 with 2 Axes>"
      ]
     },
     "metadata": {
      "needs_background": "light"
     },
     "output_type": "display_data"
    }
   ],
   "source": [
    "# Create some mock data\n",
    "fig, ax1 = plt.subplots()\n",
    "\n",
    "color = 'tab:red'\n",
    "ax1.set_xlabel('Size')\n",
    "ax1.set_ylabel('Accuracy %', color=color)\n",
    "ax1.plot(size, score_val, color=color)\n",
    "ax1.tick_params(axis='y', labelcolor=color)\n",
    "\n",
    "ax2 = ax1.twinx()  # instantiate a second axes that shares the same x-axis\n",
    "\n",
    "color = 'tab:blue'\n",
    "ax2.set_ylabel('Time (seconds)', color=color)  # we already handled the x-label with ax1\n",
    "ax2.plot(size, time_lst, color=color)\n",
    "ax2.tick_params(axis='y', labelcolor=color)\n",
    "\n",
    "fig.tight_layout()  # otherwise the right y-label is slightly clipped\n",
    "plt.title('Trade-off between validation accuracy and training time\\nfor different training size')\n",
    "plt.show()"
   ]
  },
  {
   "cell_type": "markdown",
   "metadata": {},
   "source": [
    "The result shows that with larger dataset, accuracy tends to increase, but it may increase linearly with time as well. However, it seems that from 0.5 onwards, the rate of increase in accuracy tend to decrease compared to the previous sizes. It is arguable that adding 0.03% accuracy for 2 million testing data may be large, as it means we may be able to make correct classfication for additional 60000 trips, but this analysist decided to cut the training size to 40% of its original training size, as it has a decent training time with satisfying accuracy, that is 72.4%. Adding 0.03% with additional 2600 training time may not be the main priority in this experiment. This will only be done to speed up the developing process, as at the end, we will still use the whole training dataset to predict the test data"
   ]
  },
  {
   "cell_type": "code",
   "execution_count": 207,
   "metadata": {},
   "outputs": [
    {
     "name": "stderr",
     "output_type": "stream",
     "text": [
      "/usr/local/lib/python3.6/dist-packages/ipykernel_launcher.py:2: DataConversionWarning: A column-vector y was passed when a 1d array was expected. Please change the shape of y to (n_samples,), for example using ravel().\n",
      "  \n"
     ]
    },
    {
     "name": "stdout",
     "output_type": "stream",
     "text": [
      "              precision    recall  f1-score   support\n",
      "\n",
      "           1       0.57      0.20      0.30   1955450\n",
      "           2       0.74      0.95      0.83   6165314\n",
      "           3       0.65      0.17      0.27    625623\n",
      "           4       0.13      0.47      0.21       348\n",
      "\n",
      "    accuracy                           0.72   8746735\n",
      "   macro avg       0.52      0.45      0.40   8746735\n",
      "weighted avg       0.70      0.72      0.67   8746735\n",
      "\n"
     ]
    }
   ],
   "source": [
    "rfc = RandomForestClassifier()\n",
    "rfc.fit(X_train_size, y_train_size)\n",
    "y_pred = rfc.predict(X_val)\n",
    "print(classification_report(y_val, y_pred, target_names=target_names))"
   ]
  },
  {
   "cell_type": "markdown",
   "metadata": {},
   "source": [
    "Before tuning the model, there may be another approach on improving the model, binning all of the continuous variables"
   ]
  },
  {
   "cell_type": "code",
   "execution_count": 196,
   "metadata": {},
   "outputs": [],
   "source": [
    "# split the new dataset first\n",
    "cluster_4_index = list(y_train[y_train['cluster_trip']==4].index)\n",
    "exclude_4_index = list(set(X_train.index)-set(cluster_4_index))\n",
    "X_train_cut = X_train.loc[exclude_4_index, :]\n",
    "y_train_cut = y_train.loc[exclude_4_index, :]"
   ]
  },
  {
   "cell_type": "code",
   "execution_count": 197,
   "metadata": {},
   "outputs": [],
   "source": [
    "X_train_cut.reset_index(inplace = True)\n",
    "y_train_cut.reset_index(inplace = True)\n",
    "X_train_cut.drop(labels=['index'], axis=1, inplace = True)\n",
    "y_train_cut.drop(labels=['index'], axis=1, inplace = True)"
   ]
  },
  {
   "cell_type": "code",
   "execution_count": 198,
   "metadata": {},
   "outputs": [],
   "source": [
    "sss = StratifiedShuffleSplit(n_splits=1, train_size=0.2, random_state=42)\n",
    "sss.get_n_splits(X_train_cut, y_train_cut)\n",
    "\n",
    "for train_index, val_index in sss.split(X_train_cut, y_train_cut):\n",
    "    X_train_size, X_extra_val = X_train_cut.loc[list(train_index), :], X_train_cut.loc[list(val_index), :]\n",
    "    y_train_size, y_extra_val = y_train_cut.loc[list(train_index), :], y_train_cut.loc[list(val_index), :]"
   ]
  },
  {
   "cell_type": "code",
   "execution_count": 145,
   "metadata": {},
   "outputs": [
    {
     "data": {
      "text/plain": [
       "(1543480, 8)"
      ]
     },
     "execution_count": 145,
     "metadata": {},
     "output_type": "execute_result"
    }
   ],
   "source": [
    "X_train_size.shape"
   ]
  },
  {
   "cell_type": "code",
   "execution_count": 201,
   "metadata": {},
   "outputs": [],
   "source": [
    "# concat the cluster 4 back, as there is only a few labels available for this cluster\n",
    "X_train_size = pd.concat([X_train_size, X_train.loc[cluster_4_index]])\n",
    "y_train_size = pd.concat([y_train_size, y_train.loc[cluster_4_index]])"
   ]
  },
  {
   "cell_type": "code",
   "execution_count": 202,
   "metadata": {},
   "outputs": [],
   "source": [
    "# concat the validation size\n",
    "X_val = pd.concat([X_val, X_extra_val])\n",
    "y_val = pd.concat([y_val, y_extra_val])"
   ]
  },
  {
   "cell_type": "code",
   "execution_count": 154,
   "metadata": {},
   "outputs": [],
   "source": [
    "from sklearn.preprocessing import LabelEncoder\n",
    "label_encoder = LabelEncoder()\n",
    "y = label_encoder.fit_transform(pd.cut(X_train_size['trip_distance'], 4, retbins=True)[0])"
   ]
  },
  {
   "cell_type": "code",
   "execution_count": 162,
   "metadata": {},
   "outputs": [],
   "source": [
    "arr_bins = pd.cut(X_train_size['trip_distance'], 4, retbins=True)[0]"
   ]
  },
  {
   "cell_type": "code",
   "execution_count": 168,
   "metadata": {},
   "outputs": [
    {
     "data": {
      "text/plain": [
       "3172326    (0.214, 24.265]\n",
       "4428504    (0.214, 24.265]\n",
       "2736377    (0.214, 24.265]\n",
       "7270824    (0.214, 24.265]\n",
       "3619491    (0.214, 24.265]\n",
       "                ...       \n",
       "7695590    (0.214, 24.265]\n",
       "7699787    (0.214, 24.265]\n",
       "7709199    (0.214, 24.265]\n",
       "7714641    (0.214, 24.265]\n",
       "7718261    (0.214, 24.265]\n",
       "Name: trip_distance, Length: 1544523, dtype: category\n",
       "Categories (4, interval[float64]): [(0.214, 24.265] < (24.265, 48.22] < (48.22, 72.175] < (72.175, 96.13]]"
      ]
     },
     "execution_count": 168,
     "metadata": {},
     "output_type": "execute_result"
    }
   ],
   "source": [
    "arr_bins"
   ]
  },
  {
   "cell_type": "code",
   "execution_count": 188,
   "metadata": {},
   "outputs": [],
   "source": [
    "arr_bins = pd.cut(X_train_size['time'], 4, retbins=True)[0]"
   ]
  },
  {
   "cell_type": "code",
   "execution_count": 170,
   "metadata": {},
   "outputs": [],
   "source": [
    "# this is an ugly code, just to check if binning the continuous may make a difference\n",
    "def encode_trip(data):\n",
    "    if data>=0 and data<24.265:\n",
    "        return 0\n",
    "    elif data>=24.265 and data<48.22:\n",
    "        return 1\n",
    "    elif data>=48.22 and data<72.175:\n",
    "        return 2\n",
    "    else:\n",
    "        return 3"
   ]
  },
  {
   "cell_type": "code",
   "execution_count": 172,
   "metadata": {},
   "outputs": [],
   "source": [
    "X_train_size['trip_distance'] = X_train_size['trip_distance'].apply(lambda x: encode_trip(x))\n",
    "X_val['trip_distance'] = X_val['trip_distance'].apply(lambda x: encode_trip(x))"
   ]
  },
  {
   "cell_type": "code",
   "execution_count": 176,
   "metadata": {},
   "outputs": [],
   "source": [
    "arr_bins = pd.cut(X_train_size['time'], 4, retbins=True)[0]"
   ]
  },
  {
   "cell_type": "code",
   "execution_count": 177,
   "metadata": {},
   "outputs": [
    {
     "data": {
      "text/html": [
       "<div>\n",
       "<style scoped>\n",
       "    .dataframe tbody tr th:only-of-type {\n",
       "        vertical-align: middle;\n",
       "    }\n",
       "\n",
       "    .dataframe tbody tr th {\n",
       "        vertical-align: top;\n",
       "    }\n",
       "\n",
       "    .dataframe thead th {\n",
       "        text-align: right;\n",
       "    }\n",
       "</style>\n",
       "<table border=\"1\" class=\"dataframe\">\n",
       "  <thead>\n",
       "    <tr style=\"text-align: right;\">\n",
       "      <th></th>\n",
       "      <th>RatecodeID</th>\n",
       "      <th>hour</th>\n",
       "      <th>trip_distance</th>\n",
       "      <th>time</th>\n",
       "      <th>day_of_week</th>\n",
       "      <th>precip</th>\n",
       "      <th>temp</th>\n",
       "      <th>destination</th>\n",
       "    </tr>\n",
       "  </thead>\n",
       "  <tbody>\n",
       "    <tr>\n",
       "      <th>9101640</th>\n",
       "      <td>1.0</td>\n",
       "      <td>16</td>\n",
       "      <td>0</td>\n",
       "      <td>0.532222</td>\n",
       "      <td>2</td>\n",
       "      <td>0.3</td>\n",
       "      <td>23.0</td>\n",
       "      <td>7576</td>\n",
       "    </tr>\n",
       "    <tr>\n",
       "      <th>9580347</th>\n",
       "      <td>1.0</td>\n",
       "      <td>1</td>\n",
       "      <td>0</td>\n",
       "      <td>0.131944</td>\n",
       "      <td>1</td>\n",
       "      <td>0.0</td>\n",
       "      <td>25.0</td>\n",
       "      <td>2809</td>\n",
       "    </tr>\n",
       "    <tr>\n",
       "      <th>5071480</th>\n",
       "      <td>1.0</td>\n",
       "      <td>9</td>\n",
       "      <td>0</td>\n",
       "      <td>0.886944</td>\n",
       "      <td>3</td>\n",
       "      <td>0.0</td>\n",
       "      <td>14.0</td>\n",
       "      <td>1939</td>\n",
       "    </tr>\n",
       "    <tr>\n",
       "      <th>8485892</th>\n",
       "      <td>1.0</td>\n",
       "      <td>11</td>\n",
       "      <td>0</td>\n",
       "      <td>0.389444</td>\n",
       "      <td>1</td>\n",
       "      <td>0.0</td>\n",
       "      <td>26.0</td>\n",
       "      <td>5181</td>\n",
       "    </tr>\n",
       "    <tr>\n",
       "      <th>10030644</th>\n",
       "      <td>1.0</td>\n",
       "      <td>20</td>\n",
       "      <td>0</td>\n",
       "      <td>0.703611</td>\n",
       "      <td>5</td>\n",
       "      <td>0.0</td>\n",
       "      <td>21.0</td>\n",
       "      <td>8034</td>\n",
       "    </tr>\n",
       "  </tbody>\n",
       "</table>\n",
       "</div>"
      ],
      "text/plain": [
       "          RatecodeID  hour  trip_distance      time  day_of_week  precip  \\\n",
       "9101640          1.0    16              0  0.532222            2     0.3   \n",
       "9580347          1.0     1              0  0.131944            1     0.0   \n",
       "5071480          1.0     9              0  0.886944            3     0.0   \n",
       "8485892          1.0    11              0  0.389444            1     0.0   \n",
       "10030644         1.0    20              0  0.703611            5     0.0   \n",
       "\n",
       "          temp  destination  \n",
       "9101640   23.0         7576  \n",
       "9580347   25.0         2809  \n",
       "5071480   14.0         1939  \n",
       "8485892   26.0         5181  \n",
       "10030644  21.0         8034  "
      ]
     },
     "execution_count": 177,
     "metadata": {},
     "output_type": "execute_result"
    }
   ],
   "source": [
    "X_val.head()"
   ]
  },
  {
   "cell_type": "code",
   "execution_count": 178,
   "metadata": {},
   "outputs": [
    {
     "name": "stderr",
     "output_type": "stream",
     "text": [
      "/usr/local/lib/python3.6/dist-packages/ipykernel_launcher.py:2: DataConversionWarning: A column-vector y was passed when a 1d array was expected. Please change the shape of y to (n_samples,), for example using ravel().\n",
      "  \n"
     ]
    },
    {
     "name": "stdout",
     "output_type": "stream",
     "text": [
      "              precision    recall  f1-score   support\n",
      "\n",
      "           1       0.46      0.21      0.29   1955450\n",
      "           2       0.73      0.91      0.81   6165314\n",
      "           3       0.46      0.10      0.16    625623\n",
      "           4       0.08      0.28      0.13       348\n",
      "\n",
      "    accuracy                           0.70   8746735\n",
      "   macro avg       0.43      0.37      0.35   8746735\n",
      "weighted avg       0.65      0.70      0.65   8746735\n",
      "\n"
     ]
    }
   ],
   "source": [
    "rfc = RandomForestClassifier()\n",
    "rfc.fit(X_train_size, y_train_size)\n",
    "y_pred = rfc.predict(X_val)\n",
    "print(classification_report(y_val, y_pred, target_names=target_names))"
   ]
  },
  {
   "cell_type": "code",
   "execution_count": 179,
   "metadata": {},
   "outputs": [
    {
     "data": {
      "image/png": "[encoded data removed]",
      "text/plain": [
       "<Figure size 648x432 with 1 Axes>"
      ]
     },
     "metadata": {
      "needs_background": "light"
     },
     "output_type": "display_data"
    }
   ],
   "source": [
    "importance = rfc.feature_importances_\n",
    "# Create a figure instance\n",
    "fig = plt.figure(1, figsize=(9, 6))\n",
    "\n",
    "# Create an axes instance\n",
    "ax = fig.add_subplot(111)\n",
    "\n",
    "# Create the boxplot\n",
    "bp = ax.bar(['RatecodeID', 'hour', 'trip_distance', 'time', 'day_of_week', 'precip', 'temp', 'destination'], importance)\n",
    "plt.ylabel('%')\n",
    "plt.title('Feature importance by gini criterion over total\\n Random Forest with trip distance binning', fontsize=18)\n",
    "plt.show()"
   ]
  },
  {
   "cell_type": "markdown",
   "metadata": {},
   "source": [
    "By just binning the trip distance manually, it may not work, as this may simplified the tree model, confusing the tree on the seperation of each class based on the trip distance, as it can be seen that the trip distance and time is quite similar in each class label"
   ]
  },
  {
   "cell_type": "markdown",
   "metadata": {},
   "source": [
    "Try dropping precipitation and ratecode id"
   ]
  },
  {
   "cell_type": "code",
   "execution_count": 203,
   "metadata": {},
   "outputs": [],
   "source": [
    "X_dropped = X_train_size[['hour', 'trip_distance', 'time', 'day_of_week', 'temp', 'destination']].copy()\n",
    "X_val_dropped = X_val[['hour', 'trip_distance', 'time', 'day_of_week', 'temp', 'destination']].copy()"
   ]
  },
  {
   "cell_type": "code",
   "execution_count": 205,
   "metadata": {},
   "outputs": [
    {
     "name": "stderr",
     "output_type": "stream",
     "text": [
      "/usr/local/lib/python3.6/dist-packages/ipykernel_launcher.py:2: DataConversionWarning: A column-vector y was passed when a 1d array was expected. Please change the shape of y to (n_samples,), for example using ravel().\n",
      "  \n"
     ]
    },
    {
     "name": "stdout",
     "output_type": "stream",
     "text": [
      "              precision    recall  f1-score   support\n",
      "\n",
      "           1       0.56      0.20      0.29   1955450\n",
      "           2       0.74      0.94      0.83   6165314\n",
      "           3       0.60      0.14      0.23    625623\n",
      "           4       0.09      0.02      0.03       348\n",
      "\n",
      "    accuracy                           0.72   8746735\n",
      "   macro avg       0.49      0.33      0.34   8746735\n",
      "weighted avg       0.69      0.72      0.66   8746735\n",
      "\n"
     ]
    }
   ],
   "source": [
    "rfc = RandomForestClassifier()\n",
    "rfc.fit(X_dropped, y_train_size)\n",
    "y_pred = rfc.predict(X_val_dropped)\n",
    "print(classification_report(y_val, y_pred, target_names=target_names))"
   ]
  },
  {
   "cell_type": "markdown",
   "metadata": {},
   "source": [
    "Try to change the precipitation into binary"
   ]
  },
  {
   "cell_type": "markdown",
   "metadata": {},
   "source": [
    "https://water.usgs.gov/edu/activity-howmuchrain-metric.html#:~:text=Heavy%20rain%3A%20Greater%20than%204,than%2010%20mm%20per%20hour.\n",
    "heavy rain: 4-8mm per hour, which is more than 0.2 inch"
   ]
  },
  {
   "cell_type": "code",
   "execution_count": 214,
   "metadata": {},
   "outputs": [],
   "source": [
    "X_precip = X_train_size.copy()\n",
    "X_val_precip = X_val.copy()\n",
    "X_precip['precip'] = X_precip['precip'].apply(lambda x: 1 if x>0.2 else 0)\n",
    "X_val_precip['precip'] = X_val_precip['precip'].apply(lambda x: 1 if x>0 else 0)"
   ]
  },
  {
   "cell_type": "code",
   "execution_count": 215,
   "metadata": {},
   "outputs": [
    {
     "name": "stderr",
     "output_type": "stream",
     "text": [
      "/usr/local/lib/python3.6/dist-packages/ipykernel_launcher.py:2: DataConversionWarning: A column-vector y was passed when a 1d array was expected. Please change the shape of y to (n_samples,), for example using ravel().\n",
      "  \n"
     ]
    },
    {
     "name": "stdout",
     "output_type": "stream",
     "text": [
      "              precision    recall  f1-score   support\n",
      "\n",
      "           1       0.57      0.20      0.30   1955450\n",
      "           2       0.74      0.94      0.83   6165314\n",
      "           3       0.65      0.17      0.27    625623\n",
      "           4       0.13      0.46      0.21       348\n",
      "\n",
      "    accuracy                           0.72   8746735\n",
      "   macro avg       0.52      0.45      0.40   8746735\n",
      "weighted avg       0.69      0.72      0.67   8746735\n",
      "\n"
     ]
    }
   ],
   "source": [
    "rfc = RandomForestClassifier()\n",
    "rfc.fit(X_precip, y_train_size)\n",
    "y_pred = rfc.predict(X_val_precip)\n",
    "print(classification_report(y_val, y_pred, target_names=target_names))"
   ]
  },
  {
   "cell_type": "code",
   "execution_count": 217,
   "metadata": {},
   "outputs": [
    {
     "data": {
      "image/png": "[encoded data removed]",
      "text/plain": [
       "<Figure size 648x432 with 1 Axes>"
      ]
     },
     "metadata": {
      "needs_background": "light"
     },
     "output_type": "display_data"
    }
   ],
   "source": [
    "importance = rfc.feature_importances_\n",
    "# Create a figure instance\n",
    "fig = plt.figure(1, figsize=(9, 6))\n",
    "\n",
    "# Create an axes instance\n",
    "ax = fig.add_subplot(111)\n",
    "\n",
    "# Create the boxplot\n",
    "bp = ax.bar(['RatecodeID', 'hour', 'trip_distance', 'time', 'day_of_week', 'precip', 'temp', 'destination'], importance)\n",
    "plt.ylabel('%')\n",
    "plt.title('Feature importance by gini criterion over total\\n Random Forest with precipitation binning', fontsize=18)\n",
    "plt.show()"
   ]
  },
  {
   "cell_type": "markdown",
   "metadata": {},
   "source": [
    "It seems that binning the precipitation is not helpfull at all. Thus, the last method that we can try is to actually predict the fare amount  and try whether this predicted attributes may help classifying the class label. However here, the error from the fare may get carried away in the tree, but it may be worth to try and investigate."
   ]
  },
  {
   "cell_type": "markdown",
   "metadata": {},
   "source": [
    "### Hyperparameter Tuning Using The Sliced Training Dataset"
   ]
  },
  {
   "cell_type": "markdown",
   "metadata": {},
   "source": [
    "We have arrived with one final model:\n",
    "1. Random Forest Decision Tree with attribute: trip_distance, time, ratecodeid, hour, precip, temp and destination"
   ]
  },
  {
   "cell_type": "markdown",
   "metadata": {},
   "source": [
    "It is decided that the hyperparameter tuning is done in the sliced training dataset, as this may take much longer time to train. Due to the lack of time and resources, it is decided to do a tuning in the sliced dataset, but later, the result in the parameter will be implemented in the final training of the whole dataset to form the final model."
   ]
  },
  {
   "cell_type": "code",
   "execution_count": 15,
   "metadata": {},
   "outputs": [
    {
     "name": "stdout",
     "output_type": "stream",
     "text": [
      "{'max_features': ['auto', 'log2'],\n",
      " 'max_samples': [0.5, 0.6, 0.7000000000000001, 0.8, None],\n",
      " 'n_estimators': [100, 125, 150, 175, 200],\n",
      " 'random_state': [0, 42]}\n"
     ]
    }
   ],
   "source": [
    "#1.\n",
    "# the template is taken from https://towardsdatascience.com/hyperparameter-tuning-the-random-forest-in-python-using-scikit-learn-28d2aa77dd74\n",
    "# but the knowledge on the hyperparameter tuning is from machine learning unimelb course\n",
    "\n",
    "# Number of trees in random forest\n",
    "n_estimators = [int(x) for x in np.linspace(start = 100, stop = 200, num = 5)]\n",
    "# Number of features to consider at every split\n",
    "max_features = ['auto', 'log2']\n",
    "# Max number of samples used in each tree from X train\n",
    "max_samples = [x for x in np.linspace(0.5, 0.8, 4)]\n",
    "max_samples.append(None)\n",
    "# Method of selecting samples for training each tree\n",
    "random_state = [0, 42]\n",
    "\n",
    "# Create the random search\n",
    "random_search = {'n_estimators': n_estimators,\n",
    "               'max_features': max_features,\n",
    "               'max_samples': max_samples,\n",
    "               'random_state': random_state}\n",
    "\n",
    "pprint(random_search)"
   ]
  },
  {
   "cell_type": "code",
   "execution_count": 10,
   "metadata": {},
   "outputs": [],
   "source": [
    "X_train_one = X_train_size.copy()\n",
    "X_train_one = X_train_one[X_train_one.columns[:-2]]"
   ]
  },
  {
   "cell_type": "code",
   "execution_count": 11,
   "metadata": {},
   "outputs": [],
   "source": [
    "X_val_one = X_val.copy()\n",
    "X_val_one = X_val[X_val.columns[:-2]]"
   ]
  },
  {
   "cell_type": "code",
   "execution_count": 16,
   "metadata": {},
   "outputs": [
    {
     "data": {
      "text/plain": [
       "{'random_state': 42,\n",
       " 'n_estimators': 125,\n",
       " 'max_samples': 0.5,\n",
       " 'max_features': 'log2'}"
      ]
     },
     "execution_count": 16,
     "metadata": {},
     "output_type": "execute_result"
    }
   ],
   "source": [
    "# this is not ideal, it took more than 24 hours to run this ......\n",
    "rf_tuned = RandomForestClassifier()\n",
    "rf_random_tuning = RandomizedSearchCV(estimator = rf_tuned, param_distributions = random_search,\n",
    "                                      n_iter = 2, cv = 5, random_state=42)\n",
    "# Fit the random search model\n",
    "rf_random_tuning.fit(X_train_size, y_train_size.values.ravel())\n",
    "rf_random_tuning.best_params_"
   ]
  },
  {
   "cell_type": "code",
   "execution_count": 19,
   "metadata": {},
   "outputs": [
    {
     "data": {
      "text/plain": [
       "0.8050226513112678"
      ]
     },
     "execution_count": 19,
     "metadata": {},
     "output_type": "execute_result"
    }
   ],
   "source": [
    "rf_random_tuning.best_score_"
   ]
  },
  {
   "cell_type": "code",
   "execution_count": 20,
   "metadata": {},
   "outputs": [
    {
     "ename": "NameError",
     "evalue": "name 'target_names' is not defined",
     "output_type": "error",
     "traceback": [
      "\u001b[0;31m---------------------------------------------------------------------------\u001b[0m",
      "\u001b[0;31mNameError\u001b[0m                                 Traceback (most recent call last)",
      "\u001b[0;32m<ipython-input-20-25cbe593e424>\u001b[0m in \u001b[0;36m<module>\u001b[0;34m\u001b[0m\n\u001b[1;32m      1\u001b[0m \u001b[0my_pred\u001b[0m \u001b[0;34m=\u001b[0m \u001b[0mrf_random_tuning\u001b[0m\u001b[0;34m.\u001b[0m\u001b[0mpredict\u001b[0m\u001b[0;34m(\u001b[0m\u001b[0mX_val\u001b[0m\u001b[0;34m)\u001b[0m\u001b[0;34m\u001b[0m\u001b[0;34m\u001b[0m\u001b[0m\n\u001b[0;32m----> 2\u001b[0;31m \u001b[0mprint\u001b[0m\u001b[0;34m(\u001b[0m\u001b[0mclassification_report\u001b[0m\u001b[0;34m(\u001b[0m\u001b[0my_val\u001b[0m\u001b[0;34m,\u001b[0m \u001b[0my_pred\u001b[0m\u001b[0;34m,\u001b[0m \u001b[0mtarget_names\u001b[0m\u001b[0;34m=\u001b[0m\u001b[0mtarget_names\u001b[0m\u001b[0;34m)\u001b[0m\u001b[0;34m)\u001b[0m\u001b[0;34m\u001b[0m\u001b[0;34m\u001b[0m\u001b[0m\n\u001b[0m",
      "\u001b[0;31mNameError\u001b[0m: name 'target_names' is not defined"
     ]
    }
   ],
   "source": [
    "y_pred = rf_random_tuning.predict(X_val)"
   ]
  },
  {
   "cell_type": "code",
   "execution_count": 22,
   "metadata": {},
   "outputs": [
    {
     "name": "stdout",
     "output_type": "stream",
     "text": [
      "              precision    recall  f1-score   support\n",
      "\n",
      "           1       0.68      0.50      0.58   1955450\n",
      "           2       0.83      0.91      0.87   6165314\n",
      "           3       0.86      0.71      0.78    625623\n",
      "           4       0.30      0.78      0.44       348\n",
      "\n",
      "    accuracy                           0.81   8746735\n",
      "   macro avg       0.67      0.73      0.67   8746735\n",
      "weighted avg       0.80      0.81      0.80   8746735\n",
      "\n"
     ]
    }
   ],
   "source": [
    "print(classification_report(y_val, y_pred, target_names=target_names))"
   ]
  },
  {
   "cell_type": "markdown",
   "metadata": {},
   "source": [
    "The accuracy increase by 9%. It turns out one of the reason why the model may not be working well is due to the untuned model."
   ]
  },
  {
   "cell_type": "markdown",
   "metadata": {},
   "source": [
    "# Final Prediction (moment of truth)"
   ]
  },
  {
   "cell_type": "code",
   "execution_count": 28,
   "metadata": {},
   "outputs": [],
   "source": [
    "X_test = pd.read_feather('X_test.feather')"
   ]
  },
  {
   "cell_type": "code",
   "execution_count": 30,
   "metadata": {},
   "outputs": [],
   "source": [
    "y_test = X_test['cluster_trip'].values.ravel()"
   ]
  },
  {
   "cell_type": "code",
   "execution_count": 35,
   "metadata": {},
   "outputs": [
    {
     "data": {
      "text/html": [
       "<div>\n",
       "<style scoped>\n",
       "    .dataframe tbody tr th:only-of-type {\n",
       "        vertical-align: middle;\n",
       "    }\n",
       "\n",
       "    .dataframe tbody tr th {\n",
       "        vertical-align: top;\n",
       "    }\n",
       "\n",
       "    .dataframe thead th {\n",
       "        text-align: right;\n",
       "    }\n",
       "</style>\n",
       "<table border=\"1\" class=\"dataframe\">\n",
       "  <thead>\n",
       "    <tr style=\"text-align: right;\">\n",
       "      <th></th>\n",
       "      <th>RatecodeID</th>\n",
       "      <th>hour</th>\n",
       "      <th>trip_distance</th>\n",
       "      <th>time</th>\n",
       "      <th>day_of_week</th>\n",
       "      <th>precip</th>\n",
       "      <th>temp</th>\n",
       "      <th>destination</th>\n",
       "      <th>fare_amount</th>\n",
       "      <th>misc_amount</th>\n",
       "    </tr>\n",
       "  </thead>\n",
       "  <tbody>\n",
       "    <tr>\n",
       "      <th>762321</th>\n",
       "      <td>2.0</td>\n",
       "      <td>1</td>\n",
       "      <td>20.316667</td>\n",
       "      <td>0.569167</td>\n",
       "      <td>4</td>\n",
       "      <td>0.0</td>\n",
       "      <td>-1.0</td>\n",
       "      <td>3697</td>\n",
       "      <td>52.000000</td>\n",
       "      <td>0.083333</td>\n",
       "    </tr>\n",
       "    <tr>\n",
       "      <th>9539568</th>\n",
       "      <td>1.0</td>\n",
       "      <td>14</td>\n",
       "      <td>2.100000</td>\n",
       "      <td>0.291389</td>\n",
       "      <td>0</td>\n",
       "      <td>0.0</td>\n",
       "      <td>29.0</td>\n",
       "      <td>1326</td>\n",
       "      <td>12.500000</td>\n",
       "      <td>0.000000</td>\n",
       "    </tr>\n",
       "    <tr>\n",
       "      <th>6044612</th>\n",
       "      <td>1.0</td>\n",
       "      <td>22</td>\n",
       "      <td>11.140000</td>\n",
       "      <td>0.954583</td>\n",
       "      <td>4</td>\n",
       "      <td>0.0</td>\n",
       "      <td>20.0</td>\n",
       "      <td>3991</td>\n",
       "      <td>44.500000</td>\n",
       "      <td>0.010000</td>\n",
       "    </tr>\n",
       "    <tr>\n",
       "      <th>5143721</th>\n",
       "      <td>1.0</td>\n",
       "      <td>10</td>\n",
       "      <td>3.970000</td>\n",
       "      <td>0.703889</td>\n",
       "      <td>4</td>\n",
       "      <td>0.0</td>\n",
       "      <td>14.0</td>\n",
       "      <td>7310</td>\n",
       "      <td>26.000000</td>\n",
       "      <td>0.000000</td>\n",
       "    </tr>\n",
       "    <tr>\n",
       "      <th>3973347</th>\n",
       "      <td>1.0</td>\n",
       "      <td>21</td>\n",
       "      <td>1.428000</td>\n",
       "      <td>0.218222</td>\n",
       "      <td>5</td>\n",
       "      <td>0.0</td>\n",
       "      <td>15.0</td>\n",
       "      <td>8132</td>\n",
       "      <td>9.550000</td>\n",
       "      <td>0.046000</td>\n",
       "    </tr>\n",
       "    <tr>\n",
       "      <th>...</th>\n",
       "      <td>...</td>\n",
       "      <td>...</td>\n",
       "      <td>...</td>\n",
       "      <td>...</td>\n",
       "      <td>...</td>\n",
       "      <td>...</td>\n",
       "      <td>...</td>\n",
       "      <td>...</td>\n",
       "      <td>...</td>\n",
       "      <td>...</td>\n",
       "    </tr>\n",
       "    <tr>\n",
       "      <th>6945076</th>\n",
       "      <td>1.0</td>\n",
       "      <td>18</td>\n",
       "      <td>4.270000</td>\n",
       "      <td>0.337222</td>\n",
       "      <td>5</td>\n",
       "      <td>0.0</td>\n",
       "      <td>20.0</td>\n",
       "      <td>3008</td>\n",
       "      <td>17.500000</td>\n",
       "      <td>0.000000</td>\n",
       "    </tr>\n",
       "    <tr>\n",
       "      <th>6593012</th>\n",
       "      <td>1.0</td>\n",
       "      <td>0</td>\n",
       "      <td>1.005000</td>\n",
       "      <td>0.100139</td>\n",
       "      <td>4</td>\n",
       "      <td>0.0</td>\n",
       "      <td>18.0</td>\n",
       "      <td>2588</td>\n",
       "      <td>6.000000</td>\n",
       "      <td>0.140000</td>\n",
       "    </tr>\n",
       "    <tr>\n",
       "      <th>4160497</th>\n",
       "      <td>1.0</td>\n",
       "      <td>8</td>\n",
       "      <td>4.486667</td>\n",
       "      <td>0.383056</td>\n",
       "      <td>3</td>\n",
       "      <td>0.0</td>\n",
       "      <td>8.0</td>\n",
       "      <td>2340</td>\n",
       "      <td>18.666667</td>\n",
       "      <td>0.000000</td>\n",
       "    </tr>\n",
       "    <tr>\n",
       "      <th>5728114</th>\n",
       "      <td>1.0</td>\n",
       "      <td>0</td>\n",
       "      <td>5.100000</td>\n",
       "      <td>0.343056</td>\n",
       "      <td>4</td>\n",
       "      <td>0.0</td>\n",
       "      <td>12.0</td>\n",
       "      <td>2088</td>\n",
       "      <td>19.000000</td>\n",
       "      <td>0.110000</td>\n",
       "    </tr>\n",
       "    <tr>\n",
       "      <th>3358518</th>\n",
       "      <td>1.0</td>\n",
       "      <td>11</td>\n",
       "      <td>2.820000</td>\n",
       "      <td>0.437500</td>\n",
       "      <td>6</td>\n",
       "      <td>0.0</td>\n",
       "      <td>2.0</td>\n",
       "      <td>1926</td>\n",
       "      <td>17.500000</td>\n",
       "      <td>0.000000</td>\n",
       "    </tr>\n",
       "  </tbody>\n",
       "</table>\n",
       "<p>7718443 rows × 10 columns</p>\n",
       "</div>"
      ],
      "text/plain": [
       "         RatecodeID  hour  trip_distance      time  day_of_week  precip  temp  \\\n",
       "762321          2.0     1      20.316667  0.569167            4     0.0  -1.0   \n",
       "9539568         1.0    14       2.100000  0.291389            0     0.0  29.0   \n",
       "6044612         1.0    22      11.140000  0.954583            4     0.0  20.0   \n",
       "5143721         1.0    10       3.970000  0.703889            4     0.0  14.0   \n",
       "3973347         1.0    21       1.428000  0.218222            5     0.0  15.0   \n",
       "...             ...   ...            ...       ...          ...     ...   ...   \n",
       "6945076         1.0    18       4.270000  0.337222            5     0.0  20.0   \n",
       "6593012         1.0     0       1.005000  0.100139            4     0.0  18.0   \n",
       "4160497         1.0     8       4.486667  0.383056            3     0.0   8.0   \n",
       "5728114         1.0     0       5.100000  0.343056            4     0.0  12.0   \n",
       "3358518         1.0    11       2.820000  0.437500            6     0.0   2.0   \n",
       "\n",
       "         destination  fare_amount  misc_amount  \n",
       "762321          3697    52.000000     0.083333  \n",
       "9539568         1326    12.500000     0.000000  \n",
       "6044612         3991    44.500000     0.010000  \n",
       "5143721         7310    26.000000     0.000000  \n",
       "3973347         8132     9.550000     0.046000  \n",
       "...              ...          ...          ...  \n",
       "6945076         3008    17.500000     0.000000  \n",
       "6593012         2588     6.000000     0.140000  \n",
       "4160497         2340    18.666667     0.000000  \n",
       "5728114         2088    19.000000     0.110000  \n",
       "3358518         1926    17.500000     0.000000  \n",
       "\n",
       "[7718443 rows x 10 columns]"
      ]
     },
     "execution_count": 35,
     "metadata": {},
     "output_type": "execute_result"
    }
   ],
   "source": [
    "X_train"
   ]
  },
  {
   "cell_type": "code",
   "execution_count": 36,
   "metadata": {},
   "outputs": [
    {
     "data": {
      "text/plain": [
       "RandomForestClassifier(max_features='log2', max_samples=0.5, n_estimators=125,\n",
       "                       random_state=42)"
      ]
     },
     "execution_count": 36,
     "metadata": {},
     "output_type": "execute_result"
    }
   ],
   "source": [
    "rfc_final = RandomForestClassifier(n_estimators=125, max_samples=0.5, max_features='log2', random_state=42)\n",
    "rfc_final.fit(X_train[['RatecodeID', 'hour', 'trip_distance', \n",
    "                       'time', 'day_of_week', 'precip', \n",
    "                       'temp','destination']], y_train.values.ravel())"
   ]
  },
  {
   "cell_type": "code",
   "execution_count": 37,
   "metadata": {},
   "outputs": [],
   "source": [
    "y_pred = rfc_final.predict(X_test[['RatecodeID', 'hour', 'day_of_week', \n",
    "                                          'precip', 'temp', 'destination', 'trip_distance', 'time']])"
   ]
  },
  {
   "cell_type": "code",
   "execution_count": 38,
   "metadata": {},
   "outputs": [
    {
     "name": "stderr",
     "output_type": "stream",
     "text": [
      "/home/student.unimelb.edu.au/nyoewono/.local/lib/python3.6/site-packages/sklearn/metrics/_classification.py:1221: UndefinedMetricWarning: Precision and F-score are ill-defined and being set to 0.0 in labels with no predicted samples. Use `zero_division` parameter to control this behavior.\n",
      "  _warn_prf(average, modifier, msg_start, len(result))\n"
     ]
    },
    {
     "name": "stdout",
     "output_type": "stream",
     "text": [
      "              precision    recall  f1-score   support\n",
      "\n",
      "           1       0.25      0.00      0.00   1023147\n",
      "           2       0.72      0.99      0.84   3708741\n",
      "           3       0.12      0.01      0.02    400117\n",
      "           4       0.00      0.00      0.00       805\n",
      "\n",
      "    accuracy                           0.72   5132810\n",
      "   macro avg       0.27      0.25      0.21   5132810\n",
      "weighted avg       0.58      0.72      0.61   5132810\n",
      "\n"
     ]
    }
   ],
   "source": [
    "print(classification_report(y_test, y_pred, target_names=target_names))"
   ]
  },
  {
   "cell_type": "code",
   "execution_count": 39,
   "metadata": {},
   "outputs": [
    {
     "data": {
      "image/png": "[encoded data removed]",
      "text/plain": [
       "<Figure size 648x432 with 1 Axes>"
      ]
     },
     "metadata": {
      "needs_background": "light"
     },
     "output_type": "display_data"
    }
   ],
   "source": [
    "importance = rfc_final.feature_importances_\n",
    "# Create a figure instance\n",
    "fig = plt.figure(1, figsize=(9, 6))\n",
    "\n",
    "# Create an axes instance\n",
    "ax = fig.add_subplot(111)\n",
    "\n",
    "# Create the boxplot\n",
    "bp = ax.bar(['RatecodeID', 'hour', 'trip_distance', 'time', 'day_of_week', 'precip', 'temp', 'destination'], importance)\n",
    "plt.ylabel('%')\n",
    "plt.title('Feature importance by gini criterion over total\\n Random Forest final model', fontsize=18)\n",
    "plt.show()"
   ]
  },
  {
   "cell_type": "code",
   "execution_count": 42,
   "metadata": {},
   "outputs": [
    {
     "name": "stdout",
     "output_type": "stream",
     "text": [
      "Confusion Matrix Final Model Test\n",
      "[[   1157 1016495    5495       0]\n",
      " [   2942 3677704   28095       0]\n",
      " [    517  395015    4585       0]\n",
      " [     39     757       9       0]]\n"
     ]
    },
    {
     "data": {
      "image/png": "[encoded data removed]",
      "text/plain": [
       "<Figure size 432x288 with 2 Axes>"
      ]
     },
     "metadata": {
      "needs_background": "light"
     },
     "output_type": "display_data"
    }
   ],
   "source": [
    "from sklearn.metrics import plot_confusion_matrix\n",
    "disp = plot_confusion_matrix(rfc_final, X_test[['RatecodeID', 'hour', 'day_of_week', \n",
    "                                          'precip', 'temp', 'destination', 'trip_distance', 'time']], y_test,\n",
    "                            cmap=plt.cm.Blues)\n",
    "disp.ax_.set_title('Confusion Matrix Final Model Test')\n",
    "\n",
    "print('Confusion Matrix Final Model Test')\n",
    "print(disp.confusion_matrix)"
   ]
  },
  {
   "cell_type": "markdown",
   "metadata": {},
   "source": [
    "As expected, when tested on real data where the distance and time is just an estimate, the result was quite disapointing. The model was not able to detect any of the cluster 4 class label. Moreover, the model was not able to detect any of the class 1 and 3, which indicate"
   ]
  }
 ],
 "metadata": {
  "kernelspec": {
   "display_name": "Python 3",
   "language": "python",
   "name": "python3"
  },
  "language_info": {
   "codemirror_mode": {
    "name": "ipython",
    "version": 3
   },
   "file_extension": ".py",
   "mimetype": "text/x-python",
   "name": "python",
   "nbconvert_exporter": "python",
   "pygments_lexer": "ipython3",
   "version": "3.6.9"
  }
 },
 "nbformat": 4,
 "nbformat_minor": 4
}
