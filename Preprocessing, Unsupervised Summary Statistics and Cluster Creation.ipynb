{
 "cells": [
  {
   "cell_type": "code",
   "execution_count": 2,
   "metadata": {},
   "outputs": [
    {
     "data": {
      "application/javascript": [
       "IPython.notebook.set_autosave_interval(60000)"
      ]
     },
     "metadata": {},
     "output_type": "display_data"
    },
    {
     "name": "stdout",
     "output_type": "stream",
     "text": [
      "Autosaving every 60 seconds\n"
     ]
    }
   ],
   "source": [
    "import pandas as pd\n",
    "import numpy as np\n",
    "import os\n",
    "import seaborn as sns\n",
    "import matplotlib.pyplot as plt\n",
    "%autosave 60"
   ]
  },
  {
   "cell_type": "code",
   "execution_count": 290,
   "metadata": {},
   "outputs": [],
   "source": [
    "import urllib\n",
    "import os\n",
    "\n",
    "months = [\"01\", \"02\", \"03\", \"04\", \"05\", \"06\", \"07\", \"08\", \"09\", \"10\", \"11\", \"12\"]\n",
    "\n",
    "for month in months:\n",
    "    fname=os.getcwd()+f\"/yellow_tripdata_2019-{month}.csv\"\n",
    "    url = f'https://s3.amazonaws.com/nyc-tlc/trip+data/yellow_tripdata_2019-{month}.csv'\n",
    "    urllib.request.urlretrieve(url, fname)"
   ]
  },
  {
   "cell_type": "markdown",
   "metadata": {},
   "source": [
    "# Identifying Clusters on Taxi Earnings and Pickup Location"
   ]
  },
  {
   "cell_type": "markdown",
   "metadata": {},
   "source": [
    "- Data: TLC NYC Yellow Taxi Data\n",
    "- Period: 2019 (1 year)\n",
    "- External Data: U.S Weekly Gas Cost"
   ]
  },
  {
   "cell_type": "code",
   "execution_count": 6,
   "metadata": {},
   "outputs": [],
   "source": [
    "# All helper function\n",
    "def bool_day(day, weekday):\n",
    "    if day in weekday:\n",
    "        return 0\n",
    "    else:\n",
    "        return 1\n",
    "    \n",
    "def remove_outliers(data, att):\n",
    "    lb = data[att].quantile(q=0.25)-1.5*data[att].quantile()\n",
    "    ub = data[att].quantile(q=0.75)+1.5*data[att].quantile()\n",
    "    data = data.loc[data[att]>lb]\n",
    "    data = data.loc[data[att]<ub]\n",
    "    return data\n",
    "\n",
    "def make_ss(data, att, target, sort_att = False):\n",
    "    \n",
    "    lst = []\n",
    "    unique_val_att = np.sort(data[att].unique())\n",
    "    print(unique_val_att)\n",
    "    \n",
    "    for each_val in unique_val_att:\n",
    "        lst.append(data[data[att]==each_val])\n",
    "    \n",
    "    ss = lst[0].describe()[target]\n",
    "    \n",
    "    if len(lst)>=2:\n",
    "        for each_df in lst[1:]:\n",
    "            ss = pd.concat([ss, each_df.describe()[target]], axis=1)\n",
    "    \n",
    "    return ss\n",
    "\n",
    "def stratify_sample(data, att, n):\n",
    "    lst_data = []\n",
    "    unique_att = data[att].unique()\n",
    "    for each_label in unique_att:\n",
    "        lst_data.append(data[data[att]==each_label].sample(n=n))\n",
    "    samples = lst_data[0]\n",
    "    for each_data in lst_data[1:]:\n",
    "        samples = pd.concat([samples, each_data])\n",
    "    return samples"
   ]
  },
  {
   "cell_type": "markdown",
   "metadata": {},
   "source": [
    "# Preprocessing Stage"
   ]
  },
  {
   "cell_type": "code",
   "execution_count": 291,
   "metadata": {},
   "outputs": [],
   "source": [
    "data = pd.read_csv('yellow_tripdata_2019-01.csv')"
   ]
  },
  {
   "cell_type": "code",
   "execution_count": 303,
   "metadata": {},
   "outputs": [
    {
     "data": {
      "text/html": [
       "<div>\n",
       "<style scoped>\n",
       "    .dataframe tbody tr th:only-of-type {\n",
       "        vertical-align: middle;\n",
       "    }\n",
       "\n",
       "    .dataframe tbody tr th {\n",
       "        vertical-align: top;\n",
       "    }\n",
       "\n",
       "    .dataframe thead th {\n",
       "        text-align: right;\n",
       "    }\n",
       "</style>\n",
       "<table border=\"1\" class=\"dataframe\">\n",
       "  <thead>\n",
       "    <tr style=\"text-align: right;\">\n",
       "      <th></th>\n",
       "      <th>VendorID</th>\n",
       "      <th>tpep_pickup_datetime</th>\n",
       "      <th>tpep_dropoff_datetime</th>\n",
       "      <th>passenger_count</th>\n",
       "      <th>trip_distance</th>\n",
       "      <th>RatecodeID</th>\n",
       "      <th>store_and_fwd_flag</th>\n",
       "      <th>PULocationID</th>\n",
       "      <th>DOLocationID</th>\n",
       "      <th>payment_type</th>\n",
       "      <th>fare_amount</th>\n",
       "      <th>extra</th>\n",
       "      <th>mta_tax</th>\n",
       "      <th>tip_amount</th>\n",
       "      <th>tolls_amount</th>\n",
       "      <th>improvement_surcharge</th>\n",
       "      <th>total_amount</th>\n",
       "      <th>congestion_surcharge</th>\n",
       "    </tr>\n",
       "  </thead>\n",
       "  <tbody>\n",
       "    <tr>\n",
       "      <th>0</th>\n",
       "      <td>1</td>\n",
       "      <td>2019-01-01 00:46:40</td>\n",
       "      <td>2019-01-01 00:53:20</td>\n",
       "      <td>1</td>\n",
       "      <td>1.5</td>\n",
       "      <td>1</td>\n",
       "      <td>N</td>\n",
       "      <td>151</td>\n",
       "      <td>239</td>\n",
       "      <td>1</td>\n",
       "      <td>7.0</td>\n",
       "      <td>0.5</td>\n",
       "      <td>0.5</td>\n",
       "      <td>1.65</td>\n",
       "      <td>0.0</td>\n",
       "      <td>0.3</td>\n",
       "      <td>9.95</td>\n",
       "      <td>NaN</td>\n",
       "    </tr>\n",
       "    <tr>\n",
       "      <th>1</th>\n",
       "      <td>1</td>\n",
       "      <td>2019-01-01 00:59:47</td>\n",
       "      <td>2019-01-01 01:18:59</td>\n",
       "      <td>1</td>\n",
       "      <td>2.6</td>\n",
       "      <td>1</td>\n",
       "      <td>N</td>\n",
       "      <td>239</td>\n",
       "      <td>246</td>\n",
       "      <td>1</td>\n",
       "      <td>14.0</td>\n",
       "      <td>0.5</td>\n",
       "      <td>0.5</td>\n",
       "      <td>1.00</td>\n",
       "      <td>0.0</td>\n",
       "      <td>0.3</td>\n",
       "      <td>16.30</td>\n",
       "      <td>NaN</td>\n",
       "    </tr>\n",
       "    <tr>\n",
       "      <th>2</th>\n",
       "      <td>2</td>\n",
       "      <td>2018-12-21 13:48:30</td>\n",
       "      <td>2018-12-21 13:52:40</td>\n",
       "      <td>3</td>\n",
       "      <td>0.0</td>\n",
       "      <td>1</td>\n",
       "      <td>N</td>\n",
       "      <td>236</td>\n",
       "      <td>236</td>\n",
       "      <td>1</td>\n",
       "      <td>4.5</td>\n",
       "      <td>0.5</td>\n",
       "      <td>0.5</td>\n",
       "      <td>0.00</td>\n",
       "      <td>0.0</td>\n",
       "      <td>0.3</td>\n",
       "      <td>5.80</td>\n",
       "      <td>NaN</td>\n",
       "    </tr>\n",
       "    <tr>\n",
       "      <th>3</th>\n",
       "      <td>2</td>\n",
       "      <td>2018-11-28 15:52:25</td>\n",
       "      <td>2018-11-28 15:55:45</td>\n",
       "      <td>5</td>\n",
       "      <td>0.0</td>\n",
       "      <td>1</td>\n",
       "      <td>N</td>\n",
       "      <td>193</td>\n",
       "      <td>193</td>\n",
       "      <td>2</td>\n",
       "      <td>3.5</td>\n",
       "      <td>0.5</td>\n",
       "      <td>0.5</td>\n",
       "      <td>0.00</td>\n",
       "      <td>0.0</td>\n",
       "      <td>0.3</td>\n",
       "      <td>7.55</td>\n",
       "      <td>NaN</td>\n",
       "    </tr>\n",
       "    <tr>\n",
       "      <th>4</th>\n",
       "      <td>2</td>\n",
       "      <td>2018-11-28 15:56:57</td>\n",
       "      <td>2018-11-28 15:58:33</td>\n",
       "      <td>5</td>\n",
       "      <td>0.0</td>\n",
       "      <td>2</td>\n",
       "      <td>N</td>\n",
       "      <td>193</td>\n",
       "      <td>193</td>\n",
       "      <td>2</td>\n",
       "      <td>52.0</td>\n",
       "      <td>0.0</td>\n",
       "      <td>0.5</td>\n",
       "      <td>0.00</td>\n",
       "      <td>0.0</td>\n",
       "      <td>0.3</td>\n",
       "      <td>55.55</td>\n",
       "      <td>NaN</td>\n",
       "    </tr>\n",
       "  </tbody>\n",
       "</table>\n",
       "</div>"
      ],
      "text/plain": [
       "   VendorID tpep_pickup_datetime tpep_dropoff_datetime  passenger_count  \\\n",
       "0         1  2019-01-01 00:46:40   2019-01-01 00:53:20                1   \n",
       "1         1  2019-01-01 00:59:47   2019-01-01 01:18:59                1   \n",
       "2         2  2018-12-21 13:48:30   2018-12-21 13:52:40                3   \n",
       "3         2  2018-11-28 15:52:25   2018-11-28 15:55:45                5   \n",
       "4         2  2018-11-28 15:56:57   2018-11-28 15:58:33                5   \n",
       "\n",
       "   trip_distance  RatecodeID store_and_fwd_flag  PULocationID  DOLocationID  \\\n",
       "0            1.5           1                  N           151           239   \n",
       "1            2.6           1                  N           239           246   \n",
       "2            0.0           1                  N           236           236   \n",
       "3            0.0           1                  N           193           193   \n",
       "4            0.0           2                  N           193           193   \n",
       "\n",
       "   payment_type  fare_amount  extra  mta_tax  tip_amount  tolls_amount  \\\n",
       "0             1          7.0    0.5      0.5        1.65           0.0   \n",
       "1             1         14.0    0.5      0.5        1.00           0.0   \n",
       "2             1          4.5    0.5      0.5        0.00           0.0   \n",
       "3             2          3.5    0.5      0.5        0.00           0.0   \n",
       "4             2         52.0    0.0      0.5        0.00           0.0   \n",
       "\n",
       "   improvement_surcharge  total_amount  congestion_surcharge  \n",
       "0                    0.3          9.95                   NaN  \n",
       "1                    0.3         16.30                   NaN  \n",
       "2                    0.3          5.80                   NaN  \n",
       "3                    0.3          7.55                   NaN  \n",
       "4                    0.3         55.55                   NaN  "
      ]
     },
     "execution_count": 303,
     "metadata": {},
     "output_type": "execute_result"
    }
   ],
   "source": [
    "data.head()"
   ]
  },
  {
   "cell_type": "code",
   "execution_count": 100,
   "metadata": {},
   "outputs": [],
   "source": [
    "def main_preprocessing(data, month):\n",
    "    \n",
    "    data = data.loc[data['passenger_count']>0, :]\n",
    "    data = data.loc[data['trip_distance']>0, :]\n",
    "    data = data.loc[data['fare_amount']>=2.5, :]\n",
    "    data = data.loc[data['total_amount']>=2.5, :]\n",
    "    data = data.loc[data['RatecodeID'].isin([1, 2, 3, 4, 5, 6]), :]\n",
    "    data = data.loc[data['payment_type'].isin([1])]\n",
    "    \n",
    "    # jkf rate\n",
    "    data = data.loc[jkf_rate(data), :]\n",
    "    # newark rate\n",
    "    data = data.loc[newark_rate(data), :]\n",
    "    \n",
    "    data = clean_date(data, month)\n",
    "    \n",
    "    data['tpep_pickup_datetime'] = pd.to_datetime(data['tpep_pickup_datetime'])\n",
    "    data['tpep_dropoff_datetime'] = pd.to_datetime(data['tpep_dropoff_datetime'])\n",
    "    \n",
    "    data = feat_engin(data)\n",
    "    \n",
    "    data = data.loc[data['tip_amount']>=0]\n",
    "    data['tip_amount'] = round(data['tip_amount']/data['total_amount'], 2)\n",
    "    data['misc_amount'] = round((data['tolls_amount']+data['extra'])/data['total_amount'], 2)\n",
    "    \n",
    "    data = data[['trip_distance', 'RatecodeID', 'PULocationID', 'DOLocationID','fare_amount', 'misc_amount',\n",
    "            'tip_amount', 'time', 'hour', 'date']]\n",
    "    \n",
    "    #data = do_groupby(data)\n",
    "    \n",
    "    return data"
   ]
  },
  {
   "cell_type": "code",
   "execution_count": 101,
   "metadata": {},
   "outputs": [],
   "source": [
    "def jkf_rate(data):\n",
    "    all_index = data.index\n",
    "    sliced_data = data[data['RatecodeID']==2]\n",
    "    index_sliced = sliced_data[sliced_data['fare_amount']!=52].index\n",
    "    set_index = set(all_index)-set(index_sliced)\n",
    "    return list(set_index)\n",
    "\n",
    "def newark_rate(data):\n",
    "    all_index = data.index\n",
    "    sliced_data = data[data['RatecodeID']==3]\n",
    "    index_sliced = sliced_data[sliced_data['fare_amount']<17.5].index\n",
    "    set_index = set(all_index)-set(index_sliced)\n",
    "    return list(set_index)"
   ]
  },
  {
   "cell_type": "code",
   "execution_count": 102,
   "metadata": {},
   "outputs": [],
   "source": [
    "def feat_engin(data):\n",
    "    \n",
    "    data['time'] = data['tpep_dropoff_datetime']-data['tpep_pickup_datetime']\n",
    "    data['time'] = data['time'].apply(lambda x: float(x.seconds/3600))\n",
    "    data['speed'] = data['trip_distance']/data['time']\n",
    "    \n",
    "    data = prep_feat_engin(data)\n",
    "    \n",
    "    data['hour'] = data['tpep_pickup_datetime'].apply(lambda x: x.hour)\n",
    "    \n",
    "    # later\n",
    "    #data['day'] = data['tpep_pickup_datetime'].dt.day_name()\n",
    "    \n",
    "    return data"
   ]
  },
  {
   "cell_type": "code",
   "execution_count": 103,
   "metadata": {},
   "outputs": [],
   "source": [
    "def prep_feat_engin(data):\n",
    "    \n",
    "    min_time = 0.083\n",
    "    max_time = 2\n",
    "    max_speed = 65\n",
    "    \n",
    "    data = data.loc[data['time']>min_time, :]\n",
    "    data = data.loc[data['time']<max_time, :]\n",
    "    data = data.loc[data['speed']<max_speed, :]\n",
    "    \n",
    "    return data"
   ]
  },
  {
   "cell_type": "code",
   "execution_count": 104,
   "metadata": {},
   "outputs": [],
   "source": [
    "# clean date\n",
    "def clean_date(data, month):\n",
    "\n",
    "    year='2019'\n",
    "\n",
    "    if (int(month)<8 and int(month)%2!=0) or (int(month)>7 and int(month)%2==0):\n",
    "        date = [i for i in range(1, 32)]\n",
    "    elif month=='02':\n",
    "        date = [i for i in range(1, 29)]\n",
    "    else:\n",
    "        date = [i for i in range(1, 31)]\n",
    "\n",
    "    # Extract the date\n",
    "    data['date'] = data['tpep_pickup_datetime'].apply(lambda x: x.split()[0])\n",
    "    # clean the date\n",
    "    lst_date = data['date'].unique()\n",
    "    lst_date = [i for i in lst_date if i[5:7] == month and i[0:4] == year and int(i[8:]) in date]\n",
    "    data = data[data['date'].isin(lst_date)]\n",
    "    \n",
    "    return data"
   ]
  },
  {
   "cell_type": "code",
   "execution_count": 105,
   "metadata": {},
   "outputs": [],
   "source": [
    "def do_groupby(data):\n",
    "    \n",
    "    data['trip_count']=1\n",
    "    \n",
    "    # get the trip frequency\n",
    "    freq_data = data.groupby(by=['date', 'PULocationID', 'DOLocationID','RatecodeID', 'hour']).sum().reset_index()['trip_count']\n",
    "    mean_data = data.groupby(by=['date', 'PULocationID', 'DOLocationID','RatecodeID','hour']).mean().reset_index()\n",
    "    mean_data['trip_count'] = freq_data\n",
    "    \n",
    "    # additional feature engineering\n",
    "    mean_data['fare_per_minute'] = (mean_data['fare_amount'])/(mean_data['time']*60)\n",
    "    mean_data['fare_distance'] = mean_data['fare_amount']/mean_data['trip_distance']\n",
    "    mean_data['day'] = pd.to_datetime(mean_data['date']).dt.dayofweek\n",
    "    \n",
    "    return mean_data"
   ]
  },
  {
   "cell_type": "code",
   "execution_count": 12,
   "metadata": {},
   "outputs": [
    {
     "ename": "NameError",
     "evalue": "name 'data' is not defined",
     "output_type": "error",
     "traceback": [
      "\u001b[0;31m---------------------------------------------------------------------------\u001b[0m",
      "\u001b[0;31mNameError\u001b[0m                                 Traceback (most recent call last)",
      "\u001b[0;32m<ipython-input-12-f9c92e8af7a2>\u001b[0m in \u001b[0;36m<module>\u001b[0;34m\u001b[0m\n\u001b[0;32m----> 1\u001b[0;31m \u001b[0mdata\u001b[0m \u001b[0;34m=\u001b[0m \u001b[0mmain_preprocessing\u001b[0m\u001b[0;34m(\u001b[0m\u001b[0mdata\u001b[0m\u001b[0;34m,\u001b[0m \u001b[0;34m'04'\u001b[0m\u001b[0;34m)\u001b[0m\u001b[0;34m\u001b[0m\u001b[0;34m\u001b[0m\u001b[0m\n\u001b[0m",
      "\u001b[0;31mNameError\u001b[0m: name 'data' is not defined"
     ]
    }
   ],
   "source": [
    "data = main_preprocessing(data, '04')"
   ]
  },
  {
   "cell_type": "code",
   "execution_count": 215,
   "metadata": {},
   "outputs": [
    {
     "name": "stdout",
     "output_type": "stream",
     "text": [
      "<class 'pandas.core.frame.DataFrame'>\n",
      "Int64Index: 8492977 entries, 0 to 10046187\n",
      "Data columns (total 12 columns):\n",
      " #   Column           Dtype  \n",
      "---  ------           -----  \n",
      " 0   trip_distance    float64\n",
      " 1   RatecodeID       int64  \n",
      " 2   PULocationID     int64  \n",
      " 3   DOLocationID     int64  \n",
      " 4   fare_amount      float64\n",
      " 5   tolls_amount     float64\n",
      " 6   tip_amount       float64\n",
      " 7   time             float64\n",
      " 8   fare_per_minute  float64\n",
      " 9   fare_distance    float64\n",
      " 10  hour             int64  \n",
      " 11  date             object \n",
      "dtypes: float64(7), int64(4), object(1)\n",
      "memory usage: 842.4+ MB\n"
     ]
    }
   ],
   "source": [
    "data.info()"
   ]
  },
  {
   "cell_type": "code",
   "execution_count": 277,
   "metadata": {},
   "outputs": [],
   "source": [
    "grouped_data = do_groupby(data)"
   ]
  },
  {
   "cell_type": "code",
   "execution_count": 274,
   "metadata": {},
   "outputs": [
    {
     "name": "stdout",
     "output_type": "stream",
     "text": [
      "<class 'pandas.core.frame.DataFrame'>\n",
      "RangeIndex: 2111972 entries, 0 to 2111971\n",
      "Data columns (total 13 columns):\n",
      " #   Column           Dtype  \n",
      "---  ------           -----  \n",
      " 0   date             object \n",
      " 1   PULocationID     int64  \n",
      " 2   DOLocationID     int64  \n",
      " 3   RatecodeID       int64  \n",
      " 4   hour             int64  \n",
      " 5   trip_distance    float64\n",
      " 6   fare_amount      float64\n",
      " 7   tolls_amount     float64\n",
      " 8   tip_amount       float64\n",
      " 9   time             float64\n",
      " 10  fare_per_minute  float64\n",
      " 11  fare_distance    float64\n",
      " 12  trip_count       int64  \n",
      "dtypes: float64(7), int64(5), object(1)\n",
      "memory usage: 209.5+ MB\n"
     ]
    }
   ],
   "source": [
    "grouped_data.info()"
   ]
  },
  {
   "cell_type": "code",
   "execution_count": 278,
   "metadata": {},
   "outputs": [
    {
     "data": {
      "text/html": [
       "<div>\n",
       "<style scoped>\n",
       "    .dataframe tbody tr th:only-of-type {\n",
       "        vertical-align: middle;\n",
       "    }\n",
       "\n",
       "    .dataframe tbody tr th {\n",
       "        vertical-align: top;\n",
       "    }\n",
       "\n",
       "    .dataframe thead th {\n",
       "        text-align: right;\n",
       "    }\n",
       "</style>\n",
       "<table border=\"1\" class=\"dataframe\">\n",
       "  <thead>\n",
       "    <tr style=\"text-align: right;\">\n",
       "      <th></th>\n",
       "      <th>date</th>\n",
       "      <th>PULocationID</th>\n",
       "      <th>DOLocationID</th>\n",
       "      <th>RatecodeID</th>\n",
       "      <th>hour</th>\n",
       "      <th>trip_distance</th>\n",
       "      <th>fare_amount</th>\n",
       "      <th>tolls_amount</th>\n",
       "      <th>tip_amount</th>\n",
       "      <th>time</th>\n",
       "      <th>fare_per_minute</th>\n",
       "      <th>fare_distance</th>\n",
       "      <th>trip_count</th>\n",
       "    </tr>\n",
       "  </thead>\n",
       "  <tbody>\n",
       "    <tr>\n",
       "      <th>0</th>\n",
       "      <td>2017-04-01</td>\n",
       "      <td>1</td>\n",
       "      <td>1</td>\n",
       "      <td>2</td>\n",
       "      <td>17</td>\n",
       "      <td>21.460</td>\n",
       "      <td>52.00</td>\n",
       "      <td>5.76</td>\n",
       "      <td>0.000</td>\n",
       "      <td>1.194444</td>\n",
       "      <td>0.725581</td>\n",
       "      <td>2.423113</td>\n",
       "      <td>1</td>\n",
       "    </tr>\n",
       "    <tr>\n",
       "      <th>1</th>\n",
       "      <td>2017-04-01</td>\n",
       "      <td>3</td>\n",
       "      <td>51</td>\n",
       "      <td>5</td>\n",
       "      <td>12</td>\n",
       "      <td>2.100</td>\n",
       "      <td>9.20</td>\n",
       "      <td>0.00</td>\n",
       "      <td>0.000</td>\n",
       "      <td>0.199722</td>\n",
       "      <td>0.767733</td>\n",
       "      <td>4.380952</td>\n",
       "      <td>1</td>\n",
       "    </tr>\n",
       "    <tr>\n",
       "      <th>2</th>\n",
       "      <td>2017-04-01</td>\n",
       "      <td>4</td>\n",
       "      <td>4</td>\n",
       "      <td>1</td>\n",
       "      <td>0</td>\n",
       "      <td>0.820</td>\n",
       "      <td>5.50</td>\n",
       "      <td>0.00</td>\n",
       "      <td>0.000</td>\n",
       "      <td>0.092500</td>\n",
       "      <td>0.990991</td>\n",
       "      <td>6.707317</td>\n",
       "      <td>1</td>\n",
       "    </tr>\n",
       "    <tr>\n",
       "      <th>3</th>\n",
       "      <td>2017-04-01</td>\n",
       "      <td>4</td>\n",
       "      <td>4</td>\n",
       "      <td>1</td>\n",
       "      <td>1</td>\n",
       "      <td>0.785</td>\n",
       "      <td>6.00</td>\n",
       "      <td>0.00</td>\n",
       "      <td>0.000</td>\n",
       "      <td>0.106250</td>\n",
       "      <td>0.941176</td>\n",
       "      <td>7.643312</td>\n",
       "      <td>2</td>\n",
       "    </tr>\n",
       "    <tr>\n",
       "      <th>4</th>\n",
       "      <td>2017-04-01</td>\n",
       "      <td>4</td>\n",
       "      <td>4</td>\n",
       "      <td>1</td>\n",
       "      <td>3</td>\n",
       "      <td>1.100</td>\n",
       "      <td>6.75</td>\n",
       "      <td>0.00</td>\n",
       "      <td>0.775</td>\n",
       "      <td>0.118194</td>\n",
       "      <td>0.951821</td>\n",
       "      <td>6.136364</td>\n",
       "      <td>2</td>\n",
       "    </tr>\n",
       "    <tr>\n",
       "      <th>...</th>\n",
       "      <td>...</td>\n",
       "      <td>...</td>\n",
       "      <td>...</td>\n",
       "      <td>...</td>\n",
       "      <td>...</td>\n",
       "      <td>...</td>\n",
       "      <td>...</td>\n",
       "      <td>...</td>\n",
       "      <td>...</td>\n",
       "      <td>...</td>\n",
       "      <td>...</td>\n",
       "      <td>...</td>\n",
       "      <td>...</td>\n",
       "    </tr>\n",
       "    <tr>\n",
       "      <th>2111967</th>\n",
       "      <td>2017-04-30</td>\n",
       "      <td>265</td>\n",
       "      <td>265</td>\n",
       "      <td>5</td>\n",
       "      <td>0</td>\n",
       "      <td>12.300</td>\n",
       "      <td>198.00</td>\n",
       "      <td>0.00</td>\n",
       "      <td>39.650</td>\n",
       "      <td>0.358333</td>\n",
       "      <td>9.209302</td>\n",
       "      <td>16.097561</td>\n",
       "      <td>1</td>\n",
       "    </tr>\n",
       "    <tr>\n",
       "      <th>2111968</th>\n",
       "      <td>2017-04-30</td>\n",
       "      <td>265</td>\n",
       "      <td>265</td>\n",
       "      <td>5</td>\n",
       "      <td>3</td>\n",
       "      <td>12.780</td>\n",
       "      <td>63.00</td>\n",
       "      <td>0.00</td>\n",
       "      <td>8.830</td>\n",
       "      <td>0.740833</td>\n",
       "      <td>1.417323</td>\n",
       "      <td>4.929577</td>\n",
       "      <td>2</td>\n",
       "    </tr>\n",
       "    <tr>\n",
       "      <th>2111969</th>\n",
       "      <td>2017-04-30</td>\n",
       "      <td>265</td>\n",
       "      <td>265</td>\n",
       "      <td>5</td>\n",
       "      <td>4</td>\n",
       "      <td>10.000</td>\n",
       "      <td>100.00</td>\n",
       "      <td>10.50</td>\n",
       "      <td>0.000</td>\n",
       "      <td>0.192222</td>\n",
       "      <td>8.670520</td>\n",
       "      <td>10.000000</td>\n",
       "      <td>1</td>\n",
       "    </tr>\n",
       "    <tr>\n",
       "      <th>2111970</th>\n",
       "      <td>2017-04-30</td>\n",
       "      <td>265</td>\n",
       "      <td>265</td>\n",
       "      <td>5</td>\n",
       "      <td>16</td>\n",
       "      <td>3.020</td>\n",
       "      <td>45.00</td>\n",
       "      <td>12.50</td>\n",
       "      <td>11.560</td>\n",
       "      <td>0.187222</td>\n",
       "      <td>4.005935</td>\n",
       "      <td>14.900662</td>\n",
       "      <td>1</td>\n",
       "    </tr>\n",
       "    <tr>\n",
       "      <th>2111971</th>\n",
       "      <td>2017-04-30</td>\n",
       "      <td>265</td>\n",
       "      <td>265</td>\n",
       "      <td>5</td>\n",
       "      <td>21</td>\n",
       "      <td>23.030</td>\n",
       "      <td>220.00</td>\n",
       "      <td>0.00</td>\n",
       "      <td>44.060</td>\n",
       "      <td>0.433333</td>\n",
       "      <td>8.461538</td>\n",
       "      <td>9.552757</td>\n",
       "      <td>1</td>\n",
       "    </tr>\n",
       "  </tbody>\n",
       "</table>\n",
       "<p>2111972 rows × 13 columns</p>\n",
       "</div>"
      ],
      "text/plain": [
       "               date  PULocationID  DOLocationID  RatecodeID  hour  \\\n",
       "0        2017-04-01             1             1           2    17   \n",
       "1        2017-04-01             3            51           5    12   \n",
       "2        2017-04-01             4             4           1     0   \n",
       "3        2017-04-01             4             4           1     1   \n",
       "4        2017-04-01             4             4           1     3   \n",
       "...             ...           ...           ...         ...   ...   \n",
       "2111967  2017-04-30           265           265           5     0   \n",
       "2111968  2017-04-30           265           265           5     3   \n",
       "2111969  2017-04-30           265           265           5     4   \n",
       "2111970  2017-04-30           265           265           5    16   \n",
       "2111971  2017-04-30           265           265           5    21   \n",
       "\n",
       "         trip_distance  fare_amount  tolls_amount  tip_amount      time  \\\n",
       "0               21.460        52.00          5.76       0.000  1.194444   \n",
       "1                2.100         9.20          0.00       0.000  0.199722   \n",
       "2                0.820         5.50          0.00       0.000  0.092500   \n",
       "3                0.785         6.00          0.00       0.000  0.106250   \n",
       "4                1.100         6.75          0.00       0.775  0.118194   \n",
       "...                ...          ...           ...         ...       ...   \n",
       "2111967         12.300       198.00          0.00      39.650  0.358333   \n",
       "2111968         12.780        63.00          0.00       8.830  0.740833   \n",
       "2111969         10.000       100.00         10.50       0.000  0.192222   \n",
       "2111970          3.020        45.00         12.50      11.560  0.187222   \n",
       "2111971         23.030       220.00          0.00      44.060  0.433333   \n",
       "\n",
       "         fare_per_minute  fare_distance  trip_count  \n",
       "0               0.725581       2.423113           1  \n",
       "1               0.767733       4.380952           1  \n",
       "2               0.990991       6.707317           1  \n",
       "3               0.941176       7.643312           2  \n",
       "4               0.951821       6.136364           2  \n",
       "...                  ...            ...         ...  \n",
       "2111967         9.209302      16.097561           1  \n",
       "2111968         1.417323       4.929577           2  \n",
       "2111969         8.670520      10.000000           1  \n",
       "2111970         4.005935      14.900662           1  \n",
       "2111971         8.461538       9.552757           1  \n",
       "\n",
       "[2111972 rows x 13 columns]"
      ]
     },
     "execution_count": 278,
     "metadata": {},
     "output_type": "execute_result"
    }
   ],
   "source": [
    "grouped_data"
   ]
  },
  {
   "cell_type": "markdown",
   "metadata": {},
   "source": [
    "## Gas Preprocessing"
   ]
  },
  {
   "cell_type": "markdown",
   "metadata": {},
   "source": [
    "The gas data here is used to take into account the taxi trip operational cost due to fuel lost in each trip per miles.\n",
    "The data is taken from https://www.eia.gov/dnav/pet/hist/LeafHandler.ashx?n=PET&s=EMM_EPM0_PTE_NUS_DPG&f=W, and it appears that on average, a galon of gas could accomodate 18 miles for each taxi."
   ]
  },
  {
   "cell_type": "code",
   "execution_count": 106,
   "metadata": {},
   "outputs": [],
   "source": [
    "gas = pd.read_csv('EMM_EPM0_PTE_NUS_DPGw.csv')"
   ]
  },
  {
   "cell_type": "code",
   "execution_count": 107,
   "metadata": {},
   "outputs": [],
   "source": [
    "def preprocess_gas(data):\n",
    "    dic_month={'Jan':'01', 'Feb':'02', 'Mar':'03', 'Apr':'04', 'May':'05', \n",
    "           'Jun':'06', 'Jul':'07', 'Aug':'08', 'Sep':'09', 'Oct':'10',\n",
    "           'Nov':'11', 'Dec':'12'}\n",
    "    \n",
    "    data.dropna(inplace = True)\n",
    "    data['Date'] = data['Date'].apply(lambda x: x.split())\n",
    "    data['Date'] = data['Date'].apply(lambda x: x[-1]+'-'+dic_month[x[0]]+'-'+x[1][:2])\n",
    "    data.columns = ['date', 'gas_price']\n",
    "    \n",
    "    #data = data[data['date']>'2017']\n",
    "    #data = data[data['date']<'2018']\n",
    "    \n",
    "    data.to_csv(os.getcwd()+'/gas_price.csv', index = False)"
   ]
  },
  {
   "cell_type": "code",
   "execution_count": 108,
   "metadata": {},
   "outputs": [],
   "source": [
    "def combined_gas(data, gas):\n",
    "    grouped_data = pd.merge(data, gas, on='date', how = 'outer')\n",
    "    grouped_data = grouped_data.fillna(method='bfill')\n",
    "    grouped_data.dropna(inplace = True)\n",
    "    return grouped_data"
   ]
  },
  {
   "cell_type": "code",
   "execution_count": 248,
   "metadata": {},
   "outputs": [],
   "source": [
    "preprocess_gas(gas)"
   ]
  },
  {
   "cell_type": "code",
   "execution_count": 113,
   "metadata": {},
   "outputs": [],
   "source": [
    "gas = pd.read_csv('gas_price.csv')"
   ]
  },
  {
   "cell_type": "code",
   "execution_count": 279,
   "metadata": {},
   "outputs": [],
   "source": [
    "check = combined_gas(grouped_data, gas)"
   ]
  },
  {
   "cell_type": "code",
   "execution_count": 109,
   "metadata": {},
   "outputs": [],
   "source": [
    "def clean_fare_distance(data):\n",
    "    galon_per_miles = 1/18\n",
    "    data['est_gas_cost'] = galon_per_miles*data['gas_price']\n",
    "    data['clean_fare_distance'] = data['fare_distance']-data['est_gas_cost']\n",
    "    data.drop(labels=['est_gas_cost', 'gas_price', 'fare_distance'], axis=1, inplace = True)\n",
    "    return data"
   ]
  },
  {
   "cell_type": "code",
   "execution_count": 280,
   "metadata": {},
   "outputs": [],
   "source": [
    "check = clean_fare_distance(check, gas)"
   ]
  },
  {
   "cell_type": "code",
   "execution_count": 289,
   "metadata": {},
   "outputs": [
    {
     "data": {
      "text/html": [
       "<div>\n",
       "<style scoped>\n",
       "    .dataframe tbody tr th:only-of-type {\n",
       "        vertical-align: middle;\n",
       "    }\n",
       "\n",
       "    .dataframe tbody tr th {\n",
       "        vertical-align: top;\n",
       "    }\n",
       "\n",
       "    .dataframe thead th {\n",
       "        text-align: right;\n",
       "    }\n",
       "</style>\n",
       "<table border=\"1\" class=\"dataframe\">\n",
       "  <thead>\n",
       "    <tr style=\"text-align: right;\">\n",
       "      <th></th>\n",
       "      <th>date</th>\n",
       "      <th>PULocationID</th>\n",
       "      <th>DOLocationID</th>\n",
       "      <th>RatecodeID</th>\n",
       "      <th>hour</th>\n",
       "      <th>trip_distance</th>\n",
       "      <th>fare_amount</th>\n",
       "      <th>tolls_amount</th>\n",
       "      <th>tip_amount</th>\n",
       "      <th>time</th>\n",
       "      <th>fare_per_minute</th>\n",
       "      <th>trip_count</th>\n",
       "      <th>clean_fare_distance</th>\n",
       "      <th>day</th>\n",
       "    </tr>\n",
       "  </thead>\n",
       "  <tbody>\n",
       "    <tr>\n",
       "      <th>0</th>\n",
       "      <td>2017-04-01</td>\n",
       "      <td>1.0</td>\n",
       "      <td>1.0</td>\n",
       "      <td>2.0</td>\n",
       "      <td>17.0</td>\n",
       "      <td>21.460</td>\n",
       "      <td>52.00</td>\n",
       "      <td>5.76</td>\n",
       "      <td>0.000</td>\n",
       "      <td>1.194444</td>\n",
       "      <td>0.725581</td>\n",
       "      <td>1.0</td>\n",
       "      <td>2.285835</td>\n",
       "      <td>5</td>\n",
       "    </tr>\n",
       "    <tr>\n",
       "      <th>1</th>\n",
       "      <td>2017-04-01</td>\n",
       "      <td>3.0</td>\n",
       "      <td>51.0</td>\n",
       "      <td>5.0</td>\n",
       "      <td>12.0</td>\n",
       "      <td>2.100</td>\n",
       "      <td>9.20</td>\n",
       "      <td>0.00</td>\n",
       "      <td>0.000</td>\n",
       "      <td>0.199722</td>\n",
       "      <td>0.767733</td>\n",
       "      <td>1.0</td>\n",
       "      <td>4.243675</td>\n",
       "      <td>5</td>\n",
       "    </tr>\n",
       "    <tr>\n",
       "      <th>2</th>\n",
       "      <td>2017-04-01</td>\n",
       "      <td>4.0</td>\n",
       "      <td>4.0</td>\n",
       "      <td>1.0</td>\n",
       "      <td>0.0</td>\n",
       "      <td>0.820</td>\n",
       "      <td>5.50</td>\n",
       "      <td>0.00</td>\n",
       "      <td>0.000</td>\n",
       "      <td>0.092500</td>\n",
       "      <td>0.990991</td>\n",
       "      <td>1.0</td>\n",
       "      <td>6.570039</td>\n",
       "      <td>5</td>\n",
       "    </tr>\n",
       "    <tr>\n",
       "      <th>3</th>\n",
       "      <td>2017-04-01</td>\n",
       "      <td>4.0</td>\n",
       "      <td>4.0</td>\n",
       "      <td>1.0</td>\n",
       "      <td>1.0</td>\n",
       "      <td>0.785</td>\n",
       "      <td>6.00</td>\n",
       "      <td>0.00</td>\n",
       "      <td>0.000</td>\n",
       "      <td>0.106250</td>\n",
       "      <td>0.941176</td>\n",
       "      <td>2.0</td>\n",
       "      <td>7.506034</td>\n",
       "      <td>5</td>\n",
       "    </tr>\n",
       "    <tr>\n",
       "      <th>4</th>\n",
       "      <td>2017-04-01</td>\n",
       "      <td>4.0</td>\n",
       "      <td>4.0</td>\n",
       "      <td>1.0</td>\n",
       "      <td>3.0</td>\n",
       "      <td>1.100</td>\n",
       "      <td>6.75</td>\n",
       "      <td>0.00</td>\n",
       "      <td>0.775</td>\n",
       "      <td>0.118194</td>\n",
       "      <td>0.951821</td>\n",
       "      <td>2.0</td>\n",
       "      <td>5.999086</td>\n",
       "      <td>5</td>\n",
       "    </tr>\n",
       "  </tbody>\n",
       "</table>\n",
       "</div>"
      ],
      "text/plain": [
       "         date  PULocationID  DOLocationID  RatecodeID  hour  trip_distance  \\\n",
       "0  2017-04-01           1.0           1.0         2.0  17.0         21.460   \n",
       "1  2017-04-01           3.0          51.0         5.0  12.0          2.100   \n",
       "2  2017-04-01           4.0           4.0         1.0   0.0          0.820   \n",
       "3  2017-04-01           4.0           4.0         1.0   1.0          0.785   \n",
       "4  2017-04-01           4.0           4.0         1.0   3.0          1.100   \n",
       "\n",
       "   fare_amount  tolls_amount  tip_amount      time  fare_per_minute  \\\n",
       "0        52.00          5.76       0.000  1.194444         0.725581   \n",
       "1         9.20          0.00       0.000  0.199722         0.767733   \n",
       "2         5.50          0.00       0.000  0.092500         0.990991   \n",
       "3         6.00          0.00       0.000  0.106250         0.941176   \n",
       "4         6.75          0.00       0.775  0.118194         0.951821   \n",
       "\n",
       "   trip_count  clean_fare_distance  day  \n",
       "0         1.0             2.285835    5  \n",
       "1         1.0             4.243675    5  \n",
       "2         1.0             6.570039    5  \n",
       "3         2.0             7.506034    5  \n",
       "4         2.0             5.999086    5  "
      ]
     },
     "execution_count": 289,
     "metadata": {},
     "output_type": "execute_result"
    }
   ],
   "source": [
    "check.head()"
   ]
  },
  {
   "cell_type": "code",
   "execution_count": 110,
   "metadata": {},
   "outputs": [],
   "source": [
    "def first_stage_preprocessing(gas):\n",
    "    \n",
    "    months = [\"01\",\"02\", \"03\", \"04\", \"05\", \"06\", \"07\", \"08\", \"09\", \"10\", \"11\", \"12\"]\n",
    "    #months = ['01']\n",
    "    for each_month in months:\n",
    "        \n",
    "        data = pd.read_csv(f'yellow_tripdata_2019-{each_month}.csv')\n",
    "        data = main_preprocessing(data, each_month)\n",
    "        \n",
    "        grouped_data = do_groupby(data)\n",
    "        \n",
    "        # dont need the data anymore, reduce memory ram\n",
    "        del data\n",
    "        \n",
    "        grouped_data = combined_gas(grouped_data, gas)\n",
    "        grouped_data = clean_fare_distance(grouped_data)\n",
    "        \n",
    "        grouped_data.to_feather(f'clean_data_{each_month}.feather')\n"
   ]
  },
  {
   "cell_type": "code",
   "execution_count": 115,
   "metadata": {},
   "outputs": [
    {
     "name": "stderr",
     "output_type": "stream",
     "text": [
      "/usr/local/lib/python3.6/dist-packages/IPython/core/interactiveshell.py:3254: DtypeWarning: Columns (6) have mixed types.Specify dtype option on import or set low_memory=False.\n",
      "  if (await self.run_code(code, result,  async_=asy)):\n",
      "/usr/local/lib/python3.6/dist-packages/IPython/core/interactiveshell.py:3254: DtypeWarning: Columns (6) have mixed types.Specify dtype option on import or set low_memory=False.\n",
      "  if (await self.run_code(code, result,  async_=asy)):\n",
      "/usr/local/lib/python3.6/dist-packages/IPython/core/interactiveshell.py:3254: DtypeWarning: Columns (6) have mixed types.Specify dtype option on import or set low_memory=False.\n",
      "  if (await self.run_code(code, result,  async_=asy)):\n",
      "/usr/local/lib/python3.6/dist-packages/IPython/core/interactiveshell.py:3254: DtypeWarning: Columns (6) have mixed types.Specify dtype option on import or set low_memory=False.\n",
      "  if (await self.run_code(code, result,  async_=asy)):\n",
      "/usr/local/lib/python3.6/dist-packages/IPython/core/interactiveshell.py:3254: DtypeWarning: Columns (6) have mixed types.Specify dtype option on import or set low_memory=False.\n",
      "  if (await self.run_code(code, result,  async_=asy)):\n",
      "/usr/local/lib/python3.6/dist-packages/IPython/core/interactiveshell.py:3254: DtypeWarning: Columns (6) have mixed types.Specify dtype option on import or set low_memory=False.\n",
      "  if (await self.run_code(code, result,  async_=asy)):\n"
     ]
    }
   ],
   "source": [
    "# run the first stage\n",
    "first_stage_preprocessing(gas)"
   ]
  },
  {
   "cell_type": "code",
   "execution_count": 19,
   "metadata": {},
   "outputs": [],
   "source": [
    "grouped_data = do_groupby(data)"
   ]
  },
  {
   "cell_type": "code",
   "execution_count": 23,
   "metadata": {},
   "outputs": [],
   "source": [
    "grouped_data = combined_gas(grouped_data, gas)\n",
    "grouped_data = clean_fare_distance(grouped_data)"
   ]
  },
  {
   "cell_type": "code",
   "execution_count": 26,
   "metadata": {},
   "outputs": [],
   "source": [
    "grouped_data.to_feather(f'clean_data_01.feather')"
   ]
  },
  {
   "cell_type": "code",
   "execution_count": 125,
   "metadata": {},
   "outputs": [],
   "source": [
    "clean = pd.read_feather('clean_data_02.feather')"
   ]
  },
  {
   "cell_type": "code",
   "execution_count": 34,
   "metadata": {},
   "outputs": [],
   "source": [
    "clean_1 = pd.read_feather('clean_data_01.feather')"
   ]
  },
  {
   "cell_type": "code",
   "execution_count": 35,
   "metadata": {},
   "outputs": [],
   "source": [
    "clean = pd.concat([clean_1, clean])"
   ]
  },
  {
   "cell_type": "code",
   "execution_count": 116,
   "metadata": {},
   "outputs": [],
   "source": [
    "def combined_all():\n",
    "    months = [\"02\", \"03\", \"04\", \"05\", \"06\", \"07\", \"08\", \"09\", \"10\", \"11\", \"12\"]\n",
    "    \n",
    "    concat_data = pd.read_feather(f\"clean_data_01.feather\")\n",
    "    \n",
    "    for each_month in months:\n",
    "        data = pd.read_feather(f\"clean_data_{each_month}.feather\")\n",
    "        concat_data = pd.concat([concat_data, data])\n",
    "    \n",
    "    concat_data.reset_index(inplace = True)\n",
    "    concat_data.to_feather('clean_all_data.feather')    "
   ]
  },
  {
   "cell_type": "code",
   "execution_count": 117,
   "metadata": {},
   "outputs": [],
   "source": [
    "combined_all()"
   ]
  },
  {
   "cell_type": "markdown",
   "metadata": {},
   "source": [
    "# Done Preprocessing"
   ]
  },
  {
   "cell_type": "markdown",
   "metadata": {},
   "source": [
    "# Descriptive Analysis - Unsupervised"
   ]
  },
  {
   "cell_type": "markdown",
   "metadata": {},
   "source": [
    "Attribute of Interest for Unsupervised:\n",
    "- rate/distance\n",
    "- rate/minute\n",
    "- trip frequency\n",
    "- tip%\n",
    "- misc%"
   ]
  },
  {
   "cell_type": "code",
   "execution_count": 36,
   "metadata": {},
   "outputs": [],
   "source": [
    "fin_data = pd.read_feather('clean_all_data.feather')"
   ]
  },
  {
   "cell_type": "code",
   "execution_count": 37,
   "metadata": {},
   "outputs": [
    {
     "data": {
      "text/html": [
       "<div>\n",
       "<style scoped>\n",
       "    .dataframe tbody tr th:only-of-type {\n",
       "        vertical-align: middle;\n",
       "    }\n",
       "\n",
       "    .dataframe tbody tr th {\n",
       "        vertical-align: top;\n",
       "    }\n",
       "\n",
       "    .dataframe thead th {\n",
       "        text-align: right;\n",
       "    }\n",
       "</style>\n",
       "<table border=\"1\" class=\"dataframe\">\n",
       "  <thead>\n",
       "    <tr style=\"text-align: right;\">\n",
       "      <th></th>\n",
       "      <th>index</th>\n",
       "      <th>date</th>\n",
       "      <th>PULocationID</th>\n",
       "      <th>DOLocationID</th>\n",
       "      <th>RatecodeID</th>\n",
       "      <th>hour</th>\n",
       "      <th>trip_distance</th>\n",
       "      <th>fare_amount</th>\n",
       "      <th>misc_amount</th>\n",
       "      <th>tip_amount</th>\n",
       "      <th>time</th>\n",
       "      <th>trip_count</th>\n",
       "      <th>fare_per_minute</th>\n",
       "      <th>day</th>\n",
       "      <th>clean_fare_distance</th>\n",
       "    </tr>\n",
       "  </thead>\n",
       "  <tbody>\n",
       "    <tr>\n",
       "      <th>0</th>\n",
       "      <td>0</td>\n",
       "      <td>2019-01-01</td>\n",
       "      <td>3.0</td>\n",
       "      <td>51.0</td>\n",
       "      <td>1.0</td>\n",
       "      <td>10.0</td>\n",
       "      <td>1.27</td>\n",
       "      <td>7.00</td>\n",
       "      <td>0.00</td>\n",
       "      <td>0.00</td>\n",
       "      <td>0.121389</td>\n",
       "      <td>1.0</td>\n",
       "      <td>0.961098</td>\n",
       "      <td>1.0</td>\n",
       "      <td>5.382422</td>\n",
       "    </tr>\n",
       "    <tr>\n",
       "      <th>1</th>\n",
       "      <td>1</td>\n",
       "      <td>2019-01-01</td>\n",
       "      <td>3.0</td>\n",
       "      <td>61.0</td>\n",
       "      <td>5.0</td>\n",
       "      <td>10.0</td>\n",
       "      <td>21.09</td>\n",
       "      <td>54.84</td>\n",
       "      <td>0.09</td>\n",
       "      <td>0.00</td>\n",
       "      <td>0.603056</td>\n",
       "      <td>1.0</td>\n",
       "      <td>1.515615</td>\n",
       "      <td>1.0</td>\n",
       "      <td>2.470896</td>\n",
       "    </tr>\n",
       "    <tr>\n",
       "      <th>2</th>\n",
       "      <td>2</td>\n",
       "      <td>2019-01-01</td>\n",
       "      <td>4.0</td>\n",
       "      <td>4.0</td>\n",
       "      <td>1.0</td>\n",
       "      <td>4.0</td>\n",
       "      <td>1.10</td>\n",
       "      <td>6.50</td>\n",
       "      <td>0.05</td>\n",
       "      <td>0.17</td>\n",
       "      <td>0.109722</td>\n",
       "      <td>1.0</td>\n",
       "      <td>0.987342</td>\n",
       "      <td>1.0</td>\n",
       "      <td>5.779702</td>\n",
       "    </tr>\n",
       "    <tr>\n",
       "      <th>3</th>\n",
       "      <td>3</td>\n",
       "      <td>2019-01-01</td>\n",
       "      <td>4.0</td>\n",
       "      <td>7.0</td>\n",
       "      <td>1.0</td>\n",
       "      <td>2.0</td>\n",
       "      <td>9.61</td>\n",
       "      <td>31.00</td>\n",
       "      <td>0.01</td>\n",
       "      <td>0.17</td>\n",
       "      <td>0.471389</td>\n",
       "      <td>1.0</td>\n",
       "      <td>1.096052</td>\n",
       "      <td>1.0</td>\n",
       "      <td>3.096418</td>\n",
       "    </tr>\n",
       "    <tr>\n",
       "      <th>4</th>\n",
       "      <td>4</td>\n",
       "      <td>2019-01-01</td>\n",
       "      <td>4.0</td>\n",
       "      <td>7.0</td>\n",
       "      <td>1.0</td>\n",
       "      <td>7.0</td>\n",
       "      <td>7.02</td>\n",
       "      <td>22.00</td>\n",
       "      <td>0.00</td>\n",
       "      <td>0.08</td>\n",
       "      <td>0.353056</td>\n",
       "      <td>1.0</td>\n",
       "      <td>1.038552</td>\n",
       "      <td>1.0</td>\n",
       "      <td>3.004514</td>\n",
       "    </tr>\n",
       "  </tbody>\n",
       "</table>\n",
       "</div>"
      ],
      "text/plain": [
       "   index        date  PULocationID  DOLocationID  RatecodeID  hour  \\\n",
       "0      0  2019-01-01           3.0          51.0         1.0  10.0   \n",
       "1      1  2019-01-01           3.0          61.0         5.0  10.0   \n",
       "2      2  2019-01-01           4.0           4.0         1.0   4.0   \n",
       "3      3  2019-01-01           4.0           7.0         1.0   2.0   \n",
       "4      4  2019-01-01           4.0           7.0         1.0   7.0   \n",
       "\n",
       "   trip_distance  fare_amount  misc_amount  tip_amount      time  trip_count  \\\n",
       "0           1.27         7.00         0.00        0.00  0.121389         1.0   \n",
       "1          21.09        54.84         0.09        0.00  0.603056         1.0   \n",
       "2           1.10         6.50         0.05        0.17  0.109722         1.0   \n",
       "3           9.61        31.00         0.01        0.17  0.471389         1.0   \n",
       "4           7.02        22.00         0.00        0.08  0.353056         1.0   \n",
       "\n",
       "   fare_per_minute  day  clean_fare_distance  \n",
       "0         0.961098  1.0             5.382422  \n",
       "1         1.515615  1.0             2.470896  \n",
       "2         0.987342  1.0             5.779702  \n",
       "3         1.096052  1.0             3.096418  \n",
       "4         1.038552  1.0             3.004514  "
      ]
     },
     "execution_count": 37,
     "metadata": {},
     "output_type": "execute_result"
    }
   ],
   "source": [
    "fin_data.head()"
   ]
  },
  {
   "cell_type": "code",
   "execution_count": 4,
   "metadata": {},
   "outputs": [],
   "source": [
    "fin_data.drop(labels='index', axis=1, inplace = True)"
   ]
  },
  {
   "cell_type": "code",
   "execution_count": 131,
   "metadata": {},
   "outputs": [
    {
     "data": {
      "text/plain": [
       "(17156376, 14)"
      ]
     },
     "execution_count": 131,
     "metadata": {},
     "output_type": "execute_result"
    }
   ],
   "source": [
    "fin_data.shape"
   ]
  },
  {
   "cell_type": "code",
   "execution_count": 236,
   "metadata": {},
   "outputs": [],
   "source": [
    "# seperate the day into weekday and weekend\n",
    "weekday = list(range(0, 5))\n",
    "fin_data['day'] = fin_data['day'].apply(lambda x: bool_day(x, weekday))"
   ]
  },
  {
   "cell_type": "code",
   "execution_count": 83,
   "metadata": {},
   "outputs": [
    {
     "data": {
      "text/html": [
       "<div>\n",
       "<style scoped>\n",
       "    .dataframe tbody tr th:only-of-type {\n",
       "        vertical-align: middle;\n",
       "    }\n",
       "\n",
       "    .dataframe tbody tr th {\n",
       "        vertical-align: top;\n",
       "    }\n",
       "\n",
       "    .dataframe thead th {\n",
       "        text-align: right;\n",
       "    }\n",
       "</style>\n",
       "<table border=\"1\" class=\"dataframe\">\n",
       "  <thead>\n",
       "    <tr style=\"text-align: right;\">\n",
       "      <th></th>\n",
       "      <th>PULocationID</th>\n",
       "      <th>DOLocationID</th>\n",
       "      <th>RatecodeID</th>\n",
       "      <th>hour</th>\n",
       "      <th>trip_distance</th>\n",
       "      <th>fare_amount</th>\n",
       "      <th>tolls_amount</th>\n",
       "      <th>tip_amount</th>\n",
       "      <th>time</th>\n",
       "      <th>trip_count</th>\n",
       "      <th>fare_per_minute</th>\n",
       "      <th>day</th>\n",
       "      <th>clean_fare_distance</th>\n",
       "    </tr>\n",
       "  </thead>\n",
       "  <tbody>\n",
       "    <tr>\n",
       "      <th>count</th>\n",
       "      <td>2.063684e+07</td>\n",
       "      <td>2.063684e+07</td>\n",
       "      <td>2.063684e+07</td>\n",
       "      <td>2.063684e+07</td>\n",
       "      <td>2.063684e+07</td>\n",
       "      <td>2.063684e+07</td>\n",
       "      <td>2.063684e+07</td>\n",
       "      <td>2.063684e+07</td>\n",
       "      <td>2.063684e+07</td>\n",
       "      <td>2.063684e+07</td>\n",
       "      <td>2.063684e+07</td>\n",
       "      <td>2.063684e+07</td>\n",
       "      <td>2.063684e+07</td>\n",
       "    </tr>\n",
       "    <tr>\n",
       "      <th>mean</th>\n",
       "      <td>1.525281e+02</td>\n",
       "      <td>1.475645e+02</td>\n",
       "      <td>1.090609e+00</td>\n",
       "      <td>1.318944e+01</td>\n",
       "      <td>4.824380e+00</td>\n",
       "      <td>1.858997e+01</td>\n",
       "      <td>6.339847e-01</td>\n",
       "      <td>2.740115e+00</td>\n",
       "      <td>3.282319e-01</td>\n",
       "      <td>3.391610e+00</td>\n",
       "      <td>9.546837e-01</td>\n",
       "      <td>2.922153e-01</td>\n",
       "      <td>4.881451e+00</td>\n",
       "    </tr>\n",
       "    <tr>\n",
       "      <th>std</th>\n",
       "      <td>6.853762e+01</td>\n",
       "      <td>7.467514e+01</td>\n",
       "      <td>4.635615e-01</td>\n",
       "      <td>6.678170e+00</td>\n",
       "      <td>4.714431e+00</td>\n",
       "      <td>6.057933e+01</td>\n",
       "      <td>2.396552e+00</td>\n",
       "      <td>3.135575e+00</td>\n",
       "      <td>2.104992e-01</td>\n",
       "      <td>5.098186e+00</td>\n",
       "      <td>2.645088e+00</td>\n",
       "      <td>4.547807e-01</td>\n",
       "      <td>3.859917e+01</td>\n",
       "    </tr>\n",
       "    <tr>\n",
       "      <th>min</th>\n",
       "      <td>1.000000e+00</td>\n",
       "      <td>1.000000e+00</td>\n",
       "      <td>1.000000e+00</td>\n",
       "      <td>0.000000e+00</td>\n",
       "      <td>1.000000e-02</td>\n",
       "      <td>2.500000e+00</td>\n",
       "      <td>0.000000e+00</td>\n",
       "      <td>0.000000e+00</td>\n",
       "      <td>8.305556e-02</td>\n",
       "      <td>1.000000e+00</td>\n",
       "      <td>2.130379e-02</td>\n",
       "      <td>0.000000e+00</td>\n",
       "      <td>-4.099573e-02</td>\n",
       "    </tr>\n",
       "    <tr>\n",
       "      <th>25%</th>\n",
       "      <td>1.000000e+02</td>\n",
       "      <td>8.700000e+01</td>\n",
       "      <td>1.000000e+00</td>\n",
       "      <td>8.000000e+00</td>\n",
       "      <td>1.748333e+00</td>\n",
       "      <td>9.333333e+00</td>\n",
       "      <td>0.000000e+00</td>\n",
       "      <td>9.200000e-01</td>\n",
       "      <td>1.755903e-01</td>\n",
       "      <td>1.000000e+00</td>\n",
       "      <td>7.721152e-01</td>\n",
       "      <td>0.000000e+00</td>\n",
       "      <td>3.431696e+00</td>\n",
       "    </tr>\n",
       "    <tr>\n",
       "      <th>50%</th>\n",
       "      <td>1.450000e+02</td>\n",
       "      <td>1.450000e+02</td>\n",
       "      <td>1.000000e+00</td>\n",
       "      <td>1.400000e+01</td>\n",
       "      <td>3.123333e+00</td>\n",
       "      <td>1.400000e+01</td>\n",
       "      <td>0.000000e+00</td>\n",
       "      <td>2.000000e+00</td>\n",
       "      <td>2.738426e-01</td>\n",
       "      <td>2.000000e+00</td>\n",
       "      <td>8.823529e-01</td>\n",
       "      <td>0.000000e+00</td>\n",
       "      <td>4.262834e+00</td>\n",
       "    </tr>\n",
       "    <tr>\n",
       "      <th>75%</th>\n",
       "      <td>2.290000e+02</td>\n",
       "      <td>2.290000e+02</td>\n",
       "      <td>1.000000e+00</td>\n",
       "      <td>1.900000e+01</td>\n",
       "      <td>5.930000e+00</td>\n",
       "      <td>2.250000e+01</td>\n",
       "      <td>0.000000e+00</td>\n",
       "      <td>3.650000e+00</td>\n",
       "      <td>4.175000e-01</td>\n",
       "      <td>4.000000e+00</td>\n",
       "      <td>1.029263e+00</td>\n",
       "      <td>1.000000e+00</td>\n",
       "      <td>5.410486e+00</td>\n",
       "    </tr>\n",
       "    <tr>\n",
       "      <th>max</th>\n",
       "      <td>2.650000e+02</td>\n",
       "      <td>2.650000e+02</td>\n",
       "      <td>6.000000e+00</td>\n",
       "      <td>2.300000e+01</td>\n",
       "      <td>1.206000e+02</td>\n",
       "      <td>2.077630e+05</td>\n",
       "      <td>3.288000e+03</td>\n",
       "      <td>1.624640e+03</td>\n",
       "      <td>1.999722e+00</td>\n",
       "      <td>4.080000e+02</td>\n",
       "      <td>9.975282e+03</td>\n",
       "      <td>1.000000e+00</td>\n",
       "      <td>8.147554e+04</td>\n",
       "    </tr>\n",
       "  </tbody>\n",
       "</table>\n",
       "</div>"
      ],
      "text/plain": [
       "       PULocationID  DOLocationID    RatecodeID          hour  trip_distance  \\\n",
       "count  2.063684e+07  2.063684e+07  2.063684e+07  2.063684e+07   2.063684e+07   \n",
       "mean   1.525281e+02  1.475645e+02  1.090609e+00  1.318944e+01   4.824380e+00   \n",
       "std    6.853762e+01  7.467514e+01  4.635615e-01  6.678170e+00   4.714431e+00   \n",
       "min    1.000000e+00  1.000000e+00  1.000000e+00  0.000000e+00   1.000000e-02   \n",
       "25%    1.000000e+02  8.700000e+01  1.000000e+00  8.000000e+00   1.748333e+00   \n",
       "50%    1.450000e+02  1.450000e+02  1.000000e+00  1.400000e+01   3.123333e+00   \n",
       "75%    2.290000e+02  2.290000e+02  1.000000e+00  1.900000e+01   5.930000e+00   \n",
       "max    2.650000e+02  2.650000e+02  6.000000e+00  2.300000e+01   1.206000e+02   \n",
       "\n",
       "        fare_amount  tolls_amount    tip_amount          time    trip_count  \\\n",
       "count  2.063684e+07  2.063684e+07  2.063684e+07  2.063684e+07  2.063684e+07   \n",
       "mean   1.858997e+01  6.339847e-01  2.740115e+00  3.282319e-01  3.391610e+00   \n",
       "std    6.057933e+01  2.396552e+00  3.135575e+00  2.104992e-01  5.098186e+00   \n",
       "min    2.500000e+00  0.000000e+00  0.000000e+00  8.305556e-02  1.000000e+00   \n",
       "25%    9.333333e+00  0.000000e+00  9.200000e-01  1.755903e-01  1.000000e+00   \n",
       "50%    1.400000e+01  0.000000e+00  2.000000e+00  2.738426e-01  2.000000e+00   \n",
       "75%    2.250000e+01  0.000000e+00  3.650000e+00  4.175000e-01  4.000000e+00   \n",
       "max    2.077630e+05  3.288000e+03  1.624640e+03  1.999722e+00  4.080000e+02   \n",
       "\n",
       "       fare_per_minute           day  clean_fare_distance  \n",
       "count     2.063684e+07  2.063684e+07         2.063684e+07  \n",
       "mean      9.546837e-01  2.922153e-01         4.881451e+00  \n",
       "std       2.645088e+00  4.547807e-01         3.859917e+01  \n",
       "min       2.130379e-02  0.000000e+00        -4.099573e-02  \n",
       "25%       7.721152e-01  0.000000e+00         3.431696e+00  \n",
       "50%       8.823529e-01  0.000000e+00         4.262834e+00  \n",
       "75%       1.029263e+00  1.000000e+00         5.410486e+00  \n",
       "max       9.975282e+03  1.000000e+00         8.147554e+04  "
      ]
     },
     "execution_count": 83,
     "metadata": {},
     "output_type": "execute_result"
    }
   ],
   "source": [
    "fin_data.describe()"
   ]
  },
  {
   "cell_type": "markdown",
   "metadata": {},
   "source": [
    "By looking at the describe table above, it can be seen that there are extreme outliers identified in the clean fare distance and the fare per minute, as the max are \\\\$8000 and \\\\$9975 respectively; thus, these points needs to be excluded"
   ]
  },
  {
   "cell_type": "code",
   "execution_count": 245,
   "metadata": {},
   "outputs": [],
   "source": [
    "# get sample data for plot\n",
    "sample_data = fin_data.sample(n=1000)"
   ]
  },
  {
   "cell_type": "code",
   "execution_count": 104,
   "metadata": {},
   "outputs": [
    {
     "data": {
      "image/png": "[encoded data removed]",
      "text/plain": [
       "<Figure size 576x432 with 1 Axes>"
      ]
     },
     "metadata": {
      "needs_background": "light"
     },
     "output_type": "display_data"
    }
   ],
   "source": [
    "plt.figure(figsize=(8, 6))\n",
    "plt.scatter(x=sample_data['fare_per_minute'], y=sample_data['clean_fare_distance'])\n",
    "plt.title('Sample Scatter Plot of Fare ratio', fontsize=16)\n",
    "plt.ylabel('Clean Fare/Distance ($/miles)')\n",
    "plt.xlabel('Fare/Minute ($/minute)')\n",
    "plt.savefig('scatter_')\n",
    "#plt.show()"
   ]
  },
  {
   "cell_type": "markdown",
   "metadata": {},
   "source": [
    "The graph above shows that some points are an extreme outliers. This may not be good for our unsupervised clustering, as it may pull the cluster"
   ]
  },
  {
   "cell_type": "code",
   "execution_count": 7,
   "metadata": {},
   "outputs": [],
   "source": [
    "# remove outliers based on the fare amount ratio\n",
    "fin_data = remove_outliers(fin_data, 'fare_per_minute')\n",
    "fin_data = remove_outliers(fin_data, 'clean_fare_distance')"
   ]
  },
  {
   "cell_type": "code",
   "execution_count": 134,
   "metadata": {},
   "outputs": [
    {
     "data": {
      "text/html": [
       "<div>\n",
       "<style scoped>\n",
       "    .dataframe tbody tr th:only-of-type {\n",
       "        vertical-align: middle;\n",
       "    }\n",
       "\n",
       "    .dataframe tbody tr th {\n",
       "        vertical-align: top;\n",
       "    }\n",
       "\n",
       "    .dataframe thead th {\n",
       "        text-align: right;\n",
       "    }\n",
       "</style>\n",
       "<table border=\"1\" class=\"dataframe\">\n",
       "  <thead>\n",
       "    <tr style=\"text-align: right;\">\n",
       "      <th></th>\n",
       "      <th>PULocationID</th>\n",
       "      <th>DOLocationID</th>\n",
       "      <th>RatecodeID</th>\n",
       "      <th>hour</th>\n",
       "      <th>trip_distance</th>\n",
       "      <th>fare_amount</th>\n",
       "      <th>misc_amount</th>\n",
       "      <th>tip_amount</th>\n",
       "      <th>time</th>\n",
       "      <th>trip_count</th>\n",
       "      <th>fare_per_minute</th>\n",
       "      <th>day</th>\n",
       "      <th>clean_fare_distance</th>\n",
       "    </tr>\n",
       "  </thead>\n",
       "  <tbody>\n",
       "    <tr>\n",
       "      <th>count</th>\n",
       "      <td>1.698079e+07</td>\n",
       "      <td>1.698079e+07</td>\n",
       "      <td>1.698079e+07</td>\n",
       "      <td>1.698079e+07</td>\n",
       "      <td>1.698079e+07</td>\n",
       "      <td>1.698079e+07</td>\n",
       "      <td>1.698079e+07</td>\n",
       "      <td>1.698079e+07</td>\n",
       "      <td>1.698079e+07</td>\n",
       "      <td>1.698079e+07</td>\n",
       "      <td>1.698079e+07</td>\n",
       "      <td>1.698079e+07</td>\n",
       "      <td>1.698079e+07</td>\n",
       "    </tr>\n",
       "    <tr>\n",
       "      <th>mean</th>\n",
       "      <td>1.540697e+02</td>\n",
       "      <td>1.489724e+02</td>\n",
       "      <td>1.080273e+00</td>\n",
       "      <td>1.344853e+01</td>\n",
       "      <td>4.638676e+00</td>\n",
       "      <td>1.783922e+01</td>\n",
       "      <td>6.382512e-02</td>\n",
       "      <td>1.467774e-01</td>\n",
       "      <td>3.239407e-01</td>\n",
       "      <td>3.002127e+00</td>\n",
       "      <td>9.245129e-01</td>\n",
       "      <td>2.853685e-01</td>\n",
       "      <td>4.652567e+00</td>\n",
       "    </tr>\n",
       "    <tr>\n",
       "      <th>std</th>\n",
       "      <td>6.824666e+01</td>\n",
       "      <td>7.406992e+01</td>\n",
       "      <td>4.285380e-01</td>\n",
       "      <td>6.589616e+00</td>\n",
       "      <td>4.589951e+00</td>\n",
       "      <td>1.289387e+01</td>\n",
       "      <td>6.001312e-02</td>\n",
       "      <td>4.981317e-02</td>\n",
       "      <td>2.087606e-01</td>\n",
       "      <td>4.175548e+00</td>\n",
       "      <td>2.343821e-01</td>\n",
       "      <td>4.515898e-01</td>\n",
       "      <td>1.550854e+00</td>\n",
       "    </tr>\n",
       "    <tr>\n",
       "      <th>min</th>\n",
       "      <td>1.000000e+00</td>\n",
       "      <td>1.000000e+00</td>\n",
       "      <td>1.000000e+00</td>\n",
       "      <td>0.000000e+00</td>\n",
       "      <td>2.700000e-01</td>\n",
       "      <td>2.500000e+00</td>\n",
       "      <td>-3.600000e-01</td>\n",
       "      <td>0.000000e+00</td>\n",
       "      <td>8.305556e-02</td>\n",
       "      <td>1.000000e+00</td>\n",
       "      <td>3.302146e-02</td>\n",
       "      <td>0.000000e+00</td>\n",
       "      <td>-1.805229e-02</td>\n",
       "    </tr>\n",
       "    <tr>\n",
       "      <th>25%</th>\n",
       "      <td>1.070000e+02</td>\n",
       "      <td>8.800000e+01</td>\n",
       "      <td>1.000000e+00</td>\n",
       "      <td>9.000000e+00</td>\n",
       "      <td>1.700000e+00</td>\n",
       "      <td>9.083333e+00</td>\n",
       "      <td>1.000000e-02</td>\n",
       "      <td>1.300000e-01</td>\n",
       "      <td>1.733333e-01</td>\n",
       "      <td>1.000000e+00</td>\n",
       "      <td>7.678883e-01</td>\n",
       "      <td>0.000000e+00</td>\n",
       "      <td>3.488346e+00</td>\n",
       "    </tr>\n",
       "    <tr>\n",
       "      <th>50%</th>\n",
       "      <td>1.480000e+02</td>\n",
       "      <td>1.460000e+02</td>\n",
       "      <td>1.000000e+00</td>\n",
       "      <td>1.400000e+01</td>\n",
       "      <td>2.960000e+00</td>\n",
       "      <td>1.350000e+01</td>\n",
       "      <td>5.000000e-02</td>\n",
       "      <td>1.651429e-01</td>\n",
       "      <td>2.688889e-01</td>\n",
       "      <td>2.000000e+00</td>\n",
       "      <td>8.742887e-01</td>\n",
       "      <td>0.000000e+00</td>\n",
       "      <td>4.338937e+00</td>\n",
       "    </tr>\n",
       "    <tr>\n",
       "      <th>75%</th>\n",
       "      <td>2.300000e+02</td>\n",
       "      <td>2.290000e+02</td>\n",
       "      <td>1.000000e+00</td>\n",
       "      <td>1.900000e+01</td>\n",
       "      <td>5.600000e+00</td>\n",
       "      <td>2.150000e+01</td>\n",
       "      <td>1.000000e-01</td>\n",
       "      <td>1.700000e-01</td>\n",
       "      <td>4.115278e-01</td>\n",
       "      <td>3.000000e+00</td>\n",
       "      <td>1.012536e+00</td>\n",
       "      <td>1.000000e+00</td>\n",
       "      <td>5.480343e+00</td>\n",
       "    </tr>\n",
       "    <tr>\n",
       "      <th>max</th>\n",
       "      <td>2.650000e+02</td>\n",
       "      <td>2.650000e+02</td>\n",
       "      <td>6.000000e+00</td>\n",
       "      <td>2.300000e+01</td>\n",
       "      <td>1.055500e+02</td>\n",
       "      <td>2.535000e+02</td>\n",
       "      <td>9.800000e-01</td>\n",
       "      <td>9.800000e-01</td>\n",
       "      <td>1.999722e+00</td>\n",
       "      <td>3.200000e+02</td>\n",
       "      <td>2.328612e+00</td>\n",
       "      <td>1.000000e+00</td>\n",
       "      <td>1.201684e+01</td>\n",
       "    </tr>\n",
       "  </tbody>\n",
       "</table>\n",
       "</div>"
      ],
      "text/plain": [
       "       PULocationID  DOLocationID    RatecodeID          hour  trip_distance  \\\n",
       "count  1.698079e+07  1.698079e+07  1.698079e+07  1.698079e+07   1.698079e+07   \n",
       "mean   1.540697e+02  1.489724e+02  1.080273e+00  1.344853e+01   4.638676e+00   \n",
       "std    6.824666e+01  7.406992e+01  4.285380e-01  6.589616e+00   4.589951e+00   \n",
       "min    1.000000e+00  1.000000e+00  1.000000e+00  0.000000e+00   2.700000e-01   \n",
       "25%    1.070000e+02  8.800000e+01  1.000000e+00  9.000000e+00   1.700000e+00   \n",
       "50%    1.480000e+02  1.460000e+02  1.000000e+00  1.400000e+01   2.960000e+00   \n",
       "75%    2.300000e+02  2.290000e+02  1.000000e+00  1.900000e+01   5.600000e+00   \n",
       "max    2.650000e+02  2.650000e+02  6.000000e+00  2.300000e+01   1.055500e+02   \n",
       "\n",
       "        fare_amount   misc_amount    tip_amount          time    trip_count  \\\n",
       "count  1.698079e+07  1.698079e+07  1.698079e+07  1.698079e+07  1.698079e+07   \n",
       "mean   1.783922e+01  6.382512e-02  1.467774e-01  3.239407e-01  3.002127e+00   \n",
       "std    1.289387e+01  6.001312e-02  4.981317e-02  2.087606e-01  4.175548e+00   \n",
       "min    2.500000e+00 -3.600000e-01  0.000000e+00  8.305556e-02  1.000000e+00   \n",
       "25%    9.083333e+00  1.000000e-02  1.300000e-01  1.733333e-01  1.000000e+00   \n",
       "50%    1.350000e+01  5.000000e-02  1.651429e-01  2.688889e-01  2.000000e+00   \n",
       "75%    2.150000e+01  1.000000e-01  1.700000e-01  4.115278e-01  3.000000e+00   \n",
       "max    2.535000e+02  9.800000e-01  9.800000e-01  1.999722e+00  3.200000e+02   \n",
       "\n",
       "       fare_per_minute           day  clean_fare_distance  \n",
       "count     1.698079e+07  1.698079e+07         1.698079e+07  \n",
       "mean      9.245129e-01  2.853685e-01         4.652567e+00  \n",
       "std       2.343821e-01  4.515898e-01         1.550854e+00  \n",
       "min       3.302146e-02  0.000000e+00        -1.805229e-02  \n",
       "25%       7.678883e-01  0.000000e+00         3.488346e+00  \n",
       "50%       8.742887e-01  0.000000e+00         4.338937e+00  \n",
       "75%       1.012536e+00  1.000000e+00         5.480343e+00  \n",
       "max       2.328612e+00  1.000000e+00         1.201684e+01  "
      ]
     },
     "execution_count": 134,
     "metadata": {},
     "output_type": "execute_result"
    }
   ],
   "source": [
    "fin_data.describe()"
   ]
  },
  {
   "cell_type": "code",
   "execution_count": 8,
   "metadata": {},
   "outputs": [],
   "source": [
    "# there is also some negative values, hence, this should be sliced\n",
    "fin_data = fin_data[fin_data['fare_per_minute']>0]\n",
    "fin_data = fin_data[fin_data['clean_fare_distance']>0]\n",
    "fin_data = fin_data[fin_data['misc_amount']>=0]"
   ]
  },
  {
   "cell_type": "code",
   "execution_count": 110,
   "metadata": {},
   "outputs": [
    {
     "data": {
      "image/png": "[encoded data removed]",
      "text/plain": [
       "<Figure size 576x432 with 1 Axes>"
      ]
     },
     "metadata": {
      "needs_background": "light"
     },
     "output_type": "display_data"
    }
   ],
   "source": [
    "# get sample data for plot\n",
    "sample_data = fin_data.sample(n=100000)\n",
    "plt.figure(figsize=(8, 6))\n",
    "plt.scatter(x=sample_data['fare_per_minute'], y=np.log(sample_data['clean_fare_distance']))\n",
    "plt.title('Sample Scatter Plot of Fare ratio', fontsize=16)\n",
    "plt.ylabel('Clean Fare/Distance ($/miles)')\n",
    "plt.xlabel('Fare/Minute ($/minute)')\n",
    "plt.show()"
   ]
  },
  {
   "cell_type": "markdown",
   "metadata": {},
   "source": [
    "From the above plot, both ratio may not have a linear relationship. This may be due to the rules defined by the government regarding to the standard meter, where when the vehicle speed is below 12 mph, then the passenger will be charged 50 cents per minute, but if the speed is above 12 mph, then 50 cents per miles."
   ]
  },
  {
   "cell_type": "code",
   "execution_count": 136,
   "metadata": {},
   "outputs": [
    {
     "data": {
      "image/png": "[encoded data removed]",
      "text/plain": [
       "<Figure size 576x432 with 1 Axes>"
      ]
     },
     "metadata": {},
     "output_type": "display_data"
    }
   ],
   "source": [
    "plt.figure(figsize=(8, 6))\n",
    "sns.distplot(fin_data['fare_per_minute'], label='fare/minute')\n",
    "sns.distplot(fin_data['clean_fare_distance'], label='Clean fare/distance')\n",
    "plt.legend()\n",
    "plt.title('Distribution plot of each fare ratio')\n",
    "plt.xlabel('fare ($)')\n",
    "plt.show()"
   ]
  },
  {
   "cell_type": "code",
   "execution_count": 137,
   "metadata": {},
   "outputs": [
    {
     "data": {
      "image/png": "[encoded data removed]",
      "text/plain": [
       "<Figure size 576x432 with 1 Axes>"
      ]
     },
     "metadata": {},
     "output_type": "display_data"
    }
   ],
   "source": [
    "plt.figure(figsize=(8, 6))\n",
    "sns.distplot(np.log(fin_data['fare_per_minute']), label='fare/minute')\n",
    "sns.distplot(np.log(fin_data['clean_fare_distance']), label='Clean fare/distance')\n",
    "plt.legend()\n",
    "plt.title('Distribution plot of each fare ratio')\n",
    "plt.xlabel('fare ($)')\n",
    "plt.show()"
   ]
  },
  {
   "cell_type": "markdown",
   "metadata": {},
   "source": [
    "### Trip Frequency"
   ]
  },
  {
   "cell_type": "code",
   "execution_count": 159,
   "metadata": {},
   "outputs": [
    {
     "name": "stdout",
     "output_type": "stream",
     "text": [
      "Hourly Trip frequency below 5: 14027366\n"
     ]
    }
   ],
   "source": [
    "# check how many trip count is below 5\n",
    "count = fin_data[fin_data['trip_count']<5].shape[0]\n",
    "print(f'Hourly Trip frequency below 5: {count}')"
   ]
  },
  {
   "cell_type": "markdown",
   "metadata": {},
   "source": [
    "As you can see, most hourly trip below 5 dominates the population; hence, it is expected that the distribution is potively skewed. Plotting the hourly trip frequency will be log normalised"
   ]
  },
  {
   "cell_type": "code",
   "execution_count": 160,
   "metadata": {},
   "outputs": [
    {
     "data": {
      "image/png": "[encoded data removed]",
      "text/plain": [
       "<Figure size 576x432 with 1 Axes>"
      ]
     },
     "metadata": {},
     "output_type": "display_data"
    }
   ],
   "source": [
    "plt.figure(figsize=(8, 6))\n",
    "sns.boxplot(np.log(fin_data['trip_count']))\n",
    "plt.title('Distribution plot of hourly trip frequency')\n",
    "plt.xlabel('frequency')\n",
    "plt.show()"
   ]
  },
  {
   "cell_type": "code",
   "execution_count": 23,
   "metadata": {},
   "outputs": [],
   "source": [
    "daily = fin_data.groupby(by=['date', 'PULocationID', 'DOLocationID']).sum().reset_index()"
   ]
  },
  {
   "cell_type": "code",
   "execution_count": 27,
   "metadata": {},
   "outputs": [
    {
     "data": {
      "image/png": "[encoded data removed]",
      "text/plain": [
       "<Figure size 432x288 with 1 Axes>"
      ]
     },
     "metadata": {
      "needs_background": "light"
     },
     "output_type": "display_data"
    }
   ],
   "source": [
    "plt.figure()\n",
    "sns.boxplot(np.log(daily['trip_count']))\n",
    "plt.title('Boxplot plot of log normalised daily trip frequency\\n', fontsize=16)\n",
    "plt.xlabel('frequency')\n",
    "plt.show()"
   ]
  },
  {
   "cell_type": "markdown",
   "metadata": {},
   "source": [
    "From both of these plots, it can be seen that there are several pickup location id that has a huge trip frequency compared to the others, and these are the one that is located in the outliers from both of these boxplot"
   ]
  },
  {
   "cell_type": "markdown",
   "metadata": {},
   "source": [
    "Examine relationship between fare/distance and fare/time"
   ]
  },
  {
   "cell_type": "code",
   "execution_count": 30,
   "metadata": {},
   "outputs": [],
   "source": [
    "sample_data = fin_data.sample(n=1000)"
   ]
  },
  {
   "cell_type": "code",
   "execution_count": 32,
   "metadata": {},
   "outputs": [
    {
     "data": {
      "image/png": "[encoded data removed]",
      "text/plain": [
       "<Figure size 576x432 with 1 Axes>"
      ]
     },
     "metadata": {
      "needs_background": "light"
     },
     "output_type": "display_data"
    }
   ],
   "source": [
    "plt.figure(figsize=(8, 6))\n",
    "plt.scatter(y=sample_data['fare_per_minute'], x=np.sqrt(sample_data['trip_count']))\n",
    "plt.title('Scatter plot of fare per minute vs trip frequency', fontsize=16)\n",
    "plt.ylabel('fare/minute ($/minute)')\n",
    "plt.xlabel('frequency')\n",
    "plt.show()"
   ]
  },
  {
   "cell_type": "code",
   "execution_count": 34,
   "metadata": {},
   "outputs": [
    {
     "data": {
      "text/plain": [
       "2980.9579870417283"
      ]
     },
     "execution_count": 34,
     "metadata": {},
     "output_type": "execute_result"
    }
   ],
   "source": [
    "np.exp(8)"
   ]
  },
  {
   "cell_type": "code",
   "execution_count": 31,
   "metadata": {},
   "outputs": [
    {
     "data": {
      "image/png": "[encoded data removed]",
      "text/plain": [
       "<Figure size 576x432 with 1 Axes>"
      ]
     },
     "metadata": {
      "needs_background": "light"
     },
     "output_type": "display_data"
    }
   ],
   "source": [
    "plt.figure(figsize=(8, 6))\n",
    "plt.scatter(y=sample_data['clean_fare_distance'], x=np.sqrt(sample_data['trip_count']))\n",
    "plt.title('Scatter plot of trip frequency vs fare per miles', fontsize=16)\n",
    "plt.ylabel('fare/miles ($/miles)')\n",
    "plt.xlabel('frequency')\n",
    "plt.show()"
   ]
  },
  {
   "cell_type": "code",
   "execution_count": null,
   "metadata": {},
   "outputs": [],
   "source": [
    "# plotting this will give error in VM, need to plot it locally :(\n",
    "plt.figure(figsize=(8, 6))\n",
    "plt.scatter(y=sample_data['fare_per_minute'], x=np.sqrt(sample_data['trip_count']))\n",
    "plt.title('Scatter plot of trip count vs fare per minute', fontsize=16)\n",
    "plt.ylabel('fare/minute ($/minute)')\n",
    "plt.xlabel('frequency')\n",
    "plt.show()"
   ]
  },
  {
   "cell_type": "markdown",
   "metadata": {},
   "source": [
    "From both of these graph, it can be seen that high trip frequency usually have low fare/minute and fare/distance, which may indicate may it is a famous trip."
   ]
  },
  {
   "cell_type": "markdown",
   "metadata": {},
   "source": [
    "### Tip % and Misc %"
   ]
  },
  {
   "cell_type": "code",
   "execution_count": 239,
   "metadata": {},
   "outputs": [
    {
     "data": {
      "text/html": [
       "<div>\n",
       "<style scoped>\n",
       "    .dataframe tbody tr th:only-of-type {\n",
       "        vertical-align: middle;\n",
       "    }\n",
       "\n",
       "    .dataframe tbody tr th {\n",
       "        vertical-align: top;\n",
       "    }\n",
       "\n",
       "    .dataframe thead th {\n",
       "        text-align: right;\n",
       "    }\n",
       "</style>\n",
       "<table border=\"1\" class=\"dataframe\">\n",
       "  <thead>\n",
       "    <tr style=\"text-align: right;\">\n",
       "      <th></th>\n",
       "      <th>tip_amount</th>\n",
       "      <th>misc_amount</th>\n",
       "    </tr>\n",
       "  </thead>\n",
       "  <tbody>\n",
       "    <tr>\n",
       "      <th>count</th>\n",
       "      <td>1.698075e+07</td>\n",
       "      <td>1.698075e+07</td>\n",
       "    </tr>\n",
       "    <tr>\n",
       "      <th>mean</th>\n",
       "      <td>1.467774e-01</td>\n",
       "      <td>6.382542e-02</td>\n",
       "    </tr>\n",
       "    <tr>\n",
       "      <th>std</th>\n",
       "      <td>4.981317e-02</td>\n",
       "      <td>6.001246e-02</td>\n",
       "    </tr>\n",
       "    <tr>\n",
       "      <th>min</th>\n",
       "      <td>0.000000e+00</td>\n",
       "      <td>0.000000e+00</td>\n",
       "    </tr>\n",
       "    <tr>\n",
       "      <th>25%</th>\n",
       "      <td>1.300000e-01</td>\n",
       "      <td>1.000000e-02</td>\n",
       "    </tr>\n",
       "    <tr>\n",
       "      <th>50%</th>\n",
       "      <td>1.651429e-01</td>\n",
       "      <td>5.000000e-02</td>\n",
       "    </tr>\n",
       "    <tr>\n",
       "      <th>75%</th>\n",
       "      <td>1.700000e-01</td>\n",
       "      <td>1.000000e-01</td>\n",
       "    </tr>\n",
       "    <tr>\n",
       "      <th>max</th>\n",
       "      <td>9.800000e-01</td>\n",
       "      <td>9.800000e-01</td>\n",
       "    </tr>\n",
       "  </tbody>\n",
       "</table>\n",
       "</div>"
      ],
      "text/plain": [
       "         tip_amount   misc_amount\n",
       "count  1.698075e+07  1.698075e+07\n",
       "mean   1.467774e-01  6.382542e-02\n",
       "std    4.981317e-02  6.001246e-02\n",
       "min    0.000000e+00  0.000000e+00\n",
       "25%    1.300000e-01  1.000000e-02\n",
       "50%    1.651429e-01  5.000000e-02\n",
       "75%    1.700000e-01  1.000000e-01\n",
       "max    9.800000e-01  9.800000e-01"
      ]
     },
     "execution_count": 239,
     "metadata": {},
     "output_type": "execute_result"
    }
   ],
   "source": [
    "fin_data[['tip_amount', 'misc_amount']].describe()"
   ]
  },
  {
   "cell_type": "markdown",
   "metadata": {},
   "source": [
    "It can be seen that the distribution is positively skewed as well, as the difference between q2 and the maximum for both attribute is huge; hence, these outliers should be removed."
   ]
  },
  {
   "cell_type": "code",
   "execution_count": 9,
   "metadata": {},
   "outputs": [],
   "source": [
    "fin_data = remove_outliers(fin_data, 'tip_amount')\n",
    "fin_data = remove_outliers(fin_data, 'misc_amount')"
   ]
  },
  {
   "cell_type": "code",
   "execution_count": 11,
   "metadata": {},
   "outputs": [
    {
     "data": {
      "image/png": "[encoded data removed]",
      "text/plain": [
       "<Figure size 576x432 with 1 Axes>"
      ]
     },
     "metadata": {
      "needs_background": "light"
     },
     "output_type": "display_data"
    }
   ],
   "source": [
    "# Create a figure instance\n",
    "fig = plt.figure(1, figsize=(8, 6))\n",
    "\n",
    "# Create an axes instance\n",
    "ax = fig.add_subplot(111)\n",
    "\n",
    "# Create the boxplot\n",
    "bp = ax.boxplot([fin_data['tip_amount'], fin_data['misc_amount']])\n",
    "ax.set_xticklabels(['Tip%', 'Misc%'])\n",
    "plt.ylabel('%')\n",
    "\n",
    "plt.title('Tip% and misc% over total amount')\n",
    "plt.show()"
   ]
  },
  {
   "cell_type": "code",
   "execution_count": null,
   "metadata": {},
   "outputs": [],
   "source": [
    "sample_data = fin_data.sample(n=1000)"
   ]
  },
  {
   "cell_type": "markdown",
   "metadata": {},
   "source": [
    "## Model"
   ]
  },
  {
   "cell_type": "markdown",
   "metadata": {},
   "source": [
    "### Unsupervised"
   ]
  },
  {
   "cell_type": "code",
   "execution_count": 97,
   "metadata": {},
   "outputs": [],
   "source": [
    "from sklearn.compose import ColumnTransformer\n",
    "from sklearn.preprocessing import OneHotEncoder\n",
    "from sklearn.cluster import KMeans\n",
    "from sklearn.pipeline import Pipeline\n",
    "from yellowbrick.cluster.elbow import kelbow_visualizer\n",
    "from sklearn.preprocessing import MinMaxScaler\n",
    "from sklearn.svm import SVC\n",
    "#from sklearn.decisiontreeclassifier import\n",
    "from sklearn.ensemble import RandomForestClassifier\n",
    "from sklearn.tree import DecisionTreeRegressor\n",
    "from sklearn.decomposition import PCA\n",
    "# linear regression pake statsmodel aja"
   ]
  },
  {
   "cell_type": "markdown",
   "metadata": {},
   "source": [
    "### K-means Clustering"
   ]
  },
  {
   "cell_type": "code",
   "execution_count": 98,
   "metadata": {},
   "outputs": [],
   "source": [
    "# the outliers for the fare has been removed, trip frequency will not be checked for outliers, as it is based on \n",
    "# recorded trips\n",
    "fin_data = remove_outliers(fin_data, 'tip_amount')"
   ]
  },
  {
   "cell_type": "code",
   "execution_count": 99,
   "metadata": {},
   "outputs": [
    {
     "data": {
      "text/plain": [
       "(16970582, 15)"
      ]
     },
     "execution_count": 99,
     "metadata": {},
     "output_type": "execute_result"
    }
   ],
   "source": [
    "fin_data.shape"
   ]
  },
  {
   "cell_type": "code",
   "execution_count": 162,
   "metadata": {},
   "outputs": [
    {
     "data": {
      "text/html": [
       "<div>\n",
       "<style scoped>\n",
       "    .dataframe tbody tr th:only-of-type {\n",
       "        vertical-align: middle;\n",
       "    }\n",
       "\n",
       "    .dataframe tbody tr th {\n",
       "        vertical-align: top;\n",
       "    }\n",
       "\n",
       "    .dataframe thead th {\n",
       "        text-align: right;\n",
       "    }\n",
       "</style>\n",
       "<table border=\"1\" class=\"dataframe\">\n",
       "  <thead>\n",
       "    <tr style=\"text-align: right;\">\n",
       "      <th></th>\n",
       "      <th>index</th>\n",
       "      <th>date</th>\n",
       "      <th>PULocationID</th>\n",
       "      <th>DOLocationID</th>\n",
       "      <th>RatecodeID</th>\n",
       "      <th>hour</th>\n",
       "      <th>trip_distance</th>\n",
       "      <th>fare_amount</th>\n",
       "      <th>tolls_amount</th>\n",
       "      <th>tip_amount</th>\n",
       "      <th>time</th>\n",
       "      <th>trip_count</th>\n",
       "      <th>fare_per_minute</th>\n",
       "      <th>day</th>\n",
       "      <th>clean_fare_distance</th>\n",
       "      <th>tolls_block</th>\n",
       "    </tr>\n",
       "  </thead>\n",
       "  <tbody>\n",
       "    <tr>\n",
       "      <th>0</th>\n",
       "      <td>0</td>\n",
       "      <td>2019-01-01</td>\n",
       "      <td>3.0</td>\n",
       "      <td>51.0</td>\n",
       "      <td>1.0</td>\n",
       "      <td>10.0</td>\n",
       "      <td>1.27</td>\n",
       "      <td>7.00</td>\n",
       "      <td>0.00</td>\n",
       "      <td>0.00</td>\n",
       "      <td>0.121389</td>\n",
       "      <td>1.0</td>\n",
       "      <td>0.961098</td>\n",
       "      <td>0</td>\n",
       "      <td>5.382422</td>\n",
       "      <td>0</td>\n",
       "    </tr>\n",
       "    <tr>\n",
       "      <th>1</th>\n",
       "      <td>1</td>\n",
       "      <td>2019-01-01</td>\n",
       "      <td>3.0</td>\n",
       "      <td>61.0</td>\n",
       "      <td>5.0</td>\n",
       "      <td>10.0</td>\n",
       "      <td>21.09</td>\n",
       "      <td>54.84</td>\n",
       "      <td>5.76</td>\n",
       "      <td>0.00</td>\n",
       "      <td>0.603056</td>\n",
       "      <td>1.0</td>\n",
       "      <td>1.515615</td>\n",
       "      <td>0</td>\n",
       "      <td>2.470896</td>\n",
       "      <td>1</td>\n",
       "    </tr>\n",
       "    <tr>\n",
       "      <th>2</th>\n",
       "      <td>2</td>\n",
       "      <td>2019-01-01</td>\n",
       "      <td>4.0</td>\n",
       "      <td>4.0</td>\n",
       "      <td>1.0</td>\n",
       "      <td>4.0</td>\n",
       "      <td>1.10</td>\n",
       "      <td>6.50</td>\n",
       "      <td>0.00</td>\n",
       "      <td>0.17</td>\n",
       "      <td>0.109722</td>\n",
       "      <td>1.0</td>\n",
       "      <td>0.987342</td>\n",
       "      <td>0</td>\n",
       "      <td>5.779702</td>\n",
       "      <td>0</td>\n",
       "    </tr>\n",
       "    <tr>\n",
       "      <th>3</th>\n",
       "      <td>3</td>\n",
       "      <td>2019-01-01</td>\n",
       "      <td>4.0</td>\n",
       "      <td>7.0</td>\n",
       "      <td>1.0</td>\n",
       "      <td>2.0</td>\n",
       "      <td>9.61</td>\n",
       "      <td>31.00</td>\n",
       "      <td>0.00</td>\n",
       "      <td>0.17</td>\n",
       "      <td>0.471389</td>\n",
       "      <td>1.0</td>\n",
       "      <td>1.096052</td>\n",
       "      <td>0</td>\n",
       "      <td>3.096418</td>\n",
       "      <td>0</td>\n",
       "    </tr>\n",
       "    <tr>\n",
       "      <th>4</th>\n",
       "      <td>4</td>\n",
       "      <td>2019-01-01</td>\n",
       "      <td>4.0</td>\n",
       "      <td>7.0</td>\n",
       "      <td>1.0</td>\n",
       "      <td>7.0</td>\n",
       "      <td>7.02</td>\n",
       "      <td>22.00</td>\n",
       "      <td>0.00</td>\n",
       "      <td>0.08</td>\n",
       "      <td>0.353056</td>\n",
       "      <td>1.0</td>\n",
       "      <td>1.038552</td>\n",
       "      <td>0</td>\n",
       "      <td>3.004514</td>\n",
       "      <td>0</td>\n",
       "    </tr>\n",
       "  </tbody>\n",
       "</table>\n",
       "</div>"
      ],
      "text/plain": [
       "   index        date  PULocationID  DOLocationID  RatecodeID  hour  \\\n",
       "0      0  2019-01-01           3.0          51.0         1.0  10.0   \n",
       "1      1  2019-01-01           3.0          61.0         5.0  10.0   \n",
       "2      2  2019-01-01           4.0           4.0         1.0   4.0   \n",
       "3      3  2019-01-01           4.0           7.0         1.0   2.0   \n",
       "4      4  2019-01-01           4.0           7.0         1.0   7.0   \n",
       "\n",
       "   trip_distance  fare_amount  tolls_amount  tip_amount      time  trip_count  \\\n",
       "0           1.27         7.00          0.00        0.00  0.121389         1.0   \n",
       "1          21.09        54.84          5.76        0.00  0.603056         1.0   \n",
       "2           1.10         6.50          0.00        0.17  0.109722         1.0   \n",
       "3           9.61        31.00          0.00        0.17  0.471389         1.0   \n",
       "4           7.02        22.00          0.00        0.08  0.353056         1.0   \n",
       "\n",
       "   fare_per_minute  day  clean_fare_distance  tolls_block  \n",
       "0         0.961098    0             5.382422            0  \n",
       "1         1.515615    0             2.470896            1  \n",
       "2         0.987342    0             5.779702            0  \n",
       "3         1.096052    0             3.096418            0  \n",
       "4         1.038552    0             3.004514            0  "
      ]
     },
     "execution_count": 162,
     "metadata": {},
     "output_type": "execute_result"
    }
   ],
   "source": [
    "fin_data.head()"
   ]
  },
  {
   "cell_type": "code",
   "execution_count": 161,
   "metadata": {},
   "outputs": [],
   "source": [
    "fin_data.reset_index(inplace = True)"
   ]
  },
  {
   "cell_type": "markdown",
   "metadata": {},
   "source": [
    "#### Cluster evaluatoin for fare per minute, fare per distance, tip amount percentage and trip frequency"
   ]
  },
  {
   "cell_type": "code",
   "execution_count": 14,
   "metadata": {},
   "outputs": [
    {
     "data": {
      "image/png": "[encoded data removed]",
      "text/plain": [
       "<Figure size 576x396 with 2 Axes>"
      ]
     },
     "metadata": {},
     "output_type": "display_data"
    },
    {
     "name": "stderr",
     "output_type": "stream",
     "text": [
      "/home/student.unimelb.edu.au/nyoewono/.local/lib/python3.6/site-packages/sklearn/base.py:213: FutureWarning: From version 0.24, get_params will raise an AttributeError if a parameter cannot be retrieved as an instance attribute. Previously it would return None.\n",
      "  FutureWarning)\n"
     ]
    },
    {
     "data": {
      "text/plain": [
       "KElbowVisualizer(ax=<AxesSubplot:title={'center':'Distortion Score Elbow for KMeans Clustering'}, xlabel='k', ylabel='distortion score'>,\n",
       "                 k=None, model=None)"
      ]
     },
     "execution_count": 14,
     "metadata": {},
     "output_type": "execute_result"
    }
   ],
   "source": [
    "arr = np.reshape(fin_data['fare_per_minute'].values, (fin_data.shape[0], 1))\n",
    "kelbow_visualizer(KMeans(random_state=42), arr, k=(2,10))"
   ]
  },
  {
   "cell_type": "code",
   "execution_count": 15,
   "metadata": {},
   "outputs": [
    {
     "data": {
      "image/png": "[encoded data removed]",
      "text/plain": [
       "<Figure size 576x396 with 2 Axes>"
      ]
     },
     "metadata": {},
     "output_type": "display_data"
    },
    {
     "name": "stderr",
     "output_type": "stream",
     "text": [
      "/home/student.unimelb.edu.au/nyoewono/.local/lib/python3.6/site-packages/sklearn/base.py:213: FutureWarning: From version 0.24, get_params will raise an AttributeError if a parameter cannot be retrieved as an instance attribute. Previously it would return None.\n",
      "  FutureWarning)\n"
     ]
    },
    {
     "data": {
      "text/plain": [
       "KElbowVisualizer(ax=<AxesSubplot:title={'center':'Distortion Score Elbow for KMeans Clustering'}, xlabel='k', ylabel='distortion score'>,\n",
       "                 k=None, model=None)"
      ]
     },
     "execution_count": 15,
     "metadata": {},
     "output_type": "execute_result"
    }
   ],
   "source": [
    "arr = np.reshape(fin_data['clean_fare_distance'].values, (fin_data.shape[0], 1))\n",
    "kelbow_visualizer(KMeans(random_state=42), arr, k=(2,10))"
   ]
  },
  {
   "cell_type": "code",
   "execution_count": 16,
   "metadata": {},
   "outputs": [
    {
     "data": {
      "image/png": "[encoded data removed]",
      "text/plain": [
       "<Figure size 576x396 with 2 Axes>"
      ]
     },
     "metadata": {},
     "output_type": "display_data"
    },
    {
     "name": "stderr",
     "output_type": "stream",
     "text": [
      "/home/student.unimelb.edu.au/nyoewono/.local/lib/python3.6/site-packages/sklearn/base.py:213: FutureWarning: From version 0.24, get_params will raise an AttributeError if a parameter cannot be retrieved as an instance attribute. Previously it would return None.\n",
      "  FutureWarning)\n"
     ]
    },
    {
     "data": {
      "text/plain": [
       "KElbowVisualizer(ax=<AxesSubplot:title={'center':'Distortion Score Elbow for KMeans Clustering'}, xlabel='k', ylabel='distortion score'>,\n",
       "                 k=None, model=None)"
      ]
     },
     "execution_count": 16,
     "metadata": {},
     "output_type": "execute_result"
    }
   ],
   "source": [
    "arr = np.reshape(fin_data['tip_amount'].values, (fin_data.shape[0], 1))\n",
    "kelbow_visualizer(KMeans(random_state=42), arr, k=(2,10))"
   ]
  },
  {
   "cell_type": "code",
   "execution_count": 17,
   "metadata": {},
   "outputs": [
    {
     "data": {
      "image/png": "[encoded data removed]",
      "text/plain": [
       "<Figure size 576x396 with 2 Axes>"
      ]
     },
     "metadata": {},
     "output_type": "display_data"
    },
    {
     "name": "stderr",
     "output_type": "stream",
     "text": [
      "/home/student.unimelb.edu.au/nyoewono/.local/lib/python3.6/site-packages/sklearn/base.py:213: FutureWarning: From version 0.24, get_params will raise an AttributeError if a parameter cannot be retrieved as an instance attribute. Previously it would return None.\n",
      "  FutureWarning)\n"
     ]
    },
    {
     "data": {
      "text/plain": [
       "KElbowVisualizer(ax=<AxesSubplot:title={'center':'Distortion Score Elbow for KMeans Clustering'}, xlabel='k', ylabel='distortion score'>,\n",
       "                 k=None, model=None)"
      ]
     },
     "execution_count": 17,
     "metadata": {},
     "output_type": "execute_result"
    }
   ],
   "source": [
    "arr = np.reshape(fin_data['trip_count'].values, (fin_data.shape[0], 1))\n",
    "kelbow_visualizer(KMeans(random_state=42), arr, k=(2,10))"
   ]
  },
  {
   "cell_type": "code",
   "execution_count": 19,
   "metadata": {},
   "outputs": [
    {
     "data": {
      "image/png": "[encoded data removed]",
      "text/plain": [
       "<Figure size 576x396 with 2 Axes>"
      ]
     },
     "metadata": {},
     "output_type": "display_data"
    },
    {
     "name": "stderr",
     "output_type": "stream",
     "text": [
      "/home/student.unimelb.edu.au/nyoewono/.local/lib/python3.6/site-packages/sklearn/base.py:213: FutureWarning: From version 0.24, get_params will raise an AttributeError if a parameter cannot be retrieved as an instance attribute. Previously it would return None.\n",
      "  FutureWarning)\n"
     ]
    },
    {
     "data": {
      "text/plain": [
       "KElbowVisualizer(ax=<AxesSubplot:title={'center':'Distortion Score Elbow for KMeans Clustering'}, xlabel='k', ylabel='distortion score'>,\n",
       "                 k=None, model=None)"
      ]
     },
     "execution_count": 19,
     "metadata": {},
     "output_type": "execute_result"
    }
   ],
   "source": [
    "arr = fin_data[['trip_count', \"tip_amount\", \"clean_fare_distance\", \"fare_per_minute\", \"misc_amount\"]]\n",
    "kelbow_visualizer(KMeans(random_state=42), arr, k=(2,10))"
   ]
  },
  {
   "cell_type": "code",
   "execution_count": null,
   "metadata": {},
   "outputs": [],
   "source": [
    "# the result of k here is 4, VM autosave error, lost the graph :(\n",
    "arr = np.reshape(fin_data['misc_amount'].values, (fin_data.shape[0], 1))\n",
    "kelbow_visualizer(KMeans(random_state=42), arr, k=(2,10))"
   ]
  },
  {
   "cell_type": "markdown",
   "metadata": {},
   "source": [
    "The result using the elbow method show that there may be 4 natural group, and 4 group in trip frequency, fare rate, and 5 group in tip amount. The analysis will be split into 2 model, one with unsupervised equal width binning and manual labeling based on the each att bin classes, the other is the natural group from these 4 core attributes, using k-means"
   ]
  },
  {
   "cell_type": "code",
   "execution_count": 211,
   "metadata": {},
   "outputs": [],
   "source": [
    "arr = fin_data[['trip_count', \"tip_amount\", \"clean_fare_distance\", \"fare_per_minute\", \"misc_amount\"]]"
   ]
  },
  {
   "cell_type": "markdown",
   "metadata": {},
   "source": [
    "#### Equal Width Binning"
   ]
  },
  {
   "cell_type": "code",
   "execution_count": 204,
   "metadata": {},
   "outputs": [],
   "source": [
    "def binning(data, att):\n",
    "    for attribute, k in att:\n",
    "        name = f\"{attribute}_block\"\n",
    "        blocks = list(np.linspace(min(data[attribute].values), max(data[attribute].values), k+1))\n",
    "        data[name] = pd.cut(data[attribute].values, blocks, labels=list(range(1, k+1)), include_lowest = True)\n",
    "    return data"
   ]
  },
  {
   "cell_type": "code",
   "execution_count": 212,
   "metadata": {},
   "outputs": [
    {
     "name": "stderr",
     "output_type": "stream",
     "text": [
      "/usr/local/lib/python3.6/dist-packages/ipykernel_launcher.py:5: SettingWithCopyWarning: \n",
      "A value is trying to be set on a copy of a slice from a DataFrame.\n",
      "Try using .loc[row_indexer,col_indexer] = value instead\n",
      "\n",
      "See the caveats in the documentation: https://pandas.pydata.org/pandas-docs/stable/user_guide/indexing.html#returning-a-view-versus-a-copy\n",
      "  \"\"\"\n"
     ]
    }
   ],
   "source": [
    "arr = binning(arr, [['trip_count', 4], ['tip_amount', 5], ['clean_fare_distance', 4], \n",
    "                    ['fare_per_minute', 4], ['misc_amount', 4]])"
   ]
  },
  {
   "cell_type": "code",
   "execution_count": 213,
   "metadata": {},
   "outputs": [
    {
     "name": "stderr",
     "output_type": "stream",
     "text": [
      "/usr/local/lib/python3.6/dist-packages/ipykernel_launcher.py:2: SettingWithCopyWarning: \n",
      "A value is trying to be set on a copy of a slice from a DataFrame.\n",
      "Try using .loc[row_indexer,col_indexer] = value instead\n",
      "\n",
      "See the caveats in the documentation: https://pandas.pydata.org/pandas-docs/stable/user_guide/indexing.html#returning-a-view-versus-a-copy\n",
      "  \n"
     ]
    }
   ],
   "source": [
    "for each_block in arr.columns[5:]:\n",
    "    arr[each_block] = arr[each_block].astype('int')"
   ]
  },
  {
   "cell_type": "code",
   "execution_count": 214,
   "metadata": {},
   "outputs": [
    {
     "name": "stderr",
     "output_type": "stream",
     "text": [
      "/usr/local/lib/python3.6/dist-packages/ipykernel_launcher.py:1: SettingWithCopyWarning: \n",
      "A value is trying to be set on a copy of a slice from a DataFrame.\n",
      "Try using .loc[row_indexer,col_indexer] = value instead\n",
      "\n",
      "See the caveats in the documentation: https://pandas.pydata.org/pandas-docs/stable/user_guide/indexing.html#returning-a-view-versus-a-copy\n",
      "  \"\"\"Entry point for launching an IPython kernel.\n"
     ]
    },
    {
     "data": {
      "text/html": [
       "<div>\n",
       "<style scoped>\n",
       "    .dataframe tbody tr th:only-of-type {\n",
       "        vertical-align: middle;\n",
       "    }\n",
       "\n",
       "    .dataframe tbody tr th {\n",
       "        vertical-align: top;\n",
       "    }\n",
       "\n",
       "    .dataframe thead th {\n",
       "        text-align: right;\n",
       "    }\n",
       "</style>\n",
       "<table border=\"1\" class=\"dataframe\">\n",
       "  <thead>\n",
       "    <tr style=\"text-align: right;\">\n",
       "      <th></th>\n",
       "      <th>trip_count</th>\n",
       "      <th>tip_amount</th>\n",
       "      <th>clean_fare_distance</th>\n",
       "      <th>fare_per_minute</th>\n",
       "      <th>misc_amount</th>\n",
       "      <th>trip_count_block</th>\n",
       "      <th>tip_amount_block</th>\n",
       "      <th>clean_fare_distance_block</th>\n",
       "      <th>fare_per_minute_block</th>\n",
       "      <th>misc_amount_block</th>\n",
       "      <th>score</th>\n",
       "    </tr>\n",
       "  </thead>\n",
       "  <tbody>\n",
       "    <tr>\n",
       "      <th>0</th>\n",
       "      <td>1.0</td>\n",
       "      <td>0.00</td>\n",
       "      <td>5.382422</td>\n",
       "      <td>0.961098</td>\n",
       "      <td>0.00</td>\n",
       "      <td>1</td>\n",
       "      <td>1</td>\n",
       "      <td>2</td>\n",
       "      <td>2</td>\n",
       "      <td>1</td>\n",
       "      <td>7</td>\n",
       "    </tr>\n",
       "    <tr>\n",
       "      <th>1</th>\n",
       "      <td>1.0</td>\n",
       "      <td>0.00</td>\n",
       "      <td>2.470896</td>\n",
       "      <td>1.515615</td>\n",
       "      <td>0.09</td>\n",
       "      <td>1</td>\n",
       "      <td>1</td>\n",
       "      <td>1</td>\n",
       "      <td>3</td>\n",
       "      <td>3</td>\n",
       "      <td>9</td>\n",
       "    </tr>\n",
       "    <tr>\n",
       "      <th>2</th>\n",
       "      <td>1.0</td>\n",
       "      <td>0.17</td>\n",
       "      <td>5.779702</td>\n",
       "      <td>0.987342</td>\n",
       "      <td>0.05</td>\n",
       "      <td>1</td>\n",
       "      <td>3</td>\n",
       "      <td>2</td>\n",
       "      <td>2</td>\n",
       "      <td>2</td>\n",
       "      <td>10</td>\n",
       "    </tr>\n",
       "    <tr>\n",
       "      <th>3</th>\n",
       "      <td>1.0</td>\n",
       "      <td>0.17</td>\n",
       "      <td>3.096418</td>\n",
       "      <td>1.096052</td>\n",
       "      <td>0.01</td>\n",
       "      <td>1</td>\n",
       "      <td>3</td>\n",
       "      <td>2</td>\n",
       "      <td>2</td>\n",
       "      <td>1</td>\n",
       "      <td>9</td>\n",
       "    </tr>\n",
       "    <tr>\n",
       "      <th>4</th>\n",
       "      <td>1.0</td>\n",
       "      <td>0.08</td>\n",
       "      <td>3.004514</td>\n",
       "      <td>1.038552</td>\n",
       "      <td>0.00</td>\n",
       "      <td>1</td>\n",
       "      <td>1</td>\n",
       "      <td>1</td>\n",
       "      <td>2</td>\n",
       "      <td>1</td>\n",
       "      <td>6</td>\n",
       "    </tr>\n",
       "  </tbody>\n",
       "</table>\n",
       "</div>"
      ],
      "text/plain": [
       "   trip_count  tip_amount  clean_fare_distance  fare_per_minute  misc_amount  \\\n",
       "0         1.0        0.00             5.382422         0.961098         0.00   \n",
       "1         1.0        0.00             2.470896         1.515615         0.09   \n",
       "2         1.0        0.17             5.779702         0.987342         0.05   \n",
       "3         1.0        0.17             3.096418         1.096052         0.01   \n",
       "4         1.0        0.08             3.004514         1.038552         0.00   \n",
       "\n",
       "   trip_count_block  tip_amount_block  clean_fare_distance_block  \\\n",
       "0                 1                 1                          2   \n",
       "1                 1                 1                          1   \n",
       "2                 1                 3                          2   \n",
       "3                 1                 3                          2   \n",
       "4                 1                 1                          1   \n",
       "\n",
       "   fare_per_minute_block  misc_amount_block  score  \n",
       "0                      2                  1      7  \n",
       "1                      3                  3      9  \n",
       "2                      2                  2     10  \n",
       "3                      2                  1      9  \n",
       "4                      2                  1      6  "
      ]
     },
     "execution_count": 214,
     "metadata": {},
     "output_type": "execute_result"
    }
   ],
   "source": [
    "arr['score'] = arr['trip_count_block']+arr['tip_amount_block']+arr['clean_fare_distance_block']+arr['fare_per_minute_block']+arr['misc_amount_block']\n",
    "arr.head()"
   ]
  },
  {
   "cell_type": "code",
   "execution_count": 215,
   "metadata": {},
   "outputs": [
    {
     "data": {
      "text/plain": [
       "count    1.607850e+07\n",
       "mean     9.449215e+00\n",
       "std      1.325737e+00\n",
       "min      5.000000e+00\n",
       "25%      9.000000e+00\n",
       "50%      9.000000e+00\n",
       "75%      1.000000e+01\n",
       "max      1.800000e+01\n",
       "Name: score, dtype: float64"
      ]
     },
     "execution_count": 215,
     "metadata": {},
     "output_type": "execute_result"
    }
   ],
   "source": [
    "arr['score'].describe()"
   ]
  },
  {
   "cell_type": "markdown",
   "metadata": {},
   "source": [
    "To make both model comparable, this equal binning will be split into 4 ratings as well"
   ]
  },
  {
   "cell_type": "code",
   "execution_count": 216,
   "metadata": {},
   "outputs": [
    {
     "name": "stderr",
     "output_type": "stream",
     "text": [
      "/usr/local/lib/python3.6/dist-packages/ipykernel_launcher.py:5: SettingWithCopyWarning: \n",
      "A value is trying to be set on a copy of a slice from a DataFrame.\n",
      "Try using .loc[row_indexer,col_indexer] = value instead\n",
      "\n",
      "See the caveats in the documentation: https://pandas.pydata.org/pandas-docs/stable/user_guide/indexing.html#returning-a-view-versus-a-copy\n",
      "  \"\"\"\n"
     ]
    }
   ],
   "source": [
    "arr = binning(arr, [['score', 4]])"
   ]
  },
  {
   "cell_type": "code",
   "execution_count": 217,
   "metadata": {},
   "outputs": [
    {
     "data": {
      "text/plain": [
       "2    11437350\n",
       "1     3464923\n",
       "3     1173877\n",
       "4        2355\n",
       "Name: score_block, dtype: int64"
      ]
     },
     "execution_count": 217,
     "metadata": {},
     "output_type": "execute_result"
    }
   ],
   "source": [
    "arr['score_block'].value_counts()"
   ]
  },
  {
   "cell_type": "markdown",
   "metadata": {},
   "source": [
    "Here, we can see that the distribution is not equal, as most is in score block 2, and much less in 4. Hence, the best way to label them in strings are 1: poor, 2: standard, 3: good, 4: rare"
   ]
  },
  {
   "cell_type": "markdown",
   "metadata": {},
   "source": [
    "#### K-means binning"
   ]
  },
  {
   "cell_type": "code",
   "execution_count": 218,
   "metadata": {},
   "outputs": [],
   "source": [
    "data_k_means = arr[['trip_count', 'tip_amount', 'clean_fare_distance', 'fare_per_minute', 'misc_amount']].copy()\n",
    "scaler = MinMaxScaler()\n",
    "data_k_means = scaler.fit_transform(data_k_means[data_k_means.columns])\n",
    "arr_kmeans = KMeans(n_clusters=4, random_state=42).fit(data_k_means)"
   ]
  },
  {
   "cell_type": "code",
   "execution_count": 219,
   "metadata": {},
   "outputs": [],
   "source": [
    "label_pred = arr_kmeans.predict(data_k_means)"
   ]
  },
  {
   "cell_type": "code",
   "execution_count": 220,
   "metadata": {},
   "outputs": [
    {
     "data": {
      "text/plain": [
       "array([[1.16784696e-02, 3.71471011e-01, 4.37101537e-01, 3.57565806e-01,\n",
       "        3.96753465e-01],\n",
       "       [6.89671750e-04, 1.16977219e-01, 3.35689993e-01, 4.03343732e-01,\n",
       "        8.40650329e-02],\n",
       "       [7.48534098e-03, 3.46858707e-01, 3.69707774e-01, 4.09452334e-01,\n",
       "        7.33780690e-01],\n",
       "       [3.54709127e-03, 4.02198480e-01, 3.65554285e-01, 3.90603717e-01,\n",
       "        7.57831474e-02]])"
      ]
     },
     "execution_count": 220,
     "metadata": {},
     "output_type": "execute_result"
    }
   ],
   "source": [
    "arr_kmeans.cluster_centers_"
   ]
  },
  {
   "cell_type": "code",
   "execution_count": 221,
   "metadata": {},
   "outputs": [
    {
     "name": "stderr",
     "output_type": "stream",
     "text": [
      "/usr/local/lib/python3.6/dist-packages/ipykernel_launcher.py:1: SettingWithCopyWarning: \n",
      "A value is trying to be set on a copy of a slice from a DataFrame.\n",
      "Try using .loc[row_indexer,col_indexer] = value instead\n",
      "\n",
      "See the caveats in the documentation: https://pandas.pydata.org/pandas-docs/stable/user_guide/indexing.html#returning-a-view-versus-a-copy\n",
      "  \"\"\"Entry point for launching an IPython kernel.\n",
      "/usr/local/lib/python3.6/dist-packages/ipykernel_launcher.py:2: SettingWithCopyWarning: \n",
      "A value is trying to be set on a copy of a slice from a DataFrame.\n",
      "Try using .loc[row_indexer,col_indexer] = value instead\n",
      "\n",
      "See the caveats in the documentation: https://pandas.pydata.org/pandas-docs/stable/user_guide/indexing.html#returning-a-view-versus-a-copy\n",
      "  \n"
     ]
    }
   ],
   "source": [
    "arr['score_block_kmeans'] = label_pred\n",
    "arr['score_block_kmeans'] = arr['score_block_kmeans']+1"
   ]
  },
  {
   "cell_type": "code",
   "execution_count": 222,
   "metadata": {},
   "outputs": [
    {
     "data": {
      "text/plain": [
       "4    6226875\n",
       "1    4655823\n",
       "3    3613913\n",
       "2    1581894\n",
       "Name: score_block_kmeans, dtype: int64"
      ]
     },
     "execution_count": 222,
     "metadata": {},
     "output_type": "execute_result"
    }
   ],
   "source": [
    "arr['score_block_kmeans'].value_counts()"
   ]
  },
  {
   "cell_type": "markdown",
   "metadata": {},
   "source": [
    "Here, the group is much different. It can be seen that most are labeled as 4, while the least one is at 3. But, the group is much more distributed, compared to the manual labelling. Thus, the next step is to evaluate both of these group."
   ]
  }
 ],
 "metadata": {
  "kernelspec": {
   "display_name": "Python 3",
   "language": "python",
   "name": "python3"
  },
  "language_info": {
   "codemirror_mode": {
    "name": "ipython",
    "version": 3
   },
   "file_extension": ".py",
   "mimetype": "text/x-python",
   "name": "python",
   "nbconvert_exporter": "python",
   "pygments_lexer": "ipython3",
   "version": "3.6.9"
  }
 },
 "nbformat": 4,
 "nbformat_minor": 4
}
