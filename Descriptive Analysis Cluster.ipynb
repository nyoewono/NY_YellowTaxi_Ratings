{
 "cells": [
  {
   "cell_type": "code",
   "execution_count": 97,
   "metadata": {},
   "outputs": [],
   "source": [
    "import seaborn as sns\n",
    "from sklearn.cluster import KMeans\n",
    "from sklearn.svm import SVC\n",
    "from sklearn.ensemble import RandomForestClassifier\n",
    "from sklearn.tree import DecisionTreeRegressor\n",
    "import matplotlib.pyplot as plt\n",
    "from sklearn.preprocessing import MinMaxScaler\n",
    "from sklearn.metrics.pairwise import euclidean_distances\n",
    "import pandas as pd\n",
    "import numpy as np"
   ]
  },
  {
   "cell_type": "code",
   "execution_count": 60,
   "metadata": {},
   "outputs": [],
   "source": [
    "def stratify_sample(data, att, n):\n",
    "    lst_data = []\n",
    "    unique_att = data[att].unique()\n",
    "    for each_label in unique_att:\n",
    "        lst_data.append(data[data[att]==each_label].sample(n=n))\n",
    "    samples = lst_data[0]\n",
    "    for each_data in lst_data[1:]:\n",
    "        samples = pd.concat([samples, each_data])\n",
    "    return samples\n",
    "\n",
    "def make_ss(data, att, target, sort_att = False):\n",
    "    \n",
    "    lst = []\n",
    "    unique_val_att = np.sort(data[att].unique())\n",
    "    print(unique_val_att)\n",
    "    \n",
    "    for each_val in unique_val_att:\n",
    "        lst.append(data[data[att]==each_val])\n",
    "    \n",
    "    ss = lst[0].describe()[target]\n",
    "    \n",
    "    if len(lst)>=2:\n",
    "        for each_df in lst[1:]:\n",
    "            ss = pd.concat([ss, each_df.describe()[target]], axis=1)\n",
    "    \n",
    "    return ss"
   ]
  },
  {
   "cell_type": "code",
   "execution_count": 86,
   "metadata": {},
   "outputs": [],
   "source": [
    "arr = pd.read_feather('clustered_data.feather')\n",
    "#sample = pd.read_feather('sample_for_plot.feather')"
   ]
  },
  {
   "cell_type": "code",
   "execution_count": 26,
   "metadata": {},
   "outputs": [
    {
     "data": {
      "text/html": [
       "<div>\n",
       "<style scoped>\n",
       "    .dataframe tbody tr th:only-of-type {\n",
       "        vertical-align: middle;\n",
       "    }\n",
       "\n",
       "    .dataframe tbody tr th {\n",
       "        vertical-align: top;\n",
       "    }\n",
       "\n",
       "    .dataframe thead th {\n",
       "        text-align: right;\n",
       "    }\n",
       "</style>\n",
       "<table border=\"1\" class=\"dataframe\">\n",
       "  <thead>\n",
       "    <tr style=\"text-align: right;\">\n",
       "      <th></th>\n",
       "      <th>index</th>\n",
       "      <th>trip_count</th>\n",
       "      <th>tip_amount</th>\n",
       "      <th>clean_fare_distance</th>\n",
       "      <th>fare_per_minute</th>\n",
       "      <th>misc_amount</th>\n",
       "      <th>trip_count_block</th>\n",
       "      <th>tip_amount_block</th>\n",
       "      <th>clean_fare_distance_block</th>\n",
       "      <th>fare_per_minute_block</th>\n",
       "      <th>misc_amount_block</th>\n",
       "      <th>score</th>\n",
       "      <th>score_block</th>\n",
       "      <th>score_block_kmeans</th>\n",
       "      <th>score_block_pca</th>\n",
       "    </tr>\n",
       "  </thead>\n",
       "  <tbody>\n",
       "    <tr>\n",
       "      <th>0</th>\n",
       "      <td>0</td>\n",
       "      <td>1.0</td>\n",
       "      <td>0.00</td>\n",
       "      <td>5.382422</td>\n",
       "      <td>0.961098</td>\n",
       "      <td>0.00</td>\n",
       "      <td>1</td>\n",
       "      <td>1</td>\n",
       "      <td>2</td>\n",
       "      <td>2</td>\n",
       "      <td>1</td>\n",
       "      <td>7</td>\n",
       "      <td>1</td>\n",
       "      <td>2</td>\n",
       "      <td>1</td>\n",
       "    </tr>\n",
       "    <tr>\n",
       "      <th>1</th>\n",
       "      <td>1</td>\n",
       "      <td>1.0</td>\n",
       "      <td>0.00</td>\n",
       "      <td>2.470896</td>\n",
       "      <td>1.515615</td>\n",
       "      <td>0.09</td>\n",
       "      <td>1</td>\n",
       "      <td>1</td>\n",
       "      <td>1</td>\n",
       "      <td>3</td>\n",
       "      <td>3</td>\n",
       "      <td>9</td>\n",
       "      <td>2</td>\n",
       "      <td>3</td>\n",
       "      <td>1</td>\n",
       "    </tr>\n",
       "    <tr>\n",
       "      <th>2</th>\n",
       "      <td>2</td>\n",
       "      <td>1.0</td>\n",
       "      <td>0.17</td>\n",
       "      <td>5.779702</td>\n",
       "      <td>0.987342</td>\n",
       "      <td>0.05</td>\n",
       "      <td>1</td>\n",
       "      <td>3</td>\n",
       "      <td>2</td>\n",
       "      <td>2</td>\n",
       "      <td>2</td>\n",
       "      <td>10</td>\n",
       "      <td>2</td>\n",
       "      <td>1</td>\n",
       "      <td>1</td>\n",
       "    </tr>\n",
       "    <tr>\n",
       "      <th>3</th>\n",
       "      <td>3</td>\n",
       "      <td>1.0</td>\n",
       "      <td>0.17</td>\n",
       "      <td>3.096418</td>\n",
       "      <td>1.096052</td>\n",
       "      <td>0.01</td>\n",
       "      <td>1</td>\n",
       "      <td>3</td>\n",
       "      <td>2</td>\n",
       "      <td>2</td>\n",
       "      <td>1</td>\n",
       "      <td>9</td>\n",
       "      <td>2</td>\n",
       "      <td>4</td>\n",
       "      <td>1</td>\n",
       "    </tr>\n",
       "    <tr>\n",
       "      <th>4</th>\n",
       "      <td>4</td>\n",
       "      <td>1.0</td>\n",
       "      <td>0.08</td>\n",
       "      <td>3.004514</td>\n",
       "      <td>1.038552</td>\n",
       "      <td>0.00</td>\n",
       "      <td>1</td>\n",
       "      <td>1</td>\n",
       "      <td>1</td>\n",
       "      <td>2</td>\n",
       "      <td>1</td>\n",
       "      <td>6</td>\n",
       "      <td>1</td>\n",
       "      <td>2</td>\n",
       "      <td>1</td>\n",
       "    </tr>\n",
       "  </tbody>\n",
       "</table>\n",
       "</div>"
      ],
      "text/plain": [
       "   index  trip_count  tip_amount  clean_fare_distance  fare_per_minute  \\\n",
       "0      0         1.0        0.00             5.382422         0.961098   \n",
       "1      1         1.0        0.00             2.470896         1.515615   \n",
       "2      2         1.0        0.17             5.779702         0.987342   \n",
       "3      3         1.0        0.17             3.096418         1.096052   \n",
       "4      4         1.0        0.08             3.004514         1.038552   \n",
       "\n",
       "   misc_amount  trip_count_block  tip_amount_block  clean_fare_distance_block  \\\n",
       "0         0.00                 1                 1                          2   \n",
       "1         0.09                 1                 1                          1   \n",
       "2         0.05                 1                 3                          2   \n",
       "3         0.01                 1                 3                          2   \n",
       "4         0.00                 1                 1                          1   \n",
       "\n",
       "   fare_per_minute_block  misc_amount_block  score score_block  \\\n",
       "0                      2                  1      7           1   \n",
       "1                      3                  3      9           2   \n",
       "2                      2                  2     10           2   \n",
       "3                      2                  1      9           2   \n",
       "4                      2                  1      6           1   \n",
       "\n",
       "   score_block_kmeans  score_block_pca  \n",
       "0                   2                1  \n",
       "1                   3                1  \n",
       "2                   1                1  \n",
       "3                   4                1  \n",
       "4                   2                1  "
      ]
     },
     "execution_count": 26,
     "metadata": {},
     "output_type": "execute_result"
    }
   ],
   "source": [
    "arr.head()"
   ]
  },
  {
   "cell_type": "code",
   "execution_count": 3,
   "metadata": {},
   "outputs": [],
   "source": [
    "arr.drop(labels=['score_block_kmeans', 'score_block_pca', 'score', 'index', 'trip_count_block', 'tip_amount_block',\n",
    "                'clean_fare_distance_block', 'fare_per_minute_block', \n",
    "                 'misc_amount_block', 'score'], axis=1, inplace = True)"
   ]
  },
  {
   "cell_type": "code",
   "execution_count": 62,
   "metadata": {},
   "outputs": [
    {
     "data": {
      "text/html": [
       "<div>\n",
       "<style scoped>\n",
       "    .dataframe tbody tr th:only-of-type {\n",
       "        vertical-align: middle;\n",
       "    }\n",
       "\n",
       "    .dataframe tbody tr th {\n",
       "        vertical-align: top;\n",
       "    }\n",
       "\n",
       "    .dataframe thead th {\n",
       "        text-align: right;\n",
       "    }\n",
       "</style>\n",
       "<table border=\"1\" class=\"dataframe\">\n",
       "  <thead>\n",
       "    <tr style=\"text-align: right;\">\n",
       "      <th></th>\n",
       "      <th>index</th>\n",
       "      <th>trip_count</th>\n",
       "      <th>tip_amount</th>\n",
       "      <th>clean_fare_distance</th>\n",
       "      <th>fare_per_minute</th>\n",
       "      <th>misc_amount</th>\n",
       "      <th>trip_count_block</th>\n",
       "      <th>tip_amount_block</th>\n",
       "      <th>clean_fare_distance_block</th>\n",
       "      <th>fare_per_minute_block</th>\n",
       "      <th>misc_amount_block</th>\n",
       "      <th>score</th>\n",
       "      <th>score_block</th>\n",
       "      <th>score_block_kmeans</th>\n",
       "      <th>score_block_pca</th>\n",
       "    </tr>\n",
       "  </thead>\n",
       "  <tbody>\n",
       "    <tr>\n",
       "      <th>0</th>\n",
       "      <td>0</td>\n",
       "      <td>1.0</td>\n",
       "      <td>0.00</td>\n",
       "      <td>5.382422</td>\n",
       "      <td>0.961098</td>\n",
       "      <td>0.00</td>\n",
       "      <td>1</td>\n",
       "      <td>1</td>\n",
       "      <td>2</td>\n",
       "      <td>2</td>\n",
       "      <td>1</td>\n",
       "      <td>7</td>\n",
       "      <td>1</td>\n",
       "      <td>2</td>\n",
       "      <td>1</td>\n",
       "    </tr>\n",
       "    <tr>\n",
       "      <th>1</th>\n",
       "      <td>1</td>\n",
       "      <td>1.0</td>\n",
       "      <td>0.00</td>\n",
       "      <td>2.470896</td>\n",
       "      <td>1.515615</td>\n",
       "      <td>0.09</td>\n",
       "      <td>1</td>\n",
       "      <td>1</td>\n",
       "      <td>1</td>\n",
       "      <td>3</td>\n",
       "      <td>3</td>\n",
       "      <td>9</td>\n",
       "      <td>2</td>\n",
       "      <td>3</td>\n",
       "      <td>1</td>\n",
       "    </tr>\n",
       "    <tr>\n",
       "      <th>2</th>\n",
       "      <td>2</td>\n",
       "      <td>1.0</td>\n",
       "      <td>0.17</td>\n",
       "      <td>5.779702</td>\n",
       "      <td>0.987342</td>\n",
       "      <td>0.05</td>\n",
       "      <td>1</td>\n",
       "      <td>3</td>\n",
       "      <td>2</td>\n",
       "      <td>2</td>\n",
       "      <td>2</td>\n",
       "      <td>10</td>\n",
       "      <td>2</td>\n",
       "      <td>1</td>\n",
       "      <td>1</td>\n",
       "    </tr>\n",
       "    <tr>\n",
       "      <th>3</th>\n",
       "      <td>3</td>\n",
       "      <td>1.0</td>\n",
       "      <td>0.17</td>\n",
       "      <td>3.096418</td>\n",
       "      <td>1.096052</td>\n",
       "      <td>0.01</td>\n",
       "      <td>1</td>\n",
       "      <td>3</td>\n",
       "      <td>2</td>\n",
       "      <td>2</td>\n",
       "      <td>1</td>\n",
       "      <td>9</td>\n",
       "      <td>2</td>\n",
       "      <td>4</td>\n",
       "      <td>1</td>\n",
       "    </tr>\n",
       "    <tr>\n",
       "      <th>4</th>\n",
       "      <td>4</td>\n",
       "      <td>1.0</td>\n",
       "      <td>0.08</td>\n",
       "      <td>3.004514</td>\n",
       "      <td>1.038552</td>\n",
       "      <td>0.00</td>\n",
       "      <td>1</td>\n",
       "      <td>1</td>\n",
       "      <td>1</td>\n",
       "      <td>2</td>\n",
       "      <td>1</td>\n",
       "      <td>6</td>\n",
       "      <td>1</td>\n",
       "      <td>2</td>\n",
       "      <td>1</td>\n",
       "    </tr>\n",
       "  </tbody>\n",
       "</table>\n",
       "</div>"
      ],
      "text/plain": [
       "   index  trip_count  tip_amount  clean_fare_distance  fare_per_minute  \\\n",
       "0      0         1.0        0.00             5.382422         0.961098   \n",
       "1      1         1.0        0.00             2.470896         1.515615   \n",
       "2      2         1.0        0.17             5.779702         0.987342   \n",
       "3      3         1.0        0.17             3.096418         1.096052   \n",
       "4      4         1.0        0.08             3.004514         1.038552   \n",
       "\n",
       "   misc_amount  trip_count_block  tip_amount_block  clean_fare_distance_block  \\\n",
       "0         0.00                 1                 1                          2   \n",
       "1         0.09                 1                 1                          1   \n",
       "2         0.05                 1                 3                          2   \n",
       "3         0.01                 1                 3                          2   \n",
       "4         0.00                 1                 1                          1   \n",
       "\n",
       "   fare_per_minute_block  misc_amount_block  score score_block  \\\n",
       "0                      2                  1      7           1   \n",
       "1                      3                  3      9           2   \n",
       "2                      2                  2     10           2   \n",
       "3                      2                  1      9           2   \n",
       "4                      2                  1      6           1   \n",
       "\n",
       "   score_block_kmeans  score_block_pca  \n",
       "0                   2                1  \n",
       "1                   3                1  \n",
       "2                   1                1  \n",
       "3                   4                1  \n",
       "4                   2                1  "
      ]
     },
     "execution_count": 62,
     "metadata": {},
     "output_type": "execute_result"
    }
   ],
   "source": [
    "arr.head()"
   ]
  },
  {
   "cell_type": "code",
   "execution_count": 18,
   "metadata": {},
   "outputs": [],
   "source": [
    "arr.columns = [['trip_count', 'tip_amount', 'fare_distance'\n",
    "                      ,'fare_per_minute', 'misc_amount', 'score_block']]"
   ]
  },
  {
   "cell_type": "code",
   "execution_count": 22,
   "metadata": {},
   "outputs": [
    {
     "data": {
      "image/png": "[encoded data removed]",
      "text/plain": [
       "<Figure size 720x432 with 2 Axes>"
      ]
     },
     "metadata": {},
     "output_type": "display_data"
    }
   ],
   "source": [
    "plt.figure(figsize=(10, 6))\n",
    "# this code is taken from mast30034 tutorial\n",
    "sns.heatmap(arr[['tip_amount', 'trip_count', 'fare_distance'\n",
    "                      ,'misc_amount', 'fare_per_minute']].corr())\n",
    "#plt.savefig('plot/correlation_plot.png')\n",
    "sns.set(font_scale=1)\n",
    "plt.show()"
   ]
  },
  {
   "cell_type": "code",
   "execution_count": 23,
   "metadata": {},
   "outputs": [
    {
     "data": {
      "text/html": [
       "<div>\n",
       "<style scoped>\n",
       "    .dataframe tbody tr th:only-of-type {\n",
       "        vertical-align: middle;\n",
       "    }\n",
       "\n",
       "    .dataframe tbody tr th {\n",
       "        vertical-align: top;\n",
       "    }\n",
       "\n",
       "    .dataframe thead tr th {\n",
       "        text-align: left;\n",
       "    }\n",
       "</style>\n",
       "<table border=\"1\" class=\"dataframe\">\n",
       "  <thead>\n",
       "    <tr>\n",
       "      <th></th>\n",
       "      <th>tip_amount</th>\n",
       "      <th>trip_count</th>\n",
       "      <th>fare_distance</th>\n",
       "      <th>misc_amount</th>\n",
       "      <th>fare_per_minute</th>\n",
       "    </tr>\n",
       "  </thead>\n",
       "  <tbody>\n",
       "    <tr>\n",
       "      <th>tip_amount</th>\n",
       "      <td>1.000000</td>\n",
       "      <td>0.068014</td>\n",
       "      <td>0.074578</td>\n",
       "      <td>0.025775</td>\n",
       "      <td>-0.016869</td>\n",
       "    </tr>\n",
       "    <tr>\n",
       "      <th>trip_count</th>\n",
       "      <td>0.068014</td>\n",
       "      <td>1.000000</td>\n",
       "      <td>0.327896</td>\n",
       "      <td>0.173496</td>\n",
       "      <td>-0.147815</td>\n",
       "    </tr>\n",
       "    <tr>\n",
       "      <th>fare_distance</th>\n",
       "      <td>0.074578</td>\n",
       "      <td>0.327896</td>\n",
       "      <td>1.000000</td>\n",
       "      <td>0.060376</td>\n",
       "      <td>-0.504207</td>\n",
       "    </tr>\n",
       "    <tr>\n",
       "      <th>misc_amount</th>\n",
       "      <td>0.025775</td>\n",
       "      <td>0.173496</td>\n",
       "      <td>0.060376</td>\n",
       "      <td>1.000000</td>\n",
       "      <td>0.032826</td>\n",
       "    </tr>\n",
       "    <tr>\n",
       "      <th>fare_per_minute</th>\n",
       "      <td>-0.016869</td>\n",
       "      <td>-0.147815</td>\n",
       "      <td>-0.504207</td>\n",
       "      <td>0.032826</td>\n",
       "      <td>1.000000</td>\n",
       "    </tr>\n",
       "  </tbody>\n",
       "</table>\n",
       "</div>"
      ],
      "text/plain": [
       "                tip_amount trip_count fare_distance misc_amount  \\\n",
       "tip_amount        1.000000   0.068014      0.074578    0.025775   \n",
       "trip_count        0.068014   1.000000      0.327896    0.173496   \n",
       "fare_distance     0.074578   0.327896      1.000000    0.060376   \n",
       "misc_amount       0.025775   0.173496      0.060376    1.000000   \n",
       "fare_per_minute  -0.016869  -0.147815     -0.504207    0.032826   \n",
       "\n",
       "                fare_per_minute  \n",
       "tip_amount            -0.016869  \n",
       "trip_count            -0.147815  \n",
       "fare_distance         -0.504207  \n",
       "misc_amount            0.032826  \n",
       "fare_per_minute        1.000000  "
      ]
     },
     "execution_count": 23,
     "metadata": {},
     "output_type": "execute_result"
    }
   ],
   "source": [
    "arr[['tip_amount', 'trip_count', 'fare_distance'\n",
    "                      ,'misc_amount', 'fare_per_minute']].corr()"
   ]
  },
  {
   "cell_type": "markdown",
   "metadata": {},
   "source": [
    "#### Get summary statistics for each score block to see their seperation"
   ]
  },
  {
   "cell_type": "code",
   "execution_count": 43,
   "metadata": {},
   "outputs": [],
   "source": [
    "sample = stratify_sample(arr, 'score_block', 500)"
   ]
  },
  {
   "cell_type": "code",
   "execution_count": 14,
   "metadata": {},
   "outputs": [],
   "source": [
    "sample.reset_index().to_feather('sample_for_plot.feather')"
   ]
  },
  {
   "cell_type": "markdown",
   "metadata": {},
   "source": [
    "Trip count"
   ]
  },
  {
   "cell_type": "code",
   "execution_count": 85,
   "metadata": {},
   "outputs": [
    {
     "name": "stderr",
     "output_type": "stream",
     "text": [
      "/usr/local/lib/python3.6/dist-packages/seaborn/axisgrid.py:918: UserWarning: FixedFormatter should only be used together with FixedLocator\n",
      "  ax.set_xticklabels(labels, **kwargs)\n"
     ]
    },
    {
     "data": {
      "image/png": "[encoded data removed]",
      "text/plain": [
       "<Figure size 576x432 with 1 Axes>"
      ]
     },
     "metadata": {},
     "output_type": "display_data"
    }
   ],
   "source": [
    "plt.figure(figsize=(8, 6))\n",
    "plt.boxplot([np.log(arr[arr['score_block']==1]['trip_count']), \n",
    "             np.log(arr[arr['score_block']==2]['trip_count']),\n",
    "             np.log(arr[arr['score_block']==3]['trip_count']),\n",
    "             np.log(arr[arr['score_block']==4]['trip_count'])])\n",
    "ax.set_xticklabels(['1', '2', '3', '4'])\n",
    "plt.title('Boxplot of trip frequency on each cluster')\n",
    "plt.ylabel('Trip frequency')\n",
    "plt.show()"
   ]
  },
  {
   "cell_type": "markdown",
   "metadata": {},
   "source": [
    "Fare/distance"
   ]
  },
  {
   "cell_type": "code",
   "execution_count": 45,
   "metadata": {},
   "outputs": [
    {
     "name": "stderr",
     "output_type": "stream",
     "text": [
      "/usr/local/lib/python3.6/dist-packages/seaborn/axisgrid.py:918: UserWarning: FixedFormatter should only be used together with FixedLocator\n",
      "  ax.set_xticklabels(labels, **kwargs)\n"
     ]
    },
    {
     "data": {
      "image/png": "[encoded data removed]",
      "text/plain": [
       "<Figure size 576x432 with 1 Axes>"
      ]
     },
     "metadata": {},
     "output_type": "display_data"
    }
   ],
   "source": [
    "plt.figure(figsize=(8, 6))\n",
    "plt.boxplot([arr[arr['score_block']==1]['clean_fare_distance'], \n",
    "             arr[arr['score_block']==2]['clean_fare_distance'],\n",
    "             arr[arr['score_block']==3]['clean_fare_distance'],\n",
    "             arr[arr['score_block']==4]['clean_fare_distance']])\n",
    "ax.set_xticklabels(['1', '2', '3', '4'])\n",
    "plt.title('Boxplot of fare/distance on each cluster')\n",
    "plt.ylabel('$/miles')\n",
    "plt.show()"
   ]
  },
  {
   "cell_type": "code",
   "execution_count": 63,
   "metadata": {},
   "outputs": [
    {
     "data": {
      "image/png": "[encoded data removed]",
      "text/plain": [
       "<Figure size 432x288 with 1 Axes>"
      ]
     },
     "metadata": {},
     "output_type": "display_data"
    }
   ],
   "source": [
    "sns.distplot(arr[arr['score_block']==1]['clean_fare_distance'], label='1')\n",
    "sns.distplot(arr[arr['score_block']==2]['clean_fare_distance'], label='2')\n",
    "sns.distplot(arr[arr['score_block']==3]['clean_fare_distance'], label='3')\n",
    "sns.distplot(arr[arr['score_block']==4]['clean_fare_distance'], label='4')\n",
    "plt.legend()\n",
    "plt.title('Distribution plot of fare/distance for each cluster')\n",
    "plt.show()"
   ]
  },
  {
   "cell_type": "code",
   "execution_count": 47,
   "metadata": {},
   "outputs": [
    {
     "data": {
      "image/png": "[encoded data removed]",
      "text/plain": [
       "<Figure size 432x288 with 1 Axes>"
      ]
     },
     "metadata": {},
     "output_type": "display_data"
    }
   ],
   "source": [
    "sns.distplot(arr[arr['score_block_kmeans']==1]['fare_per_minute'], label='1')\n",
    "sns.distplot(arr[arr['score_block_kmeans']==2]['fare_per_minute'], label='2')\n",
    "sns.distplot(arr[arr['score_block_kmeans']==3]['fare_per_minute'], label='3')\n",
    "sns.distplot(arr[arr['score_block_kmeans']==4]['fare_per_minute'], label='4')\n",
    "plt.legend()\n",
    "plt.title('Distribution plot of fare/minute for each cluster')\n",
    "plt.show()"
   ]
  },
  {
   "cell_type": "markdown",
   "metadata": {},
   "source": [
    "Fare/minute"
   ]
  },
  {
   "cell_type": "code",
   "execution_count": 64,
   "metadata": {},
   "outputs": [
    {
     "data": {
      "image/png": "[encoded data removed]",
      "text/plain": [
       "<Figure size 432x288 with 1 Axes>"
      ]
     },
     "metadata": {},
     "output_type": "display_data"
    }
   ],
   "source": [
    "sns.distplot(arr[arr['score_block']==1]['fare_per_minute'], label='1')\n",
    "sns.distplot(arr[arr['score_block']==2]['fare_per_minute'], label='2')\n",
    "sns.distplot(arr[arr['score_block']==3]['fare_per_minute'], label='3')\n",
    "sns.distplot(arr[arr['score_block']==4]['fare_per_minute'], label='4')\n",
    "plt.legend()\n",
    "plt.title('Distribution plot of fare/minute for each cluster')\n",
    "plt.show()"
   ]
  },
  {
   "cell_type": "markdown",
   "metadata": {},
   "source": [
    "tip amount"
   ]
  },
  {
   "cell_type": "code",
   "execution_count": 65,
   "metadata": {},
   "outputs": [
    {
     "name": "stderr",
     "output_type": "stream",
     "text": [
      "/usr/local/lib/python3.6/dist-packages/seaborn/axisgrid.py:918: UserWarning: FixedFormatter should only be used together with FixedLocator\n",
      "  ax.set_xticklabels(labels, **kwargs)\n"
     ]
    },
    {
     "data": {
      "image/png": "[encoded data removed]",
      "text/plain": [
       "<Figure size 576x432 with 1 Axes>"
      ]
     },
     "metadata": {},
     "output_type": "display_data"
    }
   ],
   "source": [
    "plt.figure(figsize=(8, 6))\n",
    "plt.boxplot([arr[arr['score_block']==1]['tip_amount'], \n",
    "             arr[arr['score_block']==2]['tip_amount'],\n",
    "             arr[arr['score_block']==3]['tip_amount'],\n",
    "             arr[arr['score_block']==4]['tip_amount']])\n",
    "ax.set_xticklabels(['1', '2', '3', '4'])\n",
    "plt.title('Boxplot of tip % on each cluster')\n",
    "plt.ylabel('% over total amount')\n",
    "plt.show()"
   ]
  },
  {
   "cell_type": "code",
   "execution_count": 49,
   "metadata": {},
   "outputs": [
    {
     "name": "stderr",
     "output_type": "stream",
     "text": [
      "/usr/local/lib/python3.6/dist-packages/seaborn/axisgrid.py:918: UserWarning: FixedFormatter should only be used together with FixedLocator\n",
      "  ax.set_xticklabels(labels, **kwargs)\n"
     ]
    },
    {
     "data": {
      "image/png": "[encoded data removed]",
      "text/plain": [
       "<Figure size 576x432 with 1 Axes>"
      ]
     },
     "metadata": {},
     "output_type": "display_data"
    }
   ],
   "source": [
    "plt.figure(figsize=(8, 6))\n",
    "plt.boxplot([arr[arr['score_block_kmeans']==1]['misc_amount'], \n",
    "             arr[arr['score_block_kmeans']==2]['misc_amount'],\n",
    "             arr[arr['score_block_kmeans']==3]['misc_amount'],\n",
    "             arr[arr['score_block_kmeans']==4]['misc_amount']])\n",
    "ax.set_xticklabels(['1', '2', '3', '4'])\n",
    "plt.title('Boxplot of miscellaneous % on each cluster')\n",
    "plt.ylabel('% over total amount')\n",
    "plt.show()"
   ]
  },
  {
   "cell_type": "markdown",
   "metadata": {},
   "source": [
    "misclenaneous amount"
   ]
  },
  {
   "cell_type": "code",
   "execution_count": 81,
   "metadata": {},
   "outputs": [
    {
     "name": "stderr",
     "output_type": "stream",
     "text": [
      "/usr/local/lib/python3.6/dist-packages/seaborn/axisgrid.py:918: UserWarning: FixedFormatter should only be used together with FixedLocator\n",
      "  ax.set_xticklabels(labels, **kwargs)\n"
     ]
    },
    {
     "data": {
      "image/png": "[encoded data removed]",
      "text/plain": [
       "<Figure size 576x432 with 1 Axes>"
      ]
     },
     "metadata": {},
     "output_type": "display_data"
    }
   ],
   "source": [
    "plt.figure(figsize=(8, 6))\n",
    "plt.boxplot([arr[arr['score_block']==1]['misc_amount'], \n",
    "             arr[arr['score_block']==2]['misc_amount'],\n",
    "             arr[arr['score_block']==3]['misc_amount'],\n",
    "             arr[arr['score_block']==4]['misc_amount']])\n",
    "ax.set_xticklabels(['1', '2', '3', '4'])\n",
    "plt.title('Boxplot of miscellaneous % on each cluster')\n",
    "plt.ylabel('% over total amount')\n",
    "plt.show()"
   ]
  },
  {
   "cell_type": "code",
   "execution_count": 52,
   "metadata": {},
   "outputs": [
    {
     "name": "stdout",
     "output_type": "stream",
     "text": [
      "[1 2 3 4]\n",
      "[1 2 3 4]\n",
      "[1 2 3 4]\n"
     ]
    }
   ],
   "source": [
    "fare_distance = make_ss(arr,'score_block',  'clean_fare_distance', sort_att = False)\n",
    "fare_minute = make_ss(arr,'score_block',  'fare_per_minute', sort_att = False)\n",
    "misc_amount = make_ss(arr,'score_block',  'misc_amount', sort_att = False)"
   ]
  },
  {
   "cell_type": "markdown",
   "metadata": {},
   "source": [
    "Summarise on these tables"
   ]
  },
  {
   "cell_type": "code",
   "execution_count": 51,
   "metadata": {},
   "outputs": [
    {
     "data": {
      "text/html": [
       "<div>\n",
       "<style scoped>\n",
       "    .dataframe tbody tr th:only-of-type {\n",
       "        vertical-align: middle;\n",
       "    }\n",
       "\n",
       "    .dataframe tbody tr th {\n",
       "        vertical-align: top;\n",
       "    }\n",
       "\n",
       "    .dataframe thead th {\n",
       "        text-align: right;\n",
       "    }\n",
       "</style>\n",
       "<table border=\"1\" class=\"dataframe\">\n",
       "  <thead>\n",
       "    <tr style=\"text-align: right;\">\n",
       "      <th></th>\n",
       "      <th>clean_fare_distance</th>\n",
       "      <th>clean_fare_distance</th>\n",
       "      <th>clean_fare_distance</th>\n",
       "      <th>clean_fare_distance</th>\n",
       "    </tr>\n",
       "  </thead>\n",
       "  <tbody>\n",
       "    <tr>\n",
       "      <th>count</th>\n",
       "      <td>3.464923e+06</td>\n",
       "      <td>1.143735e+07</td>\n",
       "      <td>1.173877e+06</td>\n",
       "      <td>2355.000000</td>\n",
       "    </tr>\n",
       "    <tr>\n",
       "      <th>mean</th>\n",
       "      <td>4.072217e+00</td>\n",
       "      <td>4.696602e+00</td>\n",
       "      <td>5.610645e+00</td>\n",
       "      <td>9.042335</td>\n",
       "    </tr>\n",
       "    <tr>\n",
       "      <th>std</th>\n",
       "      <td>1.029985e+00</td>\n",
       "      <td>1.525060e+00</td>\n",
       "      <td>2.152918e+00</td>\n",
       "      <td>1.921011</td>\n",
       "    </tr>\n",
       "    <tr>\n",
       "      <th>min</th>\n",
       "      <td>1.997533e-02</td>\n",
       "      <td>7.829847e-01</td>\n",
       "      <td>1.187790e+00</td>\n",
       "      <td>2.574570</td>\n",
       "    </tr>\n",
       "    <tr>\n",
       "      <th>25%</th>\n",
       "      <td>3.242763e+00</td>\n",
       "      <td>3.539337e+00</td>\n",
       "      <td>3.702823e+00</td>\n",
       "      <td>7.655515</td>\n",
       "    </tr>\n",
       "    <tr>\n",
       "      <th>50%</th>\n",
       "      <td>3.942217e+00</td>\n",
       "      <td>4.409364e+00</td>\n",
       "      <td>5.403500e+00</td>\n",
       "      <td>9.418662</td>\n",
       "    </tr>\n",
       "    <tr>\n",
       "      <th>75%</th>\n",
       "      <td>4.770212e+00</td>\n",
       "      <td>5.553114e+00</td>\n",
       "      <td>6.964393e+00</td>\n",
       "      <td>10.456218</td>\n",
       "    </tr>\n",
       "    <tr>\n",
       "      <th>max</th>\n",
       "      <td>1.201305e+01</td>\n",
       "      <td>1.201673e+01</td>\n",
       "      <td>1.201684e+01</td>\n",
       "      <td>12.013051</td>\n",
       "    </tr>\n",
       "  </tbody>\n",
       "</table>\n",
       "</div>"
      ],
      "text/plain": [
       "       clean_fare_distance  clean_fare_distance  clean_fare_distance  \\\n",
       "count         3.464923e+06         1.143735e+07         1.173877e+06   \n",
       "mean          4.072217e+00         4.696602e+00         5.610645e+00   \n",
       "std           1.029985e+00         1.525060e+00         2.152918e+00   \n",
       "min           1.997533e-02         7.829847e-01         1.187790e+00   \n",
       "25%           3.242763e+00         3.539337e+00         3.702823e+00   \n",
       "50%           3.942217e+00         4.409364e+00         5.403500e+00   \n",
       "75%           4.770212e+00         5.553114e+00         6.964393e+00   \n",
       "max           1.201305e+01         1.201673e+01         1.201684e+01   \n",
       "\n",
       "       clean_fare_distance  \n",
       "count          2355.000000  \n",
       "mean              9.042335  \n",
       "std               1.921011  \n",
       "min               2.574570  \n",
       "25%               7.655515  \n",
       "50%               9.418662  \n",
       "75%              10.456218  \n",
       "max              12.013051  "
      ]
     },
     "execution_count": 51,
     "metadata": {},
     "output_type": "execute_result"
    }
   ],
   "source": [
    "fare_distance"
   ]
  },
  {
   "cell_type": "code",
   "execution_count": 53,
   "metadata": {},
   "outputs": [
    {
     "data": {
      "text/html": [
       "<div>\n",
       "<style scoped>\n",
       "    .dataframe tbody tr th:only-of-type {\n",
       "        vertical-align: middle;\n",
       "    }\n",
       "\n",
       "    .dataframe tbody tr th {\n",
       "        vertical-align: top;\n",
       "    }\n",
       "\n",
       "    .dataframe thead th {\n",
       "        text-align: right;\n",
       "    }\n",
       "</style>\n",
       "<table border=\"1\" class=\"dataframe\">\n",
       "  <thead>\n",
       "    <tr style=\"text-align: right;\">\n",
       "      <th></th>\n",
       "      <th>fare_per_minute</th>\n",
       "      <th>fare_per_minute</th>\n",
       "      <th>fare_per_minute</th>\n",
       "      <th>fare_per_minute</th>\n",
       "    </tr>\n",
       "  </thead>\n",
       "  <tbody>\n",
       "    <tr>\n",
       "      <th>count</th>\n",
       "      <td>3.464923e+06</td>\n",
       "      <td>1.143735e+07</td>\n",
       "      <td>1.173877e+06</td>\n",
       "      <td>2355.000000</td>\n",
       "    </tr>\n",
       "    <tr>\n",
       "      <th>mean</th>\n",
       "      <td>9.227052e-01</td>\n",
       "      <td>9.133584e-01</td>\n",
       "      <td>9.801023e-01</td>\n",
       "      <td>1.833495</td>\n",
       "    </tr>\n",
       "    <tr>\n",
       "      <th>std</th>\n",
       "      <td>2.052541e-01</td>\n",
       "      <td>2.278101e-01</td>\n",
       "      <td>3.405716e-01</td>\n",
       "      <td>0.429438</td>\n",
       "    </tr>\n",
       "    <tr>\n",
       "      <th>min</th>\n",
       "      <td>5.601660e-02</td>\n",
       "      <td>3.302146e-02</td>\n",
       "      <td>1.103448e-01</td>\n",
       "      <td>0.610080</td>\n",
       "    </tr>\n",
       "    <tr>\n",
       "      <th>25%</th>\n",
       "      <td>7.770801e-01</td>\n",
       "      <td>7.604563e-01</td>\n",
       "      <td>7.637475e-01</td>\n",
       "      <td>1.762115</td>\n",
       "    </tr>\n",
       "    <tr>\n",
       "      <th>50%</th>\n",
       "      <td>8.888889e-01</td>\n",
       "      <td>8.634223e-01</td>\n",
       "      <td>8.715084e-01</td>\n",
       "      <td>1.949107</td>\n",
       "    </tr>\n",
       "    <tr>\n",
       "      <th>75%</th>\n",
       "      <td>1.028881e+00</td>\n",
       "      <td>9.967320e-01</td>\n",
       "      <td>1.047619e+00</td>\n",
       "      <td>2.134063</td>\n",
       "    </tr>\n",
       "    <tr>\n",
       "      <th>max</th>\n",
       "      <td>2.327456e+00</td>\n",
       "      <td>2.328590e+00</td>\n",
       "      <td>2.328612e+00</td>\n",
       "      <td>2.328590</td>\n",
       "    </tr>\n",
       "  </tbody>\n",
       "</table>\n",
       "</div>"
      ],
      "text/plain": [
       "       fare_per_minute  fare_per_minute  fare_per_minute  fare_per_minute\n",
       "count     3.464923e+06     1.143735e+07     1.173877e+06      2355.000000\n",
       "mean      9.227052e-01     9.133584e-01     9.801023e-01         1.833495\n",
       "std       2.052541e-01     2.278101e-01     3.405716e-01         0.429438\n",
       "min       5.601660e-02     3.302146e-02     1.103448e-01         0.610080\n",
       "25%       7.770801e-01     7.604563e-01     7.637475e-01         1.762115\n",
       "50%       8.888889e-01     8.634223e-01     8.715084e-01         1.949107\n",
       "75%       1.028881e+00     9.967320e-01     1.047619e+00         2.134063\n",
       "max       2.327456e+00     2.328590e+00     2.328612e+00         2.328590"
      ]
     },
     "execution_count": 53,
     "metadata": {},
     "output_type": "execute_result"
    }
   ],
   "source": [
    "fare_minute"
   ]
  },
  {
   "cell_type": "code",
   "execution_count": 54,
   "metadata": {},
   "outputs": [
    {
     "data": {
      "text/html": [
       "<div>\n",
       "<style scoped>\n",
       "    .dataframe tbody tr th:only-of-type {\n",
       "        vertical-align: middle;\n",
       "    }\n",
       "\n",
       "    .dataframe tbody tr th {\n",
       "        vertical-align: top;\n",
       "    }\n",
       "\n",
       "    .dataframe thead th {\n",
       "        text-align: right;\n",
       "    }\n",
       "</style>\n",
       "<table border=\"1\" class=\"dataframe\">\n",
       "  <thead>\n",
       "    <tr style=\"text-align: right;\">\n",
       "      <th></th>\n",
       "      <th>misc_amount</th>\n",
       "      <th>misc_amount</th>\n",
       "      <th>misc_amount</th>\n",
       "      <th>misc_amount</th>\n",
       "    </tr>\n",
       "  </thead>\n",
       "  <tbody>\n",
       "    <tr>\n",
       "      <th>count</th>\n",
       "      <td>3.464923e+06</td>\n",
       "      <td>1.143735e+07</td>\n",
       "      <td>1.173877e+06</td>\n",
       "      <td>2355.000000</td>\n",
       "    </tr>\n",
       "    <tr>\n",
       "      <th>mean</th>\n",
       "      <td>1.813801e-02</td>\n",
       "      <td>5.852632e-02</td>\n",
       "      <td>1.366336e-01</td>\n",
       "      <td>0.144308</td>\n",
       "    </tr>\n",
       "    <tr>\n",
       "      <th>std</th>\n",
       "      <td>2.184767e-02</td>\n",
       "      <td>4.562252e-02</td>\n",
       "      <td>2.698913e-02</td>\n",
       "      <td>0.020131</td>\n",
       "    </tr>\n",
       "    <tr>\n",
       "      <th>min</th>\n",
       "      <td>0.000000e+00</td>\n",
       "      <td>0.000000e+00</td>\n",
       "      <td>0.000000e+00</td>\n",
       "      <td>0.000000</td>\n",
       "    </tr>\n",
       "    <tr>\n",
       "      <th>25%</th>\n",
       "      <td>0.000000e+00</td>\n",
       "      <td>2.000000e-02</td>\n",
       "      <td>1.200000e-01</td>\n",
       "      <td>0.140000</td>\n",
       "    </tr>\n",
       "    <tr>\n",
       "      <th>50%</th>\n",
       "      <td>1.000000e-02</td>\n",
       "      <td>5.500000e-02</td>\n",
       "      <td>1.400000e-01</td>\n",
       "      <td>0.140000</td>\n",
       "    </tr>\n",
       "    <tr>\n",
       "      <th>75%</th>\n",
       "      <td>3.000000e-02</td>\n",
       "      <td>9.250000e-02</td>\n",
       "      <td>1.575000e-01</td>\n",
       "      <td>0.160000</td>\n",
       "    </tr>\n",
       "    <tr>\n",
       "      <th>max</th>\n",
       "      <td>1.750000e-01</td>\n",
       "      <td>1.750000e-01</td>\n",
       "      <td>1.750000e-01</td>\n",
       "      <td>0.175000</td>\n",
       "    </tr>\n",
       "  </tbody>\n",
       "</table>\n",
       "</div>"
      ],
      "text/plain": [
       "        misc_amount   misc_amount   misc_amount  misc_amount\n",
       "count  3.464923e+06  1.143735e+07  1.173877e+06  2355.000000\n",
       "mean   1.813801e-02  5.852632e-02  1.366336e-01     0.144308\n",
       "std    2.184767e-02  4.562252e-02  2.698913e-02     0.020131\n",
       "min    0.000000e+00  0.000000e+00  0.000000e+00     0.000000\n",
       "25%    0.000000e+00  2.000000e-02  1.200000e-01     0.140000\n",
       "50%    1.000000e-02  5.500000e-02  1.400000e-01     0.140000\n",
       "75%    3.000000e-02  9.250000e-02  1.575000e-01     0.160000\n",
       "max    1.750000e-01  1.750000e-01  1.750000e-01     0.175000"
      ]
     },
     "execution_count": 54,
     "metadata": {},
     "output_type": "execute_result"
    }
   ],
   "source": [
    "misc_amount"
   ]
  },
  {
   "cell_type": "markdown",
   "metadata": {},
   "source": [
    "By looking at the summary statistics above, it can be seen that the tip in each class may be similar; hence, one will try to refine the cluster by removing the tip"
   ]
  },
  {
   "cell_type": "code",
   "execution_count": 103,
   "metadata": {},
   "outputs": [
    {
     "data": {
      "text/html": [
       "<div>\n",
       "<style scoped>\n",
       "    .dataframe tbody tr th:only-of-type {\n",
       "        vertical-align: middle;\n",
       "    }\n",
       "\n",
       "    .dataframe tbody tr th {\n",
       "        vertical-align: top;\n",
       "    }\n",
       "\n",
       "    .dataframe thead th {\n",
       "        text-align: right;\n",
       "    }\n",
       "</style>\n",
       "<table border=\"1\" class=\"dataframe\">\n",
       "  <thead>\n",
       "    <tr style=\"text-align: right;\">\n",
       "      <th></th>\n",
       "      <th>index</th>\n",
       "      <th>trip_count</th>\n",
       "      <th>tip_amount</th>\n",
       "      <th>clean_fare_distance</th>\n",
       "      <th>fare_per_minute</th>\n",
       "      <th>misc_amount</th>\n",
       "      <th>trip_count_block</th>\n",
       "      <th>tip_amount_block</th>\n",
       "      <th>clean_fare_distance_block</th>\n",
       "      <th>fare_per_minute_block</th>\n",
       "      <th>misc_amount_block</th>\n",
       "      <th>score</th>\n",
       "      <th>score_block</th>\n",
       "      <th>score_block_kmeans</th>\n",
       "      <th>score_block_pca</th>\n",
       "      <th>new_score</th>\n",
       "      <th>new_score_block</th>\n",
       "    </tr>\n",
       "  </thead>\n",
       "  <tbody>\n",
       "    <tr>\n",
       "      <th>0</th>\n",
       "      <td>0</td>\n",
       "      <td>1.0</td>\n",
       "      <td>0.00</td>\n",
       "      <td>5.382422</td>\n",
       "      <td>0.961098</td>\n",
       "      <td>0.00</td>\n",
       "      <td>1</td>\n",
       "      <td>1</td>\n",
       "      <td>2</td>\n",
       "      <td>2</td>\n",
       "      <td>1</td>\n",
       "      <td>7</td>\n",
       "      <td>1</td>\n",
       "      <td>2</td>\n",
       "      <td>1</td>\n",
       "      <td>5</td>\n",
       "      <td>1</td>\n",
       "    </tr>\n",
       "    <tr>\n",
       "      <th>1</th>\n",
       "      <td>1</td>\n",
       "      <td>1.0</td>\n",
       "      <td>0.00</td>\n",
       "      <td>2.470896</td>\n",
       "      <td>1.515615</td>\n",
       "      <td>0.09</td>\n",
       "      <td>1</td>\n",
       "      <td>1</td>\n",
       "      <td>1</td>\n",
       "      <td>3</td>\n",
       "      <td>3</td>\n",
       "      <td>9</td>\n",
       "      <td>2</td>\n",
       "      <td>3</td>\n",
       "      <td>1</td>\n",
       "      <td>8</td>\n",
       "      <td>2</td>\n",
       "    </tr>\n",
       "    <tr>\n",
       "      <th>2</th>\n",
       "      <td>2</td>\n",
       "      <td>1.0</td>\n",
       "      <td>0.17</td>\n",
       "      <td>5.779702</td>\n",
       "      <td>0.987342</td>\n",
       "      <td>0.05</td>\n",
       "      <td>1</td>\n",
       "      <td>3</td>\n",
       "      <td>2</td>\n",
       "      <td>2</td>\n",
       "      <td>2</td>\n",
       "      <td>10</td>\n",
       "      <td>2</td>\n",
       "      <td>1</td>\n",
       "      <td>1</td>\n",
       "      <td>8</td>\n",
       "      <td>2</td>\n",
       "    </tr>\n",
       "    <tr>\n",
       "      <th>3</th>\n",
       "      <td>3</td>\n",
       "      <td>1.0</td>\n",
       "      <td>0.17</td>\n",
       "      <td>3.096418</td>\n",
       "      <td>1.096052</td>\n",
       "      <td>0.01</td>\n",
       "      <td>1</td>\n",
       "      <td>3</td>\n",
       "      <td>2</td>\n",
       "      <td>2</td>\n",
       "      <td>1</td>\n",
       "      <td>9</td>\n",
       "      <td>2</td>\n",
       "      <td>4</td>\n",
       "      <td>1</td>\n",
       "      <td>7</td>\n",
       "      <td>2</td>\n",
       "    </tr>\n",
       "    <tr>\n",
       "      <th>4</th>\n",
       "      <td>4</td>\n",
       "      <td>1.0</td>\n",
       "      <td>0.08</td>\n",
       "      <td>3.004514</td>\n",
       "      <td>1.038552</td>\n",
       "      <td>0.00</td>\n",
       "      <td>1</td>\n",
       "      <td>1</td>\n",
       "      <td>1</td>\n",
       "      <td>2</td>\n",
       "      <td>1</td>\n",
       "      <td>6</td>\n",
       "      <td>1</td>\n",
       "      <td>2</td>\n",
       "      <td>1</td>\n",
       "      <td>5</td>\n",
       "      <td>1</td>\n",
       "    </tr>\n",
       "  </tbody>\n",
       "</table>\n",
       "</div>"
      ],
      "text/plain": [
       "   index  trip_count  tip_amount  clean_fare_distance  fare_per_minute  \\\n",
       "0      0         1.0        0.00             5.382422         0.961098   \n",
       "1      1         1.0        0.00             2.470896         1.515615   \n",
       "2      2         1.0        0.17             5.779702         0.987342   \n",
       "3      3         1.0        0.17             3.096418         1.096052   \n",
       "4      4         1.0        0.08             3.004514         1.038552   \n",
       "\n",
       "   misc_amount  trip_count_block  tip_amount_block  clean_fare_distance_block  \\\n",
       "0         0.00                 1                 1                          2   \n",
       "1         0.09                 1                 1                          1   \n",
       "2         0.05                 1                 3                          2   \n",
       "3         0.01                 1                 3                          2   \n",
       "4         0.00                 1                 1                          1   \n",
       "\n",
       "   fare_per_minute_block  misc_amount_block  score score_block  \\\n",
       "0                      2                  1      7           1   \n",
       "1                      3                  3      9           2   \n",
       "2                      2                  2     10           2   \n",
       "3                      2                  1      9           2   \n",
       "4                      2                  1      6           1   \n",
       "\n",
       "   score_block_kmeans  score_block_pca  new_score new_score_block  \n",
       "0                   2                1          5               1  \n",
       "1                   3                1          8               2  \n",
       "2                   1                1          8               2  \n",
       "3                   4                1          7               2  \n",
       "4                   2                1          5               1  "
      ]
     },
     "execution_count": 103,
     "metadata": {},
     "output_type": "execute_result"
    }
   ],
   "source": [
    "arr.head()"
   ]
  },
  {
   "cell_type": "code",
   "execution_count": 180,
   "metadata": {},
   "outputs": [],
   "source": [
    "arr['new_score'] = arr['clean_fare_distance']+arr['trip_count_block']+arr['fare_per_minute_block']+arr['misc_amount_block']\n"
   ]
  },
  {
   "cell_type": "code",
   "execution_count": 176,
   "metadata": {},
   "outputs": [],
   "source": [
    "def binning(data, att):\n",
    "    for attribute, k in att:\n",
    "        name = f\"{attribute}_block\"\n",
    "        blocks = list(np.linspace(min(data[attribute].values), max(data[attribute].values), k+1))\n",
    "        data[name] = pd.cut(data[attribute].values, blocks, labels=list(range(1, k+1)), include_lowest = True)\n",
    "    return data"
   ]
  },
  {
   "cell_type": "code",
   "execution_count": 181,
   "metadata": {},
   "outputs": [],
   "source": [
    "arr = binning(arr, [['new_score', 4]])"
   ]
  },
  {
   "cell_type": "markdown",
   "metadata": {},
   "source": [
    "Here, the amount of label 4 has increased more compared to the previous block"
   ]
  },
  {
   "cell_type": "code",
   "execution_count": 166,
   "metadata": {},
   "outputs": [],
   "source": [
    "class ClusterMetrics:\n",
    "    \n",
    "    \"\"\"\n",
    "    This metrics is the WSSE/BSSE\n",
    "    \"\"\"\n",
    "    \n",
    "    def __init__(self, X, y, y_name, scaled = True):\n",
    "        self.X = X.copy()\n",
    "        self.y = y\n",
    "        self.y_name = y_name\n",
    "        self.clusters = self.y[self.y_name].unique()\n",
    "    \n",
    "    def scaler(self):\n",
    "        scaler = MinMaxScaler()\n",
    "        self.X[self.X.columns] = scaler.fit_transform(self.X)\n",
    "    \n",
    "    def eval_cluster(self):\n",
    "        \n",
    "        if self.scaler:\n",
    "            self.scaler()\n",
    "        \n",
    "        cohesion = 0\n",
    "        separation = 0\n",
    "        whole_cluster = np.array(np.mean(self.X)).reshape(1, -1)\n",
    "        \n",
    "        # iterate each cluster \n",
    "        for each_cluster in self.clusters:\n",
    "            index_y = list(self.y.loc[self.y[self.y_name]==each_cluster, :].index)\n",
    "            sliced_X = self.X.loc[index_y, :]\n",
    "            centroid = np.array(np.mean(sliced_X)).reshape(1, -1)\n",
    "            \n",
    "            # calculate the distance between each points and centroid only in the cluster\n",
    "            sliced_X = euclidean_distances(sliced_X, centroid)\n",
    "            cohesion += sliced_X.sum()\n",
    "            \n",
    "            # separation\n",
    "            n = len(sliced_X)\n",
    "            separation += euclidean_distances(whole_cluster, centroid)[0][0]*n\n",
    "            \n",
    "        return (cohesion, separation, cohesion/separation)\n",
    "\n",
    "            "
   ]
  },
  {
   "cell_type": "code",
   "execution_count": 167,
   "metadata": {},
   "outputs": [],
   "source": [
    "def stratify_sample(data, att, n):\n",
    "    lst_data = []\n",
    "    unique_att = data[att].unique()\n",
    "    for each_label in unique_att:\n",
    "        lst_data.append(data[data[att]==each_label].sample(n=n))\n",
    "    samples = lst_data[0]\n",
    "    for each_data in lst_data[1:]:\n",
    "        samples = pd.concat([samples, each_data])\n",
    "    return samples"
   ]
  },
  {
   "cell_type": "code",
   "execution_count": 182,
   "metadata": {},
   "outputs": [],
   "source": [
    "new_arr = arr.copy()\n",
    "new_arr = new_arr[['trip_count','clean_fare_distance', 'fare_per_minute', 'misc_amount', 'new_score_block']]"
   ]
  },
  {
   "cell_type": "code",
   "execution_count": 183,
   "metadata": {},
   "outputs": [
    {
     "name": "stdout",
     "output_type": "stream",
     "text": [
      "Result: \n",
      "Cohesion: 4033871.9043291504\n",
      "Seperation: 1597757.4934513976\n",
      "Cohesion/Seperation: 2.52470848727824\n"
     ]
    }
   ],
   "source": [
    "# score block manual cluster check\n",
    "check = ClusterMetrics(new_arr[new_arr.columns[:4]],pd.DataFrame(new_arr[new_arr.columns[-1]]), 'new_score_block')\n",
    "res = check.eval_cluster()\n",
    "\n",
    "print('Result: ')\n",
    "print('Cohesion:', res[0])\n",
    "print('Seperation:', res[1])\n",
    "print('Cohesion/Seperation:', res[-1])"
   ]
  },
  {
   "cell_type": "markdown",
   "metadata": {},
   "source": [
    "As you can see, the result if worst than the old clusters; hence, it may be best to continue using the old cluster instead."
   ]
  }
 ],
 "metadata": {
  "kernelspec": {
   "display_name": "Python 3",
   "language": "python",
   "name": "python3"
  },
  "language_info": {
   "codemirror_mode": {
    "name": "ipython",
    "version": 3
   },
   "file_extension": ".py",
   "mimetype": "text/x-python",
   "name": "python",
   "nbconvert_exporter": "python",
   "pygments_lexer": "ipython3",
   "version": "3.6.9"
  }
 },
 "nbformat": 4,
 "nbformat_minor": 4
}
